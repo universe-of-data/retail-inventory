{
 "cells": [
  {
   "cell_type": "code",
   "execution_count": 0,
   "metadata": {
    "application/vnd.databricks.v1+cell": {
     "cellMetadata": {
      "byteLimit": 2048000,
      "rowLimit": 10000
     },
     "inputWidgets": {},
     "nuid": "ea707009-3d0f-4faa-9324-e2daa772885b",
     "showTitle": true,
     "title": "Reading Data from Azure SQL Database"
    }
   },
   "outputs": [
    {
     "output_type": "stream",
     "name": "stdout",
     "output_type": "stream",
     "text": [
      "Data ingestion to Bronze layer completed.\n"
     ]
    }
   ],
   "source": [
    "#### The code connects to an Azure SQL Database, reads specified tables, and ingests the data into a designated directory in Delta format, overwriting any existing data. The ingested data is part of the \"Bronze layer,\" which typically represents raw or minimally processed data in a data lake or data warehouse architecture.\n",
    "\n",
    "from pyspark.sql import SparkSession\n",
    "\n",
    "# Initialize Spark Session\n",
    "spark = SparkSession.builder.appName(\"BronzeLayer\").getOrCreate()\n",
    "\n",
    "# Define connection properties for Azure SQL Database\n",
    "jdbc_url = \"jdbc:sqlserver://azureserverrakshitha.database.windows.net:1433;database=SqlDatabase\"\n",
    "sqlserver_properties = {\n",
    "    \"user\": \"rakshitha\",\n",
    "    \"password\": \"Vasavi@06\",\n",
    "    \"driver\": \"com.microsoft.sqlserver.jdbc.SQLServerDriver\"\n",
    "}\n",
    "\n",
    "# List of tables to be ingested from Azure SQL Database\n",
    "tables = [\"SourceSalesTransactions\", \"SourceInventoryLogs\", \"SourceCustomerData\"]  \n",
    "\n",
    "# Base path for storing Bronze layer data\n",
    "bronze_base_path = \"/bronze\"\n",
    "\n",
    "# Function to read and write each table\n",
    "def ingest_table(table_name):\n",
    "    query = f\"(SELECT * FROM {table_name}) AS {table_name}\"\n",
    "    df = spark.read.jdbc(url=jdbc_url, table=query, properties=sqlserver_properties)\n",
    "    df.write.format(\"delta\").mode(\"overwrite\").save(bronze_base_path + table_name)\n",
    "\n",
    "# Iterate over the list of tables and ingest each one\n",
    "for table in tables:\n",
    "    ingest_table(table)\n",
    "\n",
    "print(\"Data ingestion to Bronze layer completed.\")\n"
   ]
  },
  {
   "cell_type": "code",
   "execution_count": 0,
   "metadata": {
    "application/vnd.databricks.v1+cell": {
     "cellMetadata": {
      "byteLimit": 2048000,
      "rowLimit": 10000
     },
     "inputWidgets": {},
     "nuid": "7930c776-a36b-4622-af14-514c746ffd90",
     "showTitle": true,
     "title": "Read the tables from bronze layer and save in df"
    }
   },
   "outputs": [
    {
     "output_type": "stream",
     "name": "stdout",
     "output_type": "stream",
     "text": [
      "+-------------+----------+---------+--------+-------------------+\n|TransactionID|CustomerID|ProductID|Quantity|          Timestamp|\n+-------------+----------+---------+--------+-------------------+\n|            1|       186|     P010|       9|2024-06-01 23:23:00|\n|            2|       117|     P004|       6|2024-06-01 16:16:00|\n|            3|       137|     P001|       5|2024-06-01 00:16:00|\n|            4|       198|     P007|       6|2024-06-01 13:09:00|\n|            5|       199|     P009|      10|2024-06-01 07:04:00|\n|            6|       144|     P008|       6|2024-06-01 22:21:00|\n|            7|       146|     P004|       2|2024-06-01 20:58:00|\n|            8|       139|     P009|       8|2024-06-01 20:10:00|\n|            9|       101|     P005|       8|2024-06-01 15:52:00|\n|           10|       169|     P008|       5|2024-06-01 14:50:00|\n|           11|       150|     P010|       5|2024-06-01 11:05:00|\n|           12|       184|     P007|       3|2024-06-01 03:31:00|\n|           13|       144|     P010|       8|2024-06-01 22:53:00|\n|           14|       146|     P006|       1|2024-06-01 11:45:00|\n|           15|       175|     P007|       7|2024-06-01 09:46:00|\n|           16|       183|     P010|       2|2024-06-01 08:49:00|\n|           17|       184|     P002|       7|2024-06-01 12:55:00|\n|           18|       129|     P004|       3|2024-06-01 14:18:00|\n|           19|       153|     P004|       7|2024-06-01 20:02:00|\n|           20|       110|     P004|       1|2024-06-01 07:14:00|\n+-------------+----------+---------+--------+-------------------+\nonly showing top 20 rows\n\n+-----+---------+--------+--------+----------+\n|LogID|ProductID|  Action|Quantity|      Date|\n+-----+---------+--------+--------+----------+\n|   16|     P001|    Sold|       7|2024-05-08|\n|   55|     P002|Received|       2|2024-05-07|\n|   24|     P003|    Sold|      10|2024-04-19|\n|   88|     P002|    Sold|       9|2024-01-29|\n|    4|     P002|Received|       8|2024-01-08|\n|   10|     P001|    Sold|       1|2024-05-04|\n|   66|     P001|Received|       1|2024-01-23|\n|   59|     P001|Received|       3|2024-01-20|\n|   18|     P002|    Sold|       5|2024-02-14|\n|   90|     P002|Received|       3|2024-01-15|\n|    5|     P001|    Sold|       8|2024-05-06|\n|   20|     P003|Received|       3|2024-03-20|\n|   43|     P003|Received|       9|2024-05-26|\n|   40|     P002|    Sold|       4|2024-05-02|\n|   74|     P002|    Sold|      10|2024-03-19|\n|   23|     P002|    Sold|       4|2024-05-11|\n|   17|     P002|    Sold|       7|2024-02-10|\n|   41|     P002|    Sold|       9|2024-04-11|\n|   69|     P002|Received|      10|2024-03-16|\n|   70|     P002|    Sold|       1|2024-02-15|\n+-----+---------+--------+--------+----------+\nonly showing top 20 rows\n\n+----------+----------+---+------+------------------+--------------------+\n|CustomerID|      Name|Age|Gender|   PurchaseHistory|         Preferences|\n+----------+----------+---+------+------------------+--------------------+\n|         1| Customer1| 26|Female|ProductY, ProductT|CategoryW, CategoryD|\n|         2| Customer2| 20|Female|ProductJ, ProductS|CategoryQ, CategoryY|\n|         3| Customer3| 61|  Male|ProductW, ProductQ|CategoryL, CategoryK|\n|         4| Customer4| 55|  Male|ProductE, ProductC|CategoryV, CategoryX|\n|         5| Customer5| 30|  Male|ProductG, ProductT|CategoryD, CategoryG|\n|         6| Customer6| 63|Female|ProductI, ProductW|CategoryM, CategoryT|\n|         7| Customer7| 39|Female|ProductX, ProductS|CategoryX, CategoryJ|\n|         8| Customer8| 27|Female|ProductK, ProductI|CategoryL, CategoryF|\n|         9| Customer9| 58|  Male|ProductO, ProductI|CategoryY, CategoryW|\n|        10|Customer10| 43|Female|ProductV, ProductI|CategoryY, CategoryY|\n|        11|Customer11| 66|Female|ProductU, ProductV|CategoryU, CategoryM|\n|        12|Customer12| 66|  Male|ProductL, ProductO|CategoryJ, CategoryD|\n|        13|Customer13| 47|  Male|ProductC, ProductK|CategoryR, CategoryF|\n|        14|Customer14| 21|  Male|ProductL, ProductQ|CategoryW, CategoryN|\n|        15|Customer15| 65|Female|ProductD, ProductS|CategoryF, CategoryX|\n|        16|Customer16| 65|Female|ProductG, ProductW|CategoryQ, CategoryP|\n|        17|Customer17| 21|  Male|ProductM, ProductL|CategoryV, CategoryX|\n|        18|Customer18| 22|  Male|ProductA, ProductU|CategoryW, CategoryB|\n|        19|Customer19| 49|Female|ProductY, ProductN|CategoryV, CategoryP|\n|        20|Customer20| 40|  Male|ProductW, ProductU|CategoryH, CategoryC|\n+----------+----------+---+------+------------------+--------------------+\nonly showing top 20 rows\n\n"
     ]
    }
   ],
   "source": [
    "# Dictionary to store DataFrames\n",
    "dataframes = {}\n",
    "\n",
    "# Function to read each table into a DataFrame\n",
    "def read_table_to_df(table_name):\n",
    "    df = spark.read.format(\"delta\").load(bronze_base_path + table_name)\n",
    "    return df\n",
    "\n",
    "# Iterate over the list of tables and read each one into a DataFrame\n",
    "for table in tables:\n",
    "    dataframes[table] = read_table_to_df(table)\n",
    "\n",
    "# Now you can access the DataFrames from the dictionary\n",
    "df_transaction = dataframes[\"SourceSalesTransactions\"]\n",
    "df_inventory = dataframes[\"SourceInventoryLogs\"]\n",
    "df_customerdata = dataframes[\"SourceCustomerData\"]\n",
    "\n",
    "# Display the DataFrames to verify the data\n",
    "df_transaction.show()\n",
    "df_inventory.show()\n",
    "df_customerdata.show()\n"
   ]
  },
  {
   "cell_type": "code",
   "execution_count": 0,
   "metadata": {
    "application/vnd.databricks.v1+cell": {
     "cellMetadata": {
      "byteLimit": 2048000,
      "rowLimit": 10000
     },
     "inputWidgets": {},
     "nuid": "7e8611d4-7ba9-40a8-bcae-57fdc42e4c27",
     "showTitle": false,
     "title": ""
    }
   },
   "outputs": [
    {
     "output_type": "execute_result",
     "data": {
      "text/plain": [
       "700"
      ]
     },
     "execution_count": 39,
     "metadata": {},
     "output_type": "execute_result"
    }
   ],
   "source": [
    "df_transaction.count()"
   ]
  },
  {
   "cell_type": "code",
   "execution_count": 0,
   "metadata": {
    "application/vnd.databricks.v1+cell": {
     "cellMetadata": {
      "byteLimit": 2048000,
      "rowLimit": 10000
     },
     "inputWidgets": {},
     "nuid": "60ec62bf-5227-4ecf-a0c3-748703409e98",
     "showTitle": false,
     "title": ""
    }
   },
   "outputs": [
    {
     "output_type": "execute_result",
     "data": {
      "text/plain": [
       "700"
      ]
     },
     "execution_count": 40,
     "metadata": {},
     "output_type": "execute_result"
    }
   ],
   "source": [
    "df_inventory.count()"
   ]
  },
  {
   "cell_type": "code",
   "execution_count": 0,
   "metadata": {
    "application/vnd.databricks.v1+cell": {
     "cellMetadata": {
      "byteLimit": 2048000,
      "rowLimit": 10000
     },
     "inputWidgets": {},
     "nuid": "eea49a26-e3b1-4f7f-b5cd-6a74aae7cc4d",
     "showTitle": false,
     "title": ""
    }
   },
   "outputs": [
    {
     "output_type": "execute_result",
     "data": {
      "text/plain": [
       "1500"
      ]
     },
     "execution_count": 41,
     "metadata": {},
     "output_type": "execute_result"
    }
   ],
   "source": [
    "df_customerdata.count()"
   ]
  },
  {
   "cell_type": "code",
   "execution_count": 0,
   "metadata": {
    "application/vnd.databricks.v1+cell": {
     "cellMetadata": {
      "byteLimit": 2048000,
      "rowLimit": 10000
     },
     "inputWidgets": {},
     "nuid": "d66021d5-dd72-4833-bdf6-1006b3933343",
     "showTitle": true,
     "title": "Perform data Cleansing and Transformation and save it to silver layer"
    }
   },
   "outputs": [],
   "source": [
    "from pyspark.sql.functions import col, split, explode, trim, sum, avg\n",
    "\n",
    "# Explode PurchaseHistory and Preferences\n",
    "df_customerdata = df_customerdata.withColumn(\"PurchaseHistory\", explode(split(col(\"PurchaseHistory\"), \", \")))\n",
    "df_customerdata = df_customerdata.withColumn(\"Preferences\", explode(split(col(\"Preferences\"), \", \")))\n",
    "\n",
    "# Example data cleansing: Trimming spaces from strings\n",
    "df_customerdata = df_customerdata.withColumn(\"PurchaseHistory\", trim(col(\"PurchaseHistory\")))\n",
    "df_customerdata = df_customerdata.withColumn(\"Preferences\", trim(col(\"Preferences\")))\n",
    "\n",
    "# Join transaction data with customer data on CustomerID and drop duplicate CustomerID column\n",
    "df_combined = df_transaction.join(df_customerdata, df_transaction.CustomerID == df_customerdata.CustomerID, \"inner\") \\\n",
    "                            .drop(df_customerdata.CustomerID)\n",
    "\n",
    "# Selecting relevant columns for analysis\n",
    "df_combined = df_combined.select(\n",
    "    df_combined.TransactionID,\n",
    "    df_combined.CustomerID,\n",
    "    df_combined.Name,\n",
    "    df_combined.Age,\n",
    "    df_combined.Gender,\n",
    "    df_combined.ProductID,\n",
    "    df_combined.Quantity,\n",
    "    df_combined.Timestamp,\n",
    "    df_combined.PurchaseHistory,\n",
    "    df_combined.Preferences\n",
    ")\n"
   ]
  },
  {
   "cell_type": "code",
   "execution_count": 0,
   "metadata": {
    "application/vnd.databricks.v1+cell": {
     "cellMetadata": {
      "byteLimit": 2048000,
      "rowLimit": 10000
     },
     "inputWidgets": {},
     "nuid": "6c3ee128-5489-485f-a718-04dbcdac5d97",
     "showTitle": false,
     "title": ""
    }
   },
   "outputs": [
    {
     "output_type": "stream",
     "name": "stdout",
     "output_type": "stream",
     "text": [
      "Cleaned Data:\n+----------+-------------+-----------+---+------+---------+--------+-------------------+---------------+-----------+--------------+-----------------------+\n|CustomerID|TransactionID|Name       |Age|Gender|ProductID|Quantity|Timestamp          |PurchaseHistory|Preferences|TotalPurchases|AveragePurchaseQuantity|\n+----------+-------------+-----------+---+------+---------+--------+-------------------+---------------+-----------+--------------+-----------------------+\n|148       |677          |Customer148|44 |Male  |P003     |2       |2024-06-01 05:28:00|ProductX       |CategoryH  |200           |5.0                    |\n|148       |677          |Customer148|44 |Male  |P003     |2       |2024-06-01 05:28:00|ProductX       |CategoryT  |200           |5.0                    |\n|148       |677          |Customer148|44 |Male  |P003     |2       |2024-06-01 05:28:00|ProductF       |CategoryH  |200           |5.0                    |\n|148       |677          |Customer148|44 |Male  |P003     |2       |2024-06-01 05:28:00|ProductF       |CategoryT  |200           |5.0                    |\n|148       |596          |Customer148|44 |Male  |P002     |4       |2024-06-01 20:45:00|ProductX       |CategoryH  |200           |5.0                    |\n|148       |596          |Customer148|44 |Male  |P002     |4       |2024-06-01 20:45:00|ProductX       |CategoryT  |200           |5.0                    |\n|148       |596          |Customer148|44 |Male  |P002     |4       |2024-06-01 20:45:00|ProductF       |CategoryH  |200           |5.0                    |\n|148       |596          |Customer148|44 |Male  |P002     |4       |2024-06-01 20:45:00|ProductF       |CategoryT  |200           |5.0                    |\n|148       |562          |Customer148|44 |Male  |P010     |1       |2024-06-01 22:27:00|ProductX       |CategoryH  |200           |5.0                    |\n|148       |562          |Customer148|44 |Male  |P010     |1       |2024-06-01 22:27:00|ProductX       |CategoryT  |200           |5.0                    |\n|148       |562          |Customer148|44 |Male  |P010     |1       |2024-06-01 22:27:00|ProductF       |CategoryH  |200           |5.0                    |\n|148       |562          |Customer148|44 |Male  |P010     |1       |2024-06-01 22:27:00|ProductF       |CategoryT  |200           |5.0                    |\n|148       |492          |Customer148|44 |Male  |P004     |10      |2024-06-01 07:47:00|ProductX       |CategoryH  |200           |5.0                    |\n|148       |492          |Customer148|44 |Male  |P004     |10      |2024-06-01 07:47:00|ProductX       |CategoryT  |200           |5.0                    |\n|148       |492          |Customer148|44 |Male  |P004     |10      |2024-06-01 07:47:00|ProductF       |CategoryH  |200           |5.0                    |\n|148       |492          |Customer148|44 |Male  |P004     |10      |2024-06-01 07:47:00|ProductF       |CategoryT  |200           |5.0                    |\n|148       |355          |Customer148|44 |Male  |P001     |8       |2024-06-01 04:20:00|ProductX       |CategoryH  |200           |5.0                    |\n|148       |355          |Customer148|44 |Male  |P001     |8       |2024-06-01 04:20:00|ProductX       |CategoryT  |200           |5.0                    |\n|148       |355          |Customer148|44 |Male  |P001     |8       |2024-06-01 04:20:00|ProductF       |CategoryH  |200           |5.0                    |\n|148       |355          |Customer148|44 |Male  |P001     |8       |2024-06-01 04:20:00|ProductF       |CategoryT  |200           |5.0                    |\n+----------+-------------+-----------+---+------+---------+--------+-------------------+---------------+-----------+--------------+-----------------------+\nonly showing top 20 rows\n\n+----------+-------------+-----------+---+------+---------+--------+-------------------+---------------+-----------+--------------+-----------------------+\n|CustomerID|TransactionID|Name       |Age|Gender|ProductID|Quantity|Timestamp          |PurchaseHistory|Preferences|TotalPurchases|AveragePurchaseQuantity|\n+----------+-------------+-----------+---+------+---------+--------+-------------------+---------------+-----------+--------------+-----------------------+\n|100       |601          |Customer100|52 |Female|P008     |6       |2024-06-01 11:19:00|ProductQ       |CategoryT  |672           |6.222222222222222      |\n|100       |601          |Customer100|52 |Female|P008     |6       |2024-06-01 11:19:00|ProductQ       |CategoryC  |672           |6.222222222222222      |\n|100       |601          |Customer100|52 |Female|P008     |6       |2024-06-01 11:19:00|ProductO       |CategoryT  |672           |6.222222222222222      |\n|100       |601          |Customer100|52 |Female|P008     |6       |2024-06-01 11:19:00|ProductO       |CategoryC  |672           |6.222222222222222      |\n|100       |601          |Customer100|68 |Male  |P008     |6       |2024-06-01 11:19:00|ProductH       |CategoryN  |672           |6.222222222222222      |\n|100       |601          |Customer100|68 |Male  |P008     |6       |2024-06-01 11:19:00|ProductH       |CategoryL  |672           |6.222222222222222      |\n|100       |601          |Customer100|68 |Male  |P008     |6       |2024-06-01 11:19:00|ProductC       |CategoryN  |672           |6.222222222222222      |\n|100       |601          |Customer100|68 |Male  |P008     |6       |2024-06-01 11:19:00|ProductC       |CategoryL  |672           |6.222222222222222      |\n|101       |623          |Customer101|48 |Male  |P004     |5       |2024-06-01 05:46:00|ProductS       |CategoryC  |312           |6.5                    |\n|101       |623          |Customer101|48 |Male  |P004     |5       |2024-06-01 05:46:00|ProductS       |CategoryQ  |312           |6.5                    |\n|101       |623          |Customer101|48 |Male  |P004     |5       |2024-06-01 05:46:00|ProductH       |CategoryC  |312           |6.5                    |\n|101       |623          |Customer101|48 |Male  |P004     |5       |2024-06-01 05:46:00|ProductH       |CategoryQ  |312           |6.5                    |\n|102       |657          |Customer102|70 |Male  |P003     |9       |2024-06-01 14:50:00|ProductE       |CategoryF  |496           |5.166666666666667      |\n|102       |657          |Customer102|70 |Male  |P003     |9       |2024-06-01 14:50:00|ProductE       |CategoryU  |496           |5.166666666666667      |\n|102       |657          |Customer102|70 |Male  |P003     |9       |2024-06-01 14:50:00|ProductT       |CategoryF  |496           |5.166666666666667      |\n|102       |657          |Customer102|70 |Male  |P003     |9       |2024-06-01 14:50:00|ProductT       |CategoryU  |496           |5.166666666666667      |\n|103       |539          |Customer103|39 |Male  |P009     |8       |2024-06-01 20:23:00|ProductH       |CategoryD  |360           |9.0                    |\n|103       |539          |Customer103|39 |Male  |P009     |8       |2024-06-01 20:23:00|ProductH       |CategoryR  |360           |9.0                    |\n|103       |539          |Customer103|39 |Male  |P009     |8       |2024-06-01 20:23:00|ProductA       |CategoryD  |360           |9.0                    |\n|103       |539          |Customer103|39 |Male  |P009     |8       |2024-06-01 20:23:00|ProductA       |CategoryR  |360           |9.0                    |\n+----------+-------------+-----------+---+------+---------+--------+-------------------+---------------+-----------+--------------+-----------------------+\nonly showing top 20 rows\n\nRow count: 5636\n"
     ]
    }
   ],
   "source": [
    "# Calculate total purchases and average purchase quantity per customer\n",
    "df_features = df_combined.groupBy(\"CustomerID\").agg(\n",
    "    sum(\"Quantity\").alias(\"TotalPurchases\"),\n",
    "    avg(\"Quantity\").alias(\"AveragePurchaseQuantity\")\n",
    ")\n",
    "\n",
    "# Join the features back with the combined DataFrame\n",
    "df_combined = df_combined.join(df_features, \"CustomerID\", \"inner\")\n",
    "\n",
    "#No missing values detected, Removing duplicates and Standardizing timestamp format\n",
    "\n",
    "# Define schema for the data\n",
    "schema = \"CustomerID INT, TransactionID INT, Name STRING, Age INT, Gender STRING, ProductID STRING, Quantity INT, Timestamp TIMESTAMP, PurchaseHistory STRING, Preferences STRING, TotalPurchases INT, AveragePurchaseQuantity DOUBLE\"\n",
    "\n",
    "# Cleanse data\n",
    "df_cleaned = df_combined.dropDuplicates()  # Remove duplicates\n",
    "df_cleaned = df_cleaned.withColumn(\"Timestamp\", col(\"Timestamp\").cast(\"timestamp\"))\n",
    "\n",
    "# Show cleansed data\n",
    "print(\"Cleaned Data:\")\n",
    "df_cleaned.show(truncate=False)\n",
    "\n",
    "# Show the final DataFrame with enriched data and new features\n",
    "df_combined.show(truncate=False)\n",
    "print(\"Row count:\", df_combined.count())\n",
    "\n",
    "# Define the Silver layer base path\n",
    "silver_base_path = \"/silver/\"\n",
    "\n",
    "# Write the transformed DataFrame to the Silver layer in Delta format\n",
    "df_combined.write.format(\"delta\").mode(\"overwrite\").save(silver_base_path + \"enriched_data\")"
   ]
  },
  {
   "cell_type": "code",
   "execution_count": 0,
   "metadata": {
    "application/vnd.databricks.v1+cell": {
     "cellMetadata": {
      "byteLimit": 2048000,
      "rowLimit": 10000
     },
     "inputWidgets": {},
     "nuid": "d5784b62-e7e4-4bc3-9030-feb3c9308d3a",
     "showTitle": true,
     "title": "Perform some aggregation in silver layer and send data to gold layer"
    }
   },
   "outputs": [
    {
     "output_type": "display_data",
     "data": {
      "text/html": [
       "<style scoped>\n",
       "  .table-result-container {\n",
       "    max-height: 300px;\n",
       "    overflow: auto;\n",
       "  }\n",
       "  table, th, td {\n",
       "    border: 1px solid black;\n",
       "    border-collapse: collapse;\n",
       "  }\n",
       "  th, td {\n",
       "    padding: 5px;\n",
       "  }\n",
       "  th {\n",
       "    text-align: left;\n",
       "  }\n",
       "</style><div class='table-result-container'><table class='table-result'><thead style='background-color: white'><tr><th>CustomerID</th><th>Year</th><th>Month</th><th>TotalPurchases</th><th>AveragePurchaseQuantity</th></tr></thead><tbody><tr><td>102</td><td>2024</td><td>6</td><td>496</td><td>5.166666666666667</td></tr><tr><td>146</td><td>2024</td><td>6</td><td>248</td><td>5.166666666666667</td></tr><tr><td>180</td><td>2024</td><td>6</td><td>280</td><td>4.375</td></tr><tr><td>111</td><td>2024</td><td>6</td><td>488</td><td>6.777777777777778</td></tr><tr><td>154</td><td>2024</td><td>6</td><td>112</td><td>4.666666666666667</td></tr><tr><td>195</td><td>2024</td><td>6</td><td>424</td><td>5.888888888888889</td></tr><tr><td>122</td><td>2024</td><td>6</td><td>184</td><td>5.75</td></tr><tr><td>131</td><td>2024</td><td>6</td><td>496</td><td>5.166666666666667</td></tr><tr><td>124</td><td>2024</td><td>6</td><td>120</td><td>7.5</td></tr><tr><td>158</td><td>2024</td><td>6</td><td>384</td><td>6.857142857142857</td></tr><tr><td>190</td><td>2024</td><td>6</td><td>296</td><td>4.625</td></tr><tr><td>112</td><td>2024</td><td>6</td><td>280</td><td>5.0</td></tr><tr><td>107</td><td>2024</td><td>6</td><td>288</td><td>7.2</td></tr><tr><td>133</td><td>2024</td><td>6</td><td>72</td><td>9.0</td></tr><tr><td>105</td><td>2024</td><td>6</td><td>224</td><td>5.6</td></tr><tr><td>121</td><td>2024</td><td>6</td><td>184</td><td>5.75</td></tr><tr><td>173</td><td>2024</td><td>6</td><td>248</td><td>6.2</td></tr><tr><td>167</td><td>2024</td><td>6</td><td>320</td><td>6.666666666666667</td></tr><tr><td>119</td><td>2024</td><td>6</td><td>256</td><td>6.4</td></tr><tr><td>101</td><td>2024</td><td>6</td><td>312</td><td>6.5</td></tr><tr><td>155</td><td>2024</td><td>6</td><td>416</td><td>5.2</td></tr><tr><td>162</td><td>2024</td><td>6</td><td>192</td><td>3.4285714285714284</td></tr><tr><td>170</td><td>2024</td><td>6</td><td>208</td><td>6.5</td></tr><tr><td>199</td><td>2024</td><td>6</td><td>216</td><td>5.4</td></tr><tr><td>193</td><td>2024</td><td>6</td><td>40</td><td>1.6666666666666667</td></tr><tr><td>106</td><td>2024</td><td>6</td><td>144</td><td>4.5</td></tr><tr><td>140</td><td>2024</td><td>6</td><td>360</td><td>5.0</td></tr><tr><td>172</td><td>2024</td><td>6</td><td>336</td><td>7.0</td></tr><tr><td>160</td><td>2024</td><td>6</td><td>280</td><td>5.0</td></tr><tr><td>116</td><td>2024</td><td>6</td><td>200</td><td>4.166666666666667</td></tr><tr><td>159</td><td>2024</td><td>6</td><td>96</td><td>4.0</td></tr><tr><td>128</td><td>2024</td><td>6</td><td>240</td><td>7.5</td></tr><tr><td>168</td><td>2024</td><td>6</td><td>280</td><td>5.0</td></tr><tr><td>174</td><td>2024</td><td>6</td><td>416</td><td>5.2</td></tr><tr><td>171</td><td>2024</td><td>6</td><td>328</td><td>5.125</td></tr><tr><td>185</td><td>2024</td><td>6</td><td>368</td><td>6.571428571428571</td></tr><tr><td>115</td><td>2024</td><td>6</td><td>504</td><td>6.3</td></tr><tr><td>196</td><td>2024</td><td>6</td><td>432</td><td>4.909090909090909</td></tr><tr><td>147</td><td>2024</td><td>6</td><td>328</td><td>5.857142857142857</td></tr><tr><td>191</td><td>2024</td><td>6</td><td>264</td><td>4.714285714285714</td></tr><tr><td>137</td><td>2024</td><td>6</td><td>328</td><td>5.125</td></tr><tr><td>165</td><td>2024</td><td>6</td><td>304</td><td>6.333333333333333</td></tr><tr><td>120</td><td>2024</td><td>6</td><td>112</td><td>4.666666666666667</td></tr><tr><td>181</td><td>2024</td><td>6</td><td>224</td><td>5.6</td></tr><tr><td>103</td><td>2024</td><td>6</td><td>360</td><td>9.0</td></tr><tr><td>182</td><td>2024</td><td>6</td><td>208</td><td>6.5</td></tr><tr><td>109</td><td>2024</td><td>6</td><td>440</td><td>5.0</td></tr><tr><td>104</td><td>2024</td><td>6</td><td>320</td><td>6.666666666666667</td></tr><tr><td>144</td><td>2024</td><td>6</td><td>520</td><td>5.909090909090909</td></tr><tr><td>118</td><td>2024</td><td>6</td><td>488</td><td>5.083333333333333</td></tr><tr><td>130</td><td>2024</td><td>6</td><td>360</td><td>5.0</td></tr><tr><td>157</td><td>2024</td><td>6</td><td>440</td><td>6.875</td></tr><tr><td>161</td><td>2024</td><td>6</td><td>512</td><td>5.818181818181818</td></tr><tr><td>151</td><td>2024</td><td>6</td><td>240</td><td>5.0</td></tr><tr><td>176</td><td>2024</td><td>6</td><td>88</td><td>2.75</td></tr><tr><td>132</td><td>2024</td><td>6</td><td>512</td><td>5.333333333333333</td></tr><tr><td>188</td><td>2024</td><td>6</td><td>512</td><td>5.818181818181818</td></tr><tr><td>126</td><td>2024</td><td>6</td><td>192</td><td>6.0</td></tr><tr><td>149</td><td>2024</td><td>6</td><td>352</td><td>7.333333333333333</td></tr><tr><td>117</td><td>2024</td><td>6</td><td>408</td><td>5.1</td></tr><tr><td>113</td><td>2024</td><td>6</td><td>128</td><td>4.0</td></tr><tr><td>184</td><td>2024</td><td>6</td><td>424</td><td>5.888888888888889</td></tr><tr><td>135</td><td>2024</td><td>6</td><td>472</td><td>6.555555555555555</td></tr><tr><td>108</td><td>2024</td><td>6</td><td>312</td><td>6.5</td></tr><tr><td>145</td><td>2024</td><td>6</td><td>408</td><td>5.1</td></tr><tr><td>142</td><td>2024</td><td>6</td><td>368</td><td>5.75</td></tr><tr><td>152</td><td>2024</td><td>6</td><td>248</td><td>6.2</td></tr><tr><td>143</td><td>2024</td><td>6</td><td>152</td><td>6.333333333333333</td></tr><tr><td>127</td><td>2024</td><td>6</td><td>520</td><td>5.909090909090909</td></tr><tr><td>189</td><td>2024</td><td>6</td><td>368</td><td>5.75</td></tr><tr><td>198</td><td>2024</td><td>6</td><td>432</td><td>5.4</td></tr><tr><td>187</td><td>2024</td><td>6</td><td>512</td><td>5.818181818181818</td></tr><tr><td>100</td><td>2024</td><td>6</td><td>672</td><td>6.222222222222222</td></tr><tr><td>114</td><td>2024</td><td>6</td><td>512</td><td>6.4</td></tr><tr><td>139</td><td>2024</td><td>6</td><td>528</td><td>8.25</td></tr><tr><td>156</td><td>2024</td><td>6</td><td>232</td><td>5.8</td></tr><tr><td>134</td><td>2024</td><td>6</td><td>448</td><td>5.090909090909091</td></tr><tr><td>197</td><td>2024</td><td>6</td><td>480</td><td>6.0</td></tr><tr><td>175</td><td>2024</td><td>6</td><td>232</td><td>4.833333333333333</td></tr><tr><td>164</td><td>2024</td><td>6</td><td>200</td><td>5.0</td></tr><tr><td>183</td><td>2024</td><td>6</td><td>136</td><td>3.4</td></tr><tr><td>194</td><td>2024</td><td>6</td><td>456</td><td>8.142857142857142</td></tr><tr><td>138</td><td>2024</td><td>6</td><td>288</td><td>6.0</td></tr><tr><td>136</td><td>2024</td><td>6</td><td>336</td><td>7.0</td></tr><tr><td>148</td><td>2024</td><td>6</td><td>200</td><td>5.0</td></tr><tr><td>169</td><td>2024</td><td>6</td><td>456</td><td>6.333333333333333</td></tr><tr><td>178</td><td>2024</td><td>6</td><td>616</td><td>7.7</td></tr><tr><td>125</td><td>2024</td><td>6</td><td>248</td><td>5.166666666666667</td></tr><tr><td>163</td><td>2024</td><td>6</td><td>144</td><td>6.0</td></tr><tr><td>110</td><td>2024</td><td>6</td><td>192</td><td>4.0</td></tr><tr><td>123</td><td>2024</td><td>6</td><td>256</td><td>4.0</td></tr><tr><td>141</td><td>2024</td><td>6</td><td>264</td><td>4.125</td></tr><tr><td>192</td><td>2024</td><td>6</td><td>184</td><td>7.666666666666667</td></tr><tr><td>153</td><td>2024</td><td>6</td><td>272</td><td>5.666666666666667</td></tr><tr><td>177</td><td>2024</td><td>6</td><td>240</td><td>7.5</td></tr><tr><td>186</td><td>2024</td><td>6</td><td>240</td><td>3.75</td></tr><tr><td>179</td><td>2024</td><td>6</td><td>384</td><td>6.0</td></tr><tr><td>129</td><td>2024</td><td>6</td><td>432</td><td>5.4</td></tr><tr><td>166</td><td>2024</td><td>6</td><td>336</td><td>5.25</td></tr><tr><td>150</td><td>2024</td><td>6</td><td>216</td><td>5.4</td></tr></tbody></table></div>"
      ]
     },
     "metadata": {
      "application/vnd.databricks.v1+output": {
       "addedWidgets": {},
       "aggData": [],
       "aggError": "",
       "aggOverflow": false,
       "aggSchema": [],
       "aggSeriesLimitReached": false,
       "aggType": "",
       "arguments": {},
       "columnCustomDisplayInfos": {},
       "data": [
        [
         102,
         2024,
         6,
         496,
         5.166666666666667
        ],
        [
         146,
         2024,
         6,
         248,
         5.166666666666667
        ],
        [
         180,
         2024,
         6,
         280,
         4.375
        ],
        [
         111,
         2024,
         6,
         488,
         6.777777777777778
        ],
        [
         154,
         2024,
         6,
         112,
         4.666666666666667
        ],
        [
         195,
         2024,
         6,
         424,
         5.888888888888889
        ],
        [
         122,
         2024,
         6,
         184,
         5.75
        ],
        [
         131,
         2024,
         6,
         496,
         5.166666666666667
        ],
        [
         124,
         2024,
         6,
         120,
         7.5
        ],
        [
         158,
         2024,
         6,
         384,
         6.857142857142857
        ],
        [
         190,
         2024,
         6,
         296,
         4.625
        ],
        [
         112,
         2024,
         6,
         280,
         5.0
        ],
        [
         107,
         2024,
         6,
         288,
         7.2
        ],
        [
         133,
         2024,
         6,
         72,
         9.0
        ],
        [
         105,
         2024,
         6,
         224,
         5.6
        ],
        [
         121,
         2024,
         6,
         184,
         5.75
        ],
        [
         173,
         2024,
         6,
         248,
         6.2
        ],
        [
         167,
         2024,
         6,
         320,
         6.666666666666667
        ],
        [
         119,
         2024,
         6,
         256,
         6.4
        ],
        [
         101,
         2024,
         6,
         312,
         6.5
        ],
        [
         155,
         2024,
         6,
         416,
         5.2
        ],
        [
         162,
         2024,
         6,
         192,
         3.4285714285714284
        ],
        [
         170,
         2024,
         6,
         208,
         6.5
        ],
        [
         199,
         2024,
         6,
         216,
         5.4
        ],
        [
         193,
         2024,
         6,
         40,
         1.6666666666666667
        ],
        [
         106,
         2024,
         6,
         144,
         4.5
        ],
        [
         140,
         2024,
         6,
         360,
         5.0
        ],
        [
         172,
         2024,
         6,
         336,
         7.0
        ],
        [
         160,
         2024,
         6,
         280,
         5.0
        ],
        [
         116,
         2024,
         6,
         200,
         4.166666666666667
        ],
        [
         159,
         2024,
         6,
         96,
         4.0
        ],
        [
         128,
         2024,
         6,
         240,
         7.5
        ],
        [
         168,
         2024,
         6,
         280,
         5.0
        ],
        [
         174,
         2024,
         6,
         416,
         5.2
        ],
        [
         171,
         2024,
         6,
         328,
         5.125
        ],
        [
         185,
         2024,
         6,
         368,
         6.571428571428571
        ],
        [
         115,
         2024,
         6,
         504,
         6.3
        ],
        [
         196,
         2024,
         6,
         432,
         4.909090909090909
        ],
        [
         147,
         2024,
         6,
         328,
         5.857142857142857
        ],
        [
         191,
         2024,
         6,
         264,
         4.714285714285714
        ],
        [
         137,
         2024,
         6,
         328,
         5.125
        ],
        [
         165,
         2024,
         6,
         304,
         6.333333333333333
        ],
        [
         120,
         2024,
         6,
         112,
         4.666666666666667
        ],
        [
         181,
         2024,
         6,
         224,
         5.6
        ],
        [
         103,
         2024,
         6,
         360,
         9.0
        ],
        [
         182,
         2024,
         6,
         208,
         6.5
        ],
        [
         109,
         2024,
         6,
         440,
         5.0
        ],
        [
         104,
         2024,
         6,
         320,
         6.666666666666667
        ],
        [
         144,
         2024,
         6,
         520,
         5.909090909090909
        ],
        [
         118,
         2024,
         6,
         488,
         5.083333333333333
        ],
        [
         130,
         2024,
         6,
         360,
         5.0
        ],
        [
         157,
         2024,
         6,
         440,
         6.875
        ],
        [
         161,
         2024,
         6,
         512,
         5.818181818181818
        ],
        [
         151,
         2024,
         6,
         240,
         5.0
        ],
        [
         176,
         2024,
         6,
         88,
         2.75
        ],
        [
         132,
         2024,
         6,
         512,
         5.333333333333333
        ],
        [
         188,
         2024,
         6,
         512,
         5.818181818181818
        ],
        [
         126,
         2024,
         6,
         192,
         6.0
        ],
        [
         149,
         2024,
         6,
         352,
         7.333333333333333
        ],
        [
         117,
         2024,
         6,
         408,
         5.1
        ],
        [
         113,
         2024,
         6,
         128,
         4.0
        ],
        [
         184,
         2024,
         6,
         424,
         5.888888888888889
        ],
        [
         135,
         2024,
         6,
         472,
         6.555555555555555
        ],
        [
         108,
         2024,
         6,
         312,
         6.5
        ],
        [
         145,
         2024,
         6,
         408,
         5.1
        ],
        [
         142,
         2024,
         6,
         368,
         5.75
        ],
        [
         152,
         2024,
         6,
         248,
         6.2
        ],
        [
         143,
         2024,
         6,
         152,
         6.333333333333333
        ],
        [
         127,
         2024,
         6,
         520,
         5.909090909090909
        ],
        [
         189,
         2024,
         6,
         368,
         5.75
        ],
        [
         198,
         2024,
         6,
         432,
         5.4
        ],
        [
         187,
         2024,
         6,
         512,
         5.818181818181818
        ],
        [
         100,
         2024,
         6,
         672,
         6.222222222222222
        ],
        [
         114,
         2024,
         6,
         512,
         6.4
        ],
        [
         139,
         2024,
         6,
         528,
         8.25
        ],
        [
         156,
         2024,
         6,
         232,
         5.8
        ],
        [
         134,
         2024,
         6,
         448,
         5.090909090909091
        ],
        [
         197,
         2024,
         6,
         480,
         6.0
        ],
        [
         175,
         2024,
         6,
         232,
         4.833333333333333
        ],
        [
         164,
         2024,
         6,
         200,
         5.0
        ],
        [
         183,
         2024,
         6,
         136,
         3.4
        ],
        [
         194,
         2024,
         6,
         456,
         8.142857142857142
        ],
        [
         138,
         2024,
         6,
         288,
         6.0
        ],
        [
         136,
         2024,
         6,
         336,
         7.0
        ],
        [
         148,
         2024,
         6,
         200,
         5.0
        ],
        [
         169,
         2024,
         6,
         456,
         6.333333333333333
        ],
        [
         178,
         2024,
         6,
         616,
         7.7
        ],
        [
         125,
         2024,
         6,
         248,
         5.166666666666667
        ],
        [
         163,
         2024,
         6,
         144,
         6.0
        ],
        [
         110,
         2024,
         6,
         192,
         4.0
        ],
        [
         123,
         2024,
         6,
         256,
         4.0
        ],
        [
         141,
         2024,
         6,
         264,
         4.125
        ],
        [
         192,
         2024,
         6,
         184,
         7.666666666666667
        ],
        [
         153,
         2024,
         6,
         272,
         5.666666666666667
        ],
        [
         177,
         2024,
         6,
         240,
         7.5
        ],
        [
         186,
         2024,
         6,
         240,
         3.75
        ],
        [
         179,
         2024,
         6,
         384,
         6.0
        ],
        [
         129,
         2024,
         6,
         432,
         5.4
        ],
        [
         166,
         2024,
         6,
         336,
         5.25
        ],
        [
         150,
         2024,
         6,
         216,
         5.4
        ]
       ],
       "datasetInfos": [],
       "dbfsResultPath": null,
       "isJsonSchema": true,
       "metadata": {},
       "overflow": false,
       "plotOptions": {
        "customPlotOptions": {},
        "displayType": "table",
        "pivotAggregation": null,
        "pivotColumns": null,
        "xColumns": null,
        "yColumns": null
       },
       "removedWidgets": [],
       "schema": [
        {
         "metadata": "{\"scale\":0}",
         "name": "CustomerID",
         "type": "\"integer\""
        },
        {
         "metadata": "{}",
         "name": "Year",
         "type": "\"integer\""
        },
        {
         "metadata": "{}",
         "name": "Month",
         "type": "\"integer\""
        },
        {
         "metadata": "{}",
         "name": "TotalPurchases",
         "type": "\"long\""
        },
        {
         "metadata": "{}",
         "name": "AveragePurchaseQuantity",
         "type": "\"double\""
        }
       ],
       "type": "table"
      }
     },
     "output_type": "display_data"
    },
    {
     "output_type": "stream",
     "name": "stdout",
     "output_type": "stream",
     "text": [
      "Row count: 100\n"
     ]
    }
   ],
   "source": [
    "from pyspark.sql.functions import sum, avg, month, year\n",
    "\n",
    "# Path to the Silver layer\n",
    "silver_base_path = \"/silver/\"\n",
    "\n",
    "# Read the enriched data from the Silver layer\n",
    "df_silver = spark.read.format(\"delta\").load(silver_base_path + \"enriched_data\")\n",
    "\n",
    "# Perform additional aggregations and transformations\n",
    "df_gold = df_silver.groupBy(\n",
    "    \"CustomerID\", \n",
    "    year(\"Timestamp\").alias(\"Year\"), \n",
    "    month(\"Timestamp\").alias(\"Month\")\n",
    ").agg(\n",
    "    sum(\"Quantity\").alias(\"TotalPurchases\"),\n",
    "    avg(\"Quantity\").alias(\"AveragePurchaseQuantity\")\n",
    ")\n",
    "\n",
    "# Show the final DataFrame with aggregated data\n",
    "display(df_gold)\n",
    "print(\"Row count:\", df_gold.count())\n",
    "\n",
    "# Define the Gold layer base path\n",
    "gold_base_path = \"/gold/\"\n",
    "\n",
    "# Write the transformed DataFrame to the Gold layer in Delta format\n",
    "df_gold.write.format(\"delta\").mode(\"overwrite\").save(gold_base_path + \"monthly_customer_purchases\")\n"
   ]
  },
  {
   "cell_type": "code",
   "execution_count": 0,
   "metadata": {
    "application/vnd.databricks.v1+cell": {
     "cellMetadata": {
      "byteLimit": 2048000,
      "rowLimit": 10000
     },
     "inputWidgets": {},
     "nuid": "286d8c8c-303a-4be5-bba2-8feac33c2a8c",
     "showTitle": false,
     "title": ""
    }
   },
   "outputs": [
    {
     "output_type": "display_data",
     "data": {
      "text/plain": [
       "\u001B[0;31m---------------------------------------------------------------------------\u001B[0m\n",
       "\u001B[0;31mNameError\u001B[0m                                 Traceback (most recent call last)\n",
       "File \u001B[0;32m<command-4199871686648304>, line 2\u001B[0m\n",
       "\u001B[1;32m      1\u001B[0m \u001B[38;5;66;03m# Save the DataFrame as a Delta table in the specified database\u001B[39;00m\n",
       "\u001B[0;32m----> 2\u001B[0m df_gold\u001B[38;5;241m.\u001B[39mwrite\u001B[38;5;241m.\u001B[39mformat(\u001B[38;5;124m\"\u001B[39m\u001B[38;5;124mdelta\u001B[39m\u001B[38;5;124m\"\u001B[39m)\u001B[38;5;241m.\u001B[39mmode(\u001B[38;5;124m\"\u001B[39m\u001B[38;5;124mappend\u001B[39m\u001B[38;5;124m\"\u001B[39m)\u001B[38;5;241m.\u001B[39msave(\u001B[38;5;124m\"\u001B[39m\u001B[38;5;124m/gold/monthly_customer_purchases\u001B[39m\u001B[38;5;124m\"\u001B[39m)\n",
       "\u001B[1;32m      4\u001B[0m \u001B[38;5;66;03m# Load the table from the database\u001B[39;00m\n",
       "\u001B[1;32m      5\u001B[0m df_gold \u001B[38;5;241m=\u001B[39m spark\u001B[38;5;241m.\u001B[39msql(\u001B[38;5;124m\"\u001B[39m\u001B[38;5;124mSELECT * FROM my_database.monthly_customer_purchases\u001B[39m\u001B[38;5;124m\"\u001B[39m)\n",
       "\n",
       "\u001B[0;31mNameError\u001B[0m: name 'df_gold' is not defined"
      ]
     },
     "metadata": {
      "application/vnd.databricks.v1+output": {
       "addedWidgets": {},
       "arguments": {},
       "datasetInfos": [],
       "jupyterProps": {
        "ename": "NameError",
        "evalue": "name 'df_gold' is not defined"
       },
       "metadata": {
        "errorSummary": "<span class='ansi-red-fg'>NameError</span>: name 'df_gold' is not defined"
       },
       "removedWidgets": [],
       "sqlProps": null,
       "stackFrames": [
        "\u001B[0;31m---------------------------------------------------------------------------\u001B[0m",
        "\u001B[0;31mNameError\u001B[0m                                 Traceback (most recent call last)",
        "File \u001B[0;32m<command-4199871686648304>, line 2\u001B[0m\n\u001B[1;32m      1\u001B[0m \u001B[38;5;66;03m# Save the DataFrame as a Delta table in the specified database\u001B[39;00m\n\u001B[0;32m----> 2\u001B[0m df_gold\u001B[38;5;241m.\u001B[39mwrite\u001B[38;5;241m.\u001B[39mformat(\u001B[38;5;124m\"\u001B[39m\u001B[38;5;124mdelta\u001B[39m\u001B[38;5;124m\"\u001B[39m)\u001B[38;5;241m.\u001B[39mmode(\u001B[38;5;124m\"\u001B[39m\u001B[38;5;124mappend\u001B[39m\u001B[38;5;124m\"\u001B[39m)\u001B[38;5;241m.\u001B[39msave(\u001B[38;5;124m\"\u001B[39m\u001B[38;5;124m/gold/monthly_customer_purchases\u001B[39m\u001B[38;5;124m\"\u001B[39m)\n\u001B[1;32m      4\u001B[0m \u001B[38;5;66;03m# Load the table from the database\u001B[39;00m\n\u001B[1;32m      5\u001B[0m df_gold \u001B[38;5;241m=\u001B[39m spark\u001B[38;5;241m.\u001B[39msql(\u001B[38;5;124m\"\u001B[39m\u001B[38;5;124mSELECT * FROM my_database.monthly_customer_purchases\u001B[39m\u001B[38;5;124m\"\u001B[39m)\n",
        "\u001B[0;31mNameError\u001B[0m: name 'df_gold' is not defined"
       ],
       "type": "baseError"
      }
     },
     "output_type": "display_data"
    }
   ],
   "source": [
    "\n",
    "# Save the DataFrame as a Delta table in the specified database\n",
    "df_gold.write.format(\"delta\").mode(\"append\").save(\"/gold/monthly_customer_purchases\")\n",
    "\n",
    "# Load the table from the database\n",
    "df_gold = spark.sql(\"SELECT * FROM my_database.monthly_customer_purchases\")\n",
    "\n",
    "# Show the contents of the DataFrame\n",
    "df_gold.count()\n",
    "\n",
    "# Print the schema of the DataFrame\n",
    "df_gold.printSchema()"
   ]
  },
  {
   "cell_type": "code",
   "execution_count": 0,
   "metadata": {
    "application/vnd.databricks.v1+cell": {
     "cellMetadata": {
      "byteLimit": 2048000,
      "rowLimit": 10000
     },
     "inputWidgets": {},
     "nuid": "de60f25f-d3c5-4ecf-bf4e-4d66c9a88fa0",
     "showTitle": false,
     "title": ""
    }
   },
   "outputs": [
    {
     "output_type": "execute_result",
     "data": {
      "text/plain": [
       "100"
      ]
     },
     "execution_count": 1,
     "metadata": {},
     "output_type": "execute_result"
    }
   ],
   "source": [
    "# Load the table from the database\n",
    "df_gold = spark.sql(\"SELECT * FROM my_database.monthly_customer_purchases\")\n",
    "\n",
    "# Show the contents of the DataFrame\n",
    "df_gold.count()"
   ]
  }
 ],
 "metadata": {
  "application/vnd.databricks.v1+notebook": {
   "dashboards": [],
   "environmentMetadata": null,
   "language": "python",
   "notebookMetadata": {
    "mostRecentlyExecutedCommandWithImplicitDF": {
     "commandId": -1,
     "dataframes": [
      "_sqldf"
     ]
    },
    "pythonIndentUnit": 4
   },
   "notebookName": "LakeHouse_ArchMainTransformation.py",
   "widgets": {}
  }
 },
 "nbformat": 4,
 "nbformat_minor": 0
}
