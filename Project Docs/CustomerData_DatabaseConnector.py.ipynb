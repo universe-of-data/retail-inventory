{
 "cells": [
  {
   "cell_type": "code",
   "execution_count": 0,
   "metadata": {
    "application/vnd.databricks.v1+cell": {
     "cellMetadata": {
      "byteLimit": 2048000,
      "rowLimit": 10000
     },
     "inputWidgets": {},
     "nuid": "9d0e5d57-eeb6-4fb4-9da4-688bb2a69ee8",
     "showTitle": false,
     "title": ""
    }
   },
   "outputs": [],
   "source": [
    "#This pipeline while get the sourcedata from Azure database for MySQL (via Azure Data Studio) to Azure SQL Database in which database connector is implemented, here a jar file should also be uploaded in databricks"
   ]
  },
  {
   "cell_type": "code",
   "execution_count": 0,
   "metadata": {
    "application/vnd.databricks.v1+cell": {
     "cellMetadata": {
      "byteLimit": 2048000,
      "rowLimit": 10000
     },
     "inputWidgets": {},
     "nuid": "3a30aae0-a094-460b-9949-af9ca08efc24",
     "showTitle": false,
     "title": ""
    }
   },
   "outputs": [
    {
     "output_type": "display_data",
     "data": {
      "text/html": [
       "<style scoped>\n",
       "  .table-result-container {\n",
       "    max-height: 300px;\n",
       "    overflow: auto;\n",
       "  }\n",
       "  table, th, td {\n",
       "    border: 1px solid black;\n",
       "    border-collapse: collapse;\n",
       "  }\n",
       "  th, td {\n",
       "    padding: 5px;\n",
       "  }\n",
       "  th {\n",
       "    text-align: left;\n",
       "  }\n",
       "</style><div class='table-result-container'><table class='table-result'><thead style='background-color: white'><tr><th>CustomerID</th><th>Name</th><th>Age</th><th>Gender</th><th>PurchaseHistory</th><th>Preferences</th></tr></thead><tbody><tr><td>1</td><td>Customer1</td><td>51</td><td>Female</td><td>ProductI, ProductT</td><td>CategoryU, CategoryR</td></tr><tr><td>2</td><td>Customer2</td><td>22</td><td>Male</td><td>ProductR, ProductW</td><td>CategoryJ, CategoryG</td></tr><tr><td>3</td><td>Customer3</td><td>23</td><td>Female</td><td>ProductX, ProductR</td><td>CategoryQ, CategoryE</td></tr><tr><td>4</td><td>Customer4</td><td>67</td><td>Male</td><td>ProductD, ProductB</td><td>CategoryW, CategoryG</td></tr><tr><td>5</td><td>Customer5</td><td>47</td><td>Male</td><td>ProductL, ProductC</td><td>CategoryE, CategoryO</td></tr><tr><td>6</td><td>Customer6</td><td>36</td><td>Female</td><td>ProductL, ProductP</td><td>CategoryQ, CategoryJ</td></tr><tr><td>7</td><td>Customer7</td><td>68</td><td>Female</td><td>ProductS, ProductL</td><td>CategoryB, CategoryX</td></tr><tr><td>8</td><td>Customer8</td><td>42</td><td>Male</td><td>ProductY, ProductK</td><td>CategoryD, CategoryM</td></tr><tr><td>9</td><td>Customer9</td><td>69</td><td>Female</td><td>ProductP, ProductK</td><td>CategoryF, CategoryV</td></tr><tr><td>10</td><td>Customer10</td><td>46</td><td>Male</td><td>ProductB, ProductT</td><td>CategoryT, CategoryM</td></tr><tr><td>11</td><td>Customer11</td><td>24</td><td>Male</td><td>ProductW, ProductI</td><td>CategoryW, CategoryN</td></tr><tr><td>12</td><td>Customer12</td><td>69</td><td>Male</td><td>ProductT, ProductU</td><td>CategoryR, CategoryY</td></tr><tr><td>13</td><td>Customer13</td><td>59</td><td>Female</td><td>ProductQ, ProductH</td><td>CategoryN, CategoryQ</td></tr><tr><td>14</td><td>Customer14</td><td>53</td><td>Male</td><td>ProductX, ProductL</td><td>CategoryK, CategoryR</td></tr><tr><td>15</td><td>Customer15</td><td>36</td><td>Male</td><td>ProductJ, ProductK</td><td>CategoryZ, CategoryR</td></tr><tr><td>16</td><td>Customer16</td><td>40</td><td>Male</td><td>ProductY, ProductS</td><td>CategoryS, CategoryJ</td></tr><tr><td>17</td><td>Customer17</td><td>57</td><td>Female</td><td>ProductS, ProductU</td><td>CategoryU, CategoryR</td></tr><tr><td>18</td><td>Customer18</td><td>21</td><td>Male</td><td>ProductZ, ProductW</td><td>CategoryN, CategoryW</td></tr><tr><td>19</td><td>Customer19</td><td>61</td><td>Female</td><td>ProductE, ProductG</td><td>CategoryS, CategoryU</td></tr><tr><td>20</td><td>Customer20</td><td>66</td><td>Male</td><td>ProductD, ProductB</td><td>CategoryV, CategoryD</td></tr><tr><td>21</td><td>Customer21</td><td>26</td><td>Male</td><td>ProductO, ProductG</td><td>CategoryP, CategoryH</td></tr><tr><td>22</td><td>Customer22</td><td>52</td><td>Male</td><td>ProductS, ProductO</td><td>CategoryR, CategoryU</td></tr><tr><td>23</td><td>Customer23</td><td>62</td><td>Female</td><td>ProductO, ProductI</td><td>CategoryX, CategoryS</td></tr><tr><td>24</td><td>Customer24</td><td>63</td><td>Male</td><td>ProductU, ProductT</td><td>CategoryJ, CategoryM</td></tr><tr><td>25</td><td>Customer25</td><td>38</td><td>Male</td><td>ProductS, ProductO</td><td>CategoryR, CategoryS</td></tr><tr><td>26</td><td>Customer26</td><td>46</td><td>Male</td><td>ProductS, ProductH</td><td>CategoryG, CategoryI</td></tr><tr><td>27</td><td>Customer27</td><td>63</td><td>Male</td><td>ProductF, ProductY</td><td>CategoryE, CategoryA</td></tr><tr><td>28</td><td>Customer28</td><td>44</td><td>Male</td><td>ProductM, ProductH</td><td>CategoryW, CategoryN</td></tr><tr><td>29</td><td>Customer29</td><td>23</td><td>Female</td><td>ProductF, ProductB</td><td>CategoryP, CategoryV</td></tr><tr><td>30</td><td>Customer30</td><td>37</td><td>Male</td><td>ProductG, ProductK</td><td>CategoryI, CategoryL</td></tr><tr><td>31</td><td>Customer31</td><td>32</td><td>Female</td><td>ProductR, ProductR</td><td>CategoryL, CategoryE</td></tr><tr><td>32</td><td>Customer32</td><td>47</td><td>Male</td><td>ProductD, ProductC</td><td>CategoryD, CategoryI</td></tr><tr><td>33</td><td>Customer33</td><td>33</td><td>Male</td><td>ProductA, ProductZ</td><td>CategoryX, CategoryQ</td></tr><tr><td>34</td><td>Customer34</td><td>40</td><td>Male</td><td>ProductG, ProductY</td><td>CategoryD, CategoryT</td></tr><tr><td>35</td><td>Customer35</td><td>37</td><td>Male</td><td>ProductF, ProductQ</td><td>CategoryP, CategoryB</td></tr><tr><td>36</td><td>Customer36</td><td>39</td><td>Female</td><td>ProductW, ProductC</td><td>CategoryR, CategoryE</td></tr><tr><td>37</td><td>Customer37</td><td>56</td><td>Male</td><td>ProductO, ProductI</td><td>CategoryX, CategoryQ</td></tr><tr><td>38</td><td>Customer38</td><td>46</td><td>Female</td><td>ProductO, ProductW</td><td>CategoryS, CategoryB</td></tr><tr><td>39</td><td>Customer39</td><td>69</td><td>Female</td><td>ProductW, ProductD</td><td>CategoryX, CategoryH</td></tr><tr><td>40</td><td>Customer40</td><td>54</td><td>Female</td><td>ProductN, ProductB</td><td>CategoryR, CategoryG</td></tr><tr><td>41</td><td>Customer41</td><td>26</td><td>Female</td><td>ProductD, ProductA</td><td>CategoryP, CategoryY</td></tr><tr><td>42</td><td>Customer42</td><td>24</td><td>Male</td><td>ProductB, ProductX</td><td>CategoryL, CategoryJ</td></tr><tr><td>43</td><td>Customer43</td><td>45</td><td>Male</td><td>ProductQ, ProductY</td><td>CategoryV, CategoryJ</td></tr><tr><td>44</td><td>Customer44</td><td>32</td><td>Male</td><td>ProductB, ProductU</td><td>CategoryX, CategoryD</td></tr><tr><td>45</td><td>Customer45</td><td>64</td><td>Male</td><td>ProductK, ProductA</td><td>CategoryV, CategoryD</td></tr><tr><td>46</td><td>Customer46</td><td>22</td><td>Female</td><td>ProductN, ProductT</td><td>CategoryG, CategoryX</td></tr><tr><td>47</td><td>Customer47</td><td>61</td><td>Male</td><td>ProductM, ProductI</td><td>CategoryB, CategoryI</td></tr><tr><td>48</td><td>Customer48</td><td>39</td><td>Female</td><td>ProductU, ProductA</td><td>CategoryQ, CategoryG</td></tr><tr><td>49</td><td>Customer49</td><td>31</td><td>Male</td><td>ProductH, ProductI</td><td>CategoryQ, CategoryH</td></tr><tr><td>50</td><td>Customer50</td><td>48</td><td>Female</td><td>ProductS, ProductA</td><td>CategoryW, CategoryI</td></tr><tr><td>51</td><td>Customer51</td><td>21</td><td>Male</td><td>ProductR, ProductA</td><td>CategoryZ, CategoryW</td></tr><tr><td>52</td><td>Customer52</td><td>40</td><td>Male</td><td>ProductR, ProductJ</td><td>CategoryQ, CategoryC</td></tr><tr><td>53</td><td>Customer53</td><td>47</td><td>Male</td><td>ProductT, ProductL</td><td>CategoryU, CategoryT</td></tr><tr><td>54</td><td>Customer54</td><td>39</td><td>Female</td><td>ProductX, ProductT</td><td>CategoryB, CategoryV</td></tr><tr><td>55</td><td>Customer55</td><td>31</td><td>Female</td><td>ProductA, ProductM</td><td>CategoryI, CategoryG</td></tr><tr><td>56</td><td>Customer56</td><td>30</td><td>Male</td><td>ProductU, ProductE</td><td>CategoryJ, CategoryK</td></tr><tr><td>57</td><td>Customer57</td><td>68</td><td>Female</td><td>ProductA, ProductI</td><td>CategoryO, CategoryU</td></tr><tr><td>58</td><td>Customer58</td><td>36</td><td>Male</td><td>ProductE, ProductE</td><td>CategoryH, CategoryY</td></tr><tr><td>59</td><td>Customer59</td><td>67</td><td>Female</td><td>ProductH, ProductZ</td><td>CategoryB, CategoryI</td></tr><tr><td>60</td><td>Customer60</td><td>43</td><td>Male</td><td>ProductJ, ProductQ</td><td>CategoryH, CategoryJ</td></tr><tr><td>61</td><td>Customer61</td><td>24</td><td>Male</td><td>ProductY, ProductD</td><td>CategoryT, CategoryL</td></tr><tr><td>62</td><td>Customer62</td><td>63</td><td>Female</td><td>ProductH, ProductN</td><td>CategoryR, CategoryV</td></tr><tr><td>63</td><td>Customer63</td><td>29</td><td>Male</td><td>ProductP, ProductQ</td><td>CategoryJ, CategoryX</td></tr><tr><td>64</td><td>Customer64</td><td>46</td><td>Female</td><td>ProductT, ProductE</td><td>CategoryN, CategoryE</td></tr><tr><td>65</td><td>Customer65</td><td>34</td><td>Female</td><td>ProductQ, ProductN</td><td>CategoryP, CategoryM</td></tr><tr><td>66</td><td>Customer66</td><td>48</td><td>Male</td><td>ProductG, ProductC</td><td>CategoryR, CategoryD</td></tr><tr><td>67</td><td>Customer67</td><td>46</td><td>Male</td><td>ProductW, ProductP</td><td>CategoryJ, CategoryY</td></tr><tr><td>68</td><td>Customer68</td><td>57</td><td>Female</td><td>ProductT, ProductL</td><td>CategoryV, CategoryX</td></tr><tr><td>69</td><td>Customer69</td><td>23</td><td>Female</td><td>ProductR, ProductP</td><td>CategoryB, CategoryI</td></tr><tr><td>70</td><td>Customer70</td><td>49</td><td>Female</td><td>ProductT, ProductB</td><td>CategoryA, CategoryV</td></tr><tr><td>71</td><td>Customer71</td><td>34</td><td>Female</td><td>ProductF, ProductP</td><td>CategoryJ, CategoryZ</td></tr><tr><td>72</td><td>Customer72</td><td>66</td><td>Female</td><td>ProductF, ProductE</td><td>CategoryI, CategoryD</td></tr><tr><td>73</td><td>Customer73</td><td>47</td><td>Male</td><td>ProductF, ProductY</td><td>CategoryG, CategoryF</td></tr><tr><td>74</td><td>Customer74</td><td>36</td><td>Female</td><td>ProductY, ProductV</td><td>CategoryI, CategoryA</td></tr><tr><td>75</td><td>Customer75</td><td>26</td><td>Female</td><td>ProductQ, ProductJ</td><td>CategoryX, CategoryP</td></tr><tr><td>76</td><td>Customer76</td><td>25</td><td>Female</td><td>ProductK, ProductV</td><td>CategoryY, CategoryJ</td></tr><tr><td>77</td><td>Customer77</td><td>61</td><td>Male</td><td>ProductX, ProductK</td><td>CategoryG, CategoryW</td></tr><tr><td>78</td><td>Customer78</td><td>62</td><td>Male</td><td>ProductW, ProductY</td><td>CategoryF, CategoryB</td></tr><tr><td>79</td><td>Customer79</td><td>52</td><td>Male</td><td>ProductL, ProductB</td><td>CategoryW, CategoryG</td></tr><tr><td>80</td><td>Customer80</td><td>47</td><td>Female</td><td>ProductG, ProductG</td><td>CategoryN, CategoryX</td></tr><tr><td>81</td><td>Customer81</td><td>70</td><td>Male</td><td>ProductD, ProductV</td><td>CategoryZ, CategoryK</td></tr><tr><td>82</td><td>Customer82</td><td>67</td><td>Female</td><td>ProductC, ProductS</td><td>CategoryI, CategoryL</td></tr><tr><td>83</td><td>Customer83</td><td>32</td><td>Female</td><td>ProductM, ProductX</td><td>CategoryF, CategoryG</td></tr><tr><td>84</td><td>Customer84</td><td>50</td><td>Male</td><td>ProductI, ProductY</td><td>CategoryU, CategoryE</td></tr><tr><td>85</td><td>Customer85</td><td>38</td><td>Male</td><td>ProductN, ProductR</td><td>CategoryW, CategoryH</td></tr><tr><td>86</td><td>Customer86</td><td>61</td><td>Male</td><td>ProductQ, ProductO</td><td>CategoryU, CategoryL</td></tr><tr><td>87</td><td>Customer87</td><td>59</td><td>Female</td><td>ProductO, ProductZ</td><td>CategoryH, CategoryN</td></tr><tr><td>88</td><td>Customer88</td><td>52</td><td>Female</td><td>ProductP, ProductW</td><td>CategoryP, CategoryH</td></tr><tr><td>89</td><td>Customer89</td><td>55</td><td>Female</td><td>ProductY, ProductX</td><td>CategoryU, CategoryG</td></tr><tr><td>90</td><td>Customer90</td><td>56</td><td>Female</td><td>ProductN, ProductW</td><td>CategoryS, CategoryY</td></tr><tr><td>91</td><td>Customer91</td><td>57</td><td>Female</td><td>ProductR, ProductC</td><td>CategoryJ, CategoryM</td></tr><tr><td>92</td><td>Customer92</td><td>35</td><td>Male</td><td>ProductR, ProductB</td><td>CategoryE, CategoryS</td></tr><tr><td>93</td><td>Customer93</td><td>28</td><td>Female</td><td>ProductO, ProductB</td><td>CategoryL, CategoryB</td></tr><tr><td>94</td><td>Customer94</td><td>68</td><td>Female</td><td>ProductJ, ProductX</td><td>CategoryK, CategoryJ</td></tr><tr><td>95</td><td>Customer95</td><td>49</td><td>Female</td><td>ProductD, ProductI</td><td>CategoryI, CategoryN</td></tr><tr><td>96</td><td>Customer96</td><td>56</td><td>Female</td><td>ProductS, ProductS</td><td>CategoryM, CategoryD</td></tr><tr><td>97</td><td>Customer97</td><td>30</td><td>Female</td><td>ProductQ, ProductH</td><td>CategoryN, CategoryQ</td></tr><tr><td>98</td><td>Customer98</td><td>55</td><td>Female</td><td>ProductW, ProductP</td><td>CategoryH, CategoryR</td></tr><tr><td>99</td><td>Customer99</td><td>48</td><td>Female</td><td>ProductB, ProductX</td><td>CategoryL, CategoryL</td></tr><tr><td>100</td><td>Customer100</td><td>68</td><td>Male</td><td>ProductH, ProductC</td><td>CategoryN, CategoryL</td></tr><tr><td>101</td><td>Customer101</td><td>48</td><td>Male</td><td>ProductS, ProductH</td><td>CategoryC, CategoryQ</td></tr><tr><td>102</td><td>Customer102</td><td>70</td><td>Male</td><td>ProductE, ProductT</td><td>CategoryF, CategoryU</td></tr><tr><td>103</td><td>Customer103</td><td>39</td><td>Male</td><td>ProductH, ProductA</td><td>CategoryD, CategoryR</td></tr><tr><td>104</td><td>Customer104</td><td>66</td><td>Female</td><td>ProductE, ProductB</td><td>CategoryU, CategoryV</td></tr><tr><td>105</td><td>Customer105</td><td>56</td><td>Male</td><td>ProductN, ProductF</td><td>CategoryL, CategoryR</td></tr><tr><td>106</td><td>Customer106</td><td>67</td><td>Female</td><td>ProductV, ProductB</td><td>CategoryR, CategoryH</td></tr><tr><td>107</td><td>Customer107</td><td>41</td><td>Male</td><td>ProductT, ProductE</td><td>CategoryN, CategoryC</td></tr><tr><td>108</td><td>Customer108</td><td>61</td><td>Female</td><td>ProductB, ProductO</td><td>CategoryQ, CategoryL</td></tr><tr><td>109</td><td>Customer109</td><td>39</td><td>Female</td><td>ProductQ, ProductO</td><td>CategoryT, CategoryH</td></tr><tr><td>110</td><td>Customer110</td><td>21</td><td>Male</td><td>ProductF, ProductF</td><td>CategoryM, CategoryS</td></tr><tr><td>111</td><td>Customer111</td><td>32</td><td>Female</td><td>ProductG, ProductF</td><td>CategoryI, CategoryX</td></tr><tr><td>112</td><td>Customer112</td><td>51</td><td>Male</td><td>ProductC, ProductG</td><td>CategoryX, CategoryX</td></tr><tr><td>113</td><td>Customer113</td><td>62</td><td>Male</td><td>ProductT, ProductN</td><td>CategoryF, CategoryL</td></tr><tr><td>114</td><td>Customer114</td><td>54</td><td>Male</td><td>ProductC, ProductH</td><td>CategoryD, CategoryU</td></tr><tr><td>115</td><td>Customer115</td><td>53</td><td>Female</td><td>ProductQ, ProductJ</td><td>CategoryW, CategoryK</td></tr><tr><td>116</td><td>Customer116</td><td>37</td><td>Female</td><td>ProductO, ProductF</td><td>CategoryJ, CategoryF</td></tr><tr><td>117</td><td>Customer117</td><td>63</td><td>Female</td><td>ProductC, ProductE</td><td>CategoryP, CategoryL</td></tr><tr><td>118</td><td>Customer118</td><td>41</td><td>Female</td><td>ProductW, ProductX</td><td>CategoryY, CategoryZ</td></tr><tr><td>119</td><td>Customer119</td><td>27</td><td>Female</td><td>ProductZ, ProductW</td><td>CategoryM, CategoryV</td></tr><tr><td>120</td><td>Customer120</td><td>51</td><td>Female</td><td>ProductD, ProductW</td><td>CategoryY, CategoryG</td></tr><tr><td>121</td><td>Customer121</td><td>33</td><td>Female</td><td>ProductH, ProductP</td><td>CategoryE, CategoryA</td></tr><tr><td>122</td><td>Customer122</td><td>46</td><td>Female</td><td>ProductF, ProductL</td><td>CategoryN, CategoryJ</td></tr><tr><td>123</td><td>Customer123</td><td>28</td><td>Female</td><td>ProductJ, ProductK</td><td>CategoryB, CategoryY</td></tr><tr><td>124</td><td>Customer124</td><td>57</td><td>Female</td><td>ProductU, ProductP</td><td>CategoryQ, CategoryL</td></tr><tr><td>125</td><td>Customer125</td><td>31</td><td>Female</td><td>ProductI, ProductD</td><td>CategoryT, CategoryI</td></tr><tr><td>126</td><td>Customer126</td><td>42</td><td>Male</td><td>ProductT, ProductC</td><td>CategoryD, CategoryJ</td></tr><tr><td>127</td><td>Customer127</td><td>47</td><td>Female</td><td>ProductH, ProductR</td><td>CategoryM, CategoryK</td></tr><tr><td>128</td><td>Customer128</td><td>44</td><td>Male</td><td>ProductA, ProductF</td><td>CategoryX, CategoryC</td></tr><tr><td>129</td><td>Customer129</td><td>50</td><td>Female</td><td>ProductY, ProductM</td><td>CategoryO, CategoryH</td></tr><tr><td>130</td><td>Customer130</td><td>61</td><td>Male</td><td>ProductV, ProductJ</td><td>CategoryH, CategoryH</td></tr><tr><td>131</td><td>Customer131</td><td>53</td><td>Male</td><td>ProductB, ProductZ</td><td>CategoryV, CategoryI</td></tr><tr><td>132</td><td>Customer132</td><td>69</td><td>Female</td><td>ProductW, ProductN</td><td>CategoryY, CategoryE</td></tr><tr><td>133</td><td>Customer133</td><td>68</td><td>Male</td><td>ProductV, ProductE</td><td>CategoryI, CategoryE</td></tr><tr><td>134</td><td>Customer134</td><td>60</td><td>Female</td><td>ProductH, ProductR</td><td>CategoryR, CategoryK</td></tr><tr><td>135</td><td>Customer135</td><td>68</td><td>Female</td><td>ProductW, ProductU</td><td>CategoryK, CategoryN</td></tr><tr><td>136</td><td>Customer136</td><td>42</td><td>Female</td><td>ProductZ, ProductX</td><td>CategoryS, CategoryT</td></tr><tr><td>137</td><td>Customer137</td><td>54</td><td>Male</td><td>ProductR, ProductW</td><td>CategoryJ, CategoryE</td></tr><tr><td>138</td><td>Customer138</td><td>54</td><td>Female</td><td>ProductT, ProductA</td><td>CategoryR, CategoryK</td></tr><tr><td>139</td><td>Customer139</td><td>64</td><td>Male</td><td>ProductS, ProductT</td><td>CategoryO, CategoryP</td></tr><tr><td>140</td><td>Customer140</td><td>37</td><td>Female</td><td>ProductG, ProductR</td><td>CategoryR, CategoryL</td></tr><tr><td>141</td><td>Customer141</td><td>21</td><td>Female</td><td>ProductD, ProductC</td><td>CategoryC, CategoryD</td></tr><tr><td>142</td><td>Customer142</td><td>39</td><td>Female</td><td>ProductP, ProductI</td><td>CategoryT, CategoryX</td></tr><tr><td>143</td><td>Customer143</td><td>38</td><td>Female</td><td>ProductT, ProductZ</td><td>CategoryP, CategoryC</td></tr><tr><td>144</td><td>Customer144</td><td>46</td><td>Male</td><td>ProductH, ProductK</td><td>CategoryC, CategoryE</td></tr><tr><td>145</td><td>Customer145</td><td>47</td><td>Male</td><td>ProductT, ProductY</td><td>CategoryL, CategoryL</td></tr><tr><td>146</td><td>Customer146</td><td>63</td><td>Female</td><td>ProductF, ProductF</td><td>CategoryI, CategoryY</td></tr><tr><td>147</td><td>Customer147</td><td>61</td><td>Male</td><td>ProductS, ProductW</td><td>CategoryG, CategoryQ</td></tr><tr><td>148</td><td>Customer148</td><td>44</td><td>Male</td><td>ProductX, ProductF</td><td>CategoryH, CategoryT</td></tr><tr><td>149</td><td>Customer149</td><td>20</td><td>Female</td><td>ProductN, ProductK</td><td>CategoryM, CategoryH</td></tr><tr><td>150</td><td>Customer150</td><td>67</td><td>Female</td><td>ProductF, ProductQ</td><td>CategoryN, CategoryQ</td></tr><tr><td>151</td><td>Customer151</td><td>56</td><td>Female</td><td>ProductI, ProductO</td><td>CategoryU, CategoryI</td></tr><tr><td>152</td><td>Customer152</td><td>26</td><td>Female</td><td>ProductE, ProductS</td><td>CategoryC, CategoryF</td></tr><tr><td>153</td><td>Customer153</td><td>57</td><td>Male</td><td>ProductK, ProductP</td><td>CategoryT, CategoryC</td></tr><tr><td>154</td><td>Customer154</td><td>23</td><td>Male</td><td>ProductG, ProductA</td><td>CategoryI, CategoryN</td></tr><tr><td>155</td><td>Customer155</td><td>53</td><td>Female</td><td>ProductP, ProductV</td><td>CategoryJ, CategoryG</td></tr><tr><td>156</td><td>Customer156</td><td>32</td><td>Male</td><td>ProductH, ProductG</td><td>CategoryH, CategoryR</td></tr><tr><td>157</td><td>Customer157</td><td>54</td><td>Male</td><td>ProductH, ProductS</td><td>CategoryQ, CategoryB</td></tr><tr><td>158</td><td>Customer158</td><td>32</td><td>Male</td><td>ProductW, ProductB</td><td>CategoryN, CategoryN</td></tr><tr><td>159</td><td>Customer159</td><td>22</td><td>Female</td><td>ProductW, ProductP</td><td>CategoryJ, CategoryZ</td></tr><tr><td>160</td><td>Customer160</td><td>63</td><td>Male</td><td>ProductB, ProductH</td><td>CategoryG, CategoryK</td></tr><tr><td>161</td><td>Customer161</td><td>35</td><td>Male</td><td>ProductI, ProductU</td><td>CategoryC, CategoryZ</td></tr><tr><td>162</td><td>Customer162</td><td>58</td><td>Female</td><td>ProductP, ProductS</td><td>CategoryS, CategoryL</td></tr><tr><td>163</td><td>Customer163</td><td>25</td><td>Male</td><td>ProductM, ProductY</td><td>CategoryJ, CategoryW</td></tr><tr><td>164</td><td>Customer164</td><td>34</td><td>Female</td><td>ProductZ, ProductR</td><td>CategoryL, CategoryE</td></tr><tr><td>165</td><td>Customer165</td><td>41</td><td>Female</td><td>ProductC, ProductK</td><td>CategoryR, CategoryH</td></tr><tr><td>166</td><td>Customer166</td><td>37</td><td>Female</td><td>ProductL, ProductO</td><td>CategoryN, CategoryW</td></tr><tr><td>167</td><td>Customer167</td><td>63</td><td>Female</td><td>ProductO, ProductY</td><td>CategoryE, CategoryW</td></tr><tr><td>168</td><td>Customer168</td><td>65</td><td>Female</td><td>ProductQ, ProductO</td><td>CategoryX, CategoryW</td></tr><tr><td>169</td><td>Customer169</td><td>52</td><td>Female</td><td>ProductC, ProductO</td><td>CategoryO, CategoryC</td></tr><tr><td>170</td><td>Customer170</td><td>60</td><td>Female</td><td>ProductF, ProductU</td><td>CategoryJ, CategoryM</td></tr><tr><td>171</td><td>Customer171</td><td>32</td><td>Female</td><td>ProductG, ProductV</td><td>CategoryL, CategoryS</td></tr><tr><td>172</td><td>Customer172</td><td>33</td><td>Male</td><td>ProductY, ProductJ</td><td>CategoryY, CategoryS</td></tr><tr><td>173</td><td>Customer173</td><td>55</td><td>Male</td><td>ProductS, ProductM</td><td>CategoryI, CategoryC</td></tr><tr><td>174</td><td>Customer174</td><td>43</td><td>Male</td><td>ProductX, ProductM</td><td>CategoryO, CategoryL</td></tr><tr><td>175</td><td>Customer175</td><td>47</td><td>Male</td><td>ProductF, ProductY</td><td>CategoryE, CategoryV</td></tr><tr><td>176</td><td>Customer176</td><td>59</td><td>Male</td><td>ProductN, ProductM</td><td>CategoryW, CategoryW</td></tr><tr><td>177</td><td>Customer177</td><td>63</td><td>Female</td><td>ProductR, ProductK</td><td>CategoryZ, CategoryS</td></tr><tr><td>178</td><td>Customer178</td><td>52</td><td>Male</td><td>ProductL, ProductB</td><td>CategoryU, CategoryY</td></tr><tr><td>179</td><td>Customer179</td><td>42</td><td>Male</td><td>ProductC, ProductP</td><td>CategoryT, CategoryZ</td></tr><tr><td>180</td><td>Customer180</td><td>55</td><td>Male</td><td>ProductK, ProductL</td><td>CategoryB, CategoryU</td></tr><tr><td>181</td><td>Customer181</td><td>21</td><td>Female</td><td>ProductC, ProductN</td><td>CategoryH, CategoryX</td></tr><tr><td>182</td><td>Customer182</td><td>56</td><td>Female</td><td>ProductC, ProductW</td><td>CategoryD, CategoryX</td></tr><tr><td>183</td><td>Customer183</td><td>38</td><td>Female</td><td>ProductT, ProductY</td><td>CategoryM, CategoryP</td></tr><tr><td>184</td><td>Customer184</td><td>45</td><td>Female</td><td>ProductV, ProductF</td><td>CategoryL, CategoryP</td></tr><tr><td>185</td><td>Customer185</td><td>59</td><td>Male</td><td>ProductU, ProductW</td><td>CategoryY, CategoryE</td></tr><tr><td>186</td><td>Customer186</td><td>67</td><td>Male</td><td>ProductL, ProductM</td><td>CategoryB, CategoryT</td></tr><tr><td>187</td><td>Customer187</td><td>53</td><td>Male</td><td>ProductE, ProductR</td><td>CategoryX, CategoryN</td></tr><tr><td>188</td><td>Customer188</td><td>64</td><td>Female</td><td>ProductR, ProductW</td><td>CategoryH, CategoryT</td></tr><tr><td>189</td><td>Customer189</td><td>69</td><td>Female</td><td>ProductH, ProductK</td><td>CategoryG, CategoryX</td></tr><tr><td>190</td><td>Customer190</td><td>69</td><td>Male</td><td>ProductP, ProductR</td><td>CategoryN, CategoryO</td></tr><tr><td>191</td><td>Customer191</td><td>34</td><td>Female</td><td>ProductR, ProductI</td><td>CategoryO, CategoryT</td></tr><tr><td>192</td><td>Customer192</td><td>30</td><td>Female</td><td>ProductB, ProductB</td><td>CategoryD, CategoryN</td></tr><tr><td>193</td><td>Customer193</td><td>25</td><td>Male</td><td>ProductV, ProductD</td><td>CategoryD, CategoryF</td></tr><tr><td>194</td><td>Customer194</td><td>51</td><td>Male</td><td>ProductN, ProductH</td><td>CategoryT, CategoryW</td></tr><tr><td>195</td><td>Customer195</td><td>33</td><td>Female</td><td>ProductI, ProductS</td><td>CategoryP, CategoryY</td></tr><tr><td>196</td><td>Customer196</td><td>64</td><td>Female</td><td>ProductC, ProductU</td><td>CategoryS, CategoryE</td></tr><tr><td>197</td><td>Customer197</td><td>50</td><td>Female</td><td>ProductA, ProductK</td><td>CategoryW, CategoryF</td></tr><tr><td>198</td><td>Customer198</td><td>36</td><td>Male</td><td>ProductF, ProductZ</td><td>CategoryI, CategoryQ</td></tr><tr><td>199</td><td>Customer199</td><td>29</td><td>Female</td><td>ProductK, ProductB</td><td>CategoryB, CategoryC</td></tr><tr><td>200</td><td>Customer200</td><td>29</td><td>Female</td><td>ProductE, ProductO</td><td>CategoryH, CategoryT</td></tr><tr><td>201</td><td>Customer201</td><td>64</td><td>Male</td><td>ProductJ, ProductG</td><td>CategoryC, CategoryR</td></tr><tr><td>202</td><td>Customer202</td><td>27</td><td>Female</td><td>ProductD, ProductM</td><td>CategoryC, CategoryW</td></tr><tr><td>203</td><td>Customer203</td><td>30</td><td>Male</td><td>ProductD, ProductQ</td><td>CategoryV, CategoryI</td></tr><tr><td>204</td><td>Customer204</td><td>23</td><td>Male</td><td>ProductO, ProductQ</td><td>CategoryR, CategoryK</td></tr><tr><td>205</td><td>Customer205</td><td>66</td><td>Male</td><td>ProductH, ProductD</td><td>CategoryU, CategoryQ</td></tr><tr><td>206</td><td>Customer206</td><td>59</td><td>Female</td><td>ProductN, ProductS</td><td>CategoryA, CategoryW</td></tr><tr><td>207</td><td>Customer207</td><td>38</td><td>Male</td><td>ProductU, ProductN</td><td>CategoryD, CategoryD</td></tr><tr><td>208</td><td>Customer208</td><td>27</td><td>Male</td><td>ProductQ, ProductA</td><td>CategoryB, CategoryG</td></tr><tr><td>209</td><td>Customer209</td><td>22</td><td>Male</td><td>ProductH, ProductA</td><td>CategoryE, CategoryT</td></tr><tr><td>210</td><td>Customer210</td><td>38</td><td>Female</td><td>ProductO, ProductG</td><td>CategoryN, CategoryW</td></tr><tr><td>211</td><td>Customer211</td><td>61</td><td>Female</td><td>ProductB, ProductS</td><td>CategoryM, CategoryH</td></tr><tr><td>212</td><td>Customer212</td><td>67</td><td>Female</td><td>ProductG, ProductT</td><td>CategoryD, CategoryI</td></tr><tr><td>213</td><td>Customer213</td><td>28</td><td>Female</td><td>ProductT, ProductJ</td><td>CategoryK, CategoryY</td></tr><tr><td>214</td><td>Customer214</td><td>47</td><td>Female</td><td>ProductS, ProductZ</td><td>CategoryU, CategoryC</td></tr><tr><td>215</td><td>Customer215</td><td>68</td><td>Female</td><td>ProductY, ProductD</td><td>CategoryT, CategoryM</td></tr><tr><td>216</td><td>Customer216</td><td>21</td><td>Female</td><td>ProductN, ProductN</td><td>CategoryX, CategoryC</td></tr><tr><td>217</td><td>Customer217</td><td>50</td><td>Female</td><td>ProductC, ProductD</td><td>CategoryI, CategoryF</td></tr><tr><td>218</td><td>Customer218</td><td>23</td><td>Female</td><td>ProductI, ProductP</td><td>CategoryX, CategoryU</td></tr><tr><td>219</td><td>Customer219</td><td>34</td><td>Male</td><td>ProductF, ProductY</td><td>CategoryF, CategoryC</td></tr><tr><td>220</td><td>Customer220</td><td>57</td><td>Female</td><td>ProductN, ProductZ</td><td>CategoryJ, CategoryW</td></tr><tr><td>221</td><td>Customer221</td><td>37</td><td>Male</td><td>ProductB, ProductF</td><td>CategoryU, CategoryK</td></tr><tr><td>222</td><td>Customer222</td><td>52</td><td>Male</td><td>ProductC, ProductK</td><td>CategoryT, CategoryR</td></tr><tr><td>223</td><td>Customer223</td><td>21</td><td>Male</td><td>ProductL, ProductX</td><td>CategoryH, CategoryS</td></tr><tr><td>224</td><td>Customer224</td><td>51</td><td>Male</td><td>ProductE, ProductT</td><td>CategoryG, CategoryB</td></tr><tr><td>225</td><td>Customer225</td><td>45</td><td>Male</td><td>ProductD, ProductP</td><td>CategoryS, CategoryV</td></tr><tr><td>226</td><td>Customer226</td><td>20</td><td>Male</td><td>ProductL, ProductS</td><td>CategoryG, CategoryC</td></tr><tr><td>227</td><td>Customer227</td><td>58</td><td>Male</td><td>ProductF, ProductM</td><td>CategoryT, CategoryK</td></tr><tr><td>228</td><td>Customer228</td><td>58</td><td>Female</td><td>ProductO, ProductD</td><td>CategoryV, CategoryV</td></tr><tr><td>229</td><td>Customer229</td><td>59</td><td>Male</td><td>ProductH, ProductL</td><td>CategoryI, CategoryG</td></tr><tr><td>230</td><td>Customer230</td><td>38</td><td>Male</td><td>ProductC, ProductH</td><td>CategoryG, CategoryJ</td></tr><tr><td>231</td><td>Customer231</td><td>26</td><td>Male</td><td>ProductY, ProductL</td><td>CategoryG, CategoryY</td></tr><tr><td>232</td><td>Customer232</td><td>22</td><td>Male</td><td>ProductJ, ProductA</td><td>CategoryX, CategoryN</td></tr><tr><td>233</td><td>Customer233</td><td>64</td><td>Female</td><td>ProductK, ProductO</td><td>CategoryP, CategoryI</td></tr><tr><td>234</td><td>Customer234</td><td>63</td><td>Male</td><td>ProductX, ProductS</td><td>CategoryU, CategoryW</td></tr><tr><td>235</td><td>Customer235</td><td>67</td><td>Male</td><td>ProductR, ProductC</td><td>CategoryL, CategoryX</td></tr><tr><td>236</td><td>Customer236</td><td>31</td><td>Male</td><td>ProductB, ProductG</td><td>CategoryA, CategoryK</td></tr><tr><td>237</td><td>Customer237</td><td>63</td><td>Male</td><td>ProductI, ProductZ</td><td>CategoryB, CategoryI</td></tr><tr><td>238</td><td>Customer238</td><td>38</td><td>Female</td><td>ProductJ, ProductE</td><td>CategoryR, CategoryW</td></tr><tr><td>239</td><td>Customer239</td><td>36</td><td>Male</td><td>ProductE, ProductR</td><td>CategoryY, CategoryV</td></tr><tr><td>240</td><td>Customer240</td><td>31</td><td>Female</td><td>ProductK, ProductD</td><td>CategoryK, CategoryS</td></tr><tr><td>241</td><td>Customer241</td><td>39</td><td>Female</td><td>ProductN, ProductK</td><td>CategoryJ, CategoryR</td></tr><tr><td>242</td><td>Customer242</td><td>36</td><td>Female</td><td>ProductV, ProductN</td><td>CategoryZ, CategoryL</td></tr><tr><td>243</td><td>Customer243</td><td>35</td><td>Male</td><td>ProductW, ProductY</td><td>CategoryC, CategoryO</td></tr><tr><td>244</td><td>Customer244</td><td>45</td><td>Female</td><td>ProductT, ProductF</td><td>CategoryS, CategoryZ</td></tr><tr><td>245</td><td>Customer245</td><td>61</td><td>Male</td><td>ProductF, ProductQ</td><td>CategoryP, CategoryD</td></tr><tr><td>246</td><td>Customer246</td><td>58</td><td>Male</td><td>ProductU, ProductV</td><td>CategoryT, CategoryH</td></tr><tr><td>247</td><td>Customer247</td><td>22</td><td>Male</td><td>ProductW, ProductG</td><td>CategoryO, CategoryA</td></tr><tr><td>248</td><td>Customer248</td><td>40</td><td>Female</td><td>ProductQ, ProductH</td><td>CategoryO, CategoryX</td></tr><tr><td>249</td><td>Customer249</td><td>70</td><td>Male</td><td>ProductW, ProductX</td><td>CategoryY, CategoryB</td></tr><tr><td>250</td><td>Customer250</td><td>37</td><td>Female</td><td>ProductU, ProductH</td><td>CategoryZ, CategoryE</td></tr><tr><td>251</td><td>Customer251</td><td>59</td><td>Male</td><td>ProductA, ProductQ</td><td>CategoryD, CategoryQ</td></tr><tr><td>252</td><td>Customer252</td><td>62</td><td>Male</td><td>ProductB, ProductF</td><td>CategoryZ, CategoryH</td></tr><tr><td>253</td><td>Customer253</td><td>42</td><td>Male</td><td>ProductI, ProductR</td><td>CategoryL, CategoryC</td></tr><tr><td>254</td><td>Customer254</td><td>27</td><td>Male</td><td>ProductV, ProductU</td><td>CategoryP, CategoryM</td></tr><tr><td>255</td><td>Customer255</td><td>48</td><td>Male</td><td>ProductJ, ProductQ</td><td>CategoryD, CategoryO</td></tr><tr><td>256</td><td>Customer256</td><td>49</td><td>Male</td><td>ProductD, ProductD</td><td>CategoryD, CategoryJ</td></tr><tr><td>257</td><td>Customer257</td><td>38</td><td>Female</td><td>ProductT, ProductM</td><td>CategoryD, CategoryG</td></tr><tr><td>258</td><td>Customer258</td><td>56</td><td>Female</td><td>ProductL, ProductJ</td><td>CategoryP, CategoryV</td></tr><tr><td>259</td><td>Customer259</td><td>43</td><td>Female</td><td>ProductI, ProductL</td><td>CategoryG, CategoryU</td></tr><tr><td>260</td><td>Customer260</td><td>39</td><td>Male</td><td>ProductI, ProductB</td><td>CategoryG, CategoryB</td></tr><tr><td>261</td><td>Customer261</td><td>45</td><td>Male</td><td>ProductQ, ProductZ</td><td>CategoryX, CategoryS</td></tr><tr><td>262</td><td>Customer262</td><td>60</td><td>Female</td><td>ProductW, ProductV</td><td>CategoryP, CategoryN</td></tr><tr><td>263</td><td>Customer263</td><td>60</td><td>Male</td><td>ProductL, ProductE</td><td>CategoryL, CategoryT</td></tr><tr><td>264</td><td>Customer264</td><td>45</td><td>Male</td><td>ProductP, ProductK</td><td>CategoryE, CategoryN</td></tr><tr><td>265</td><td>Customer265</td><td>29</td><td>Male</td><td>ProductE, ProductV</td><td>CategoryS, CategoryB</td></tr><tr><td>266</td><td>Customer266</td><td>24</td><td>Male</td><td>ProductD, ProductR</td><td>CategoryF, CategoryV</td></tr><tr><td>267</td><td>Customer267</td><td>51</td><td>Female</td><td>ProductG, ProductK</td><td>CategoryE, CategoryR</td></tr><tr><td>268</td><td>Customer268</td><td>62</td><td>Male</td><td>ProductN, ProductX</td><td>CategoryD, CategoryV</td></tr><tr><td>269</td><td>Customer269</td><td>60</td><td>Female</td><td>ProductD, ProductC</td><td>CategoryB, CategoryY</td></tr><tr><td>270</td><td>Customer270</td><td>50</td><td>Male</td><td>ProductB, ProductT</td><td>CategoryQ, CategoryW</td></tr><tr><td>271</td><td>Customer271</td><td>45</td><td>Female</td><td>ProductY, ProductD</td><td>CategoryT, CategoryL</td></tr><tr><td>272</td><td>Customer272</td><td>64</td><td>Male</td><td>ProductV, ProductX</td><td>CategoryD, CategoryS</td></tr><tr><td>273</td><td>Customer273</td><td>36</td><td>Male</td><td>ProductB, ProductC</td><td>CategoryG, CategoryY</td></tr><tr><td>274</td><td>Customer274</td><td>21</td><td>Male</td><td>ProductH, ProductN</td><td>CategoryT, CategoryG</td></tr><tr><td>275</td><td>Customer275</td><td>66</td><td>Female</td><td>ProductV, ProductM</td><td>CategoryW, CategoryA</td></tr><tr><td>276</td><td>Customer276</td><td>39</td><td>Female</td><td>ProductF, ProductI</td><td>CategoryC, CategoryJ</td></tr><tr><td>277</td><td>Customer277</td><td>47</td><td>Female</td><td>ProductU, ProductW</td><td>CategoryD, CategoryW</td></tr><tr><td>278</td><td>Customer278</td><td>69</td><td>Male</td><td>ProductQ, ProductI</td><td>CategoryQ, CategoryE</td></tr><tr><td>279</td><td>Customer279</td><td>65</td><td>Male</td><td>ProductM, ProductJ</td><td>CategoryH, CategoryH</td></tr><tr><td>280</td><td>Customer280</td><td>49</td><td>Male</td><td>ProductR, ProductD</td><td>CategoryO, CategoryK</td></tr><tr><td>281</td><td>Customer281</td><td>35</td><td>Male</td><td>ProductT, ProductV</td><td>CategoryY, CategoryF</td></tr><tr><td>282</td><td>Customer282</td><td>27</td><td>Male</td><td>ProductC, ProductB</td><td>CategoryC, CategoryE</td></tr><tr><td>283</td><td>Customer283</td><td>52</td><td>Female</td><td>ProductP, ProductX</td><td>CategoryT, CategoryD</td></tr><tr><td>284</td><td>Customer284</td><td>32</td><td>Female</td><td>ProductN, ProductD</td><td>CategoryB, CategoryV</td></tr><tr><td>285</td><td>Customer285</td><td>27</td><td>Male</td><td>ProductE, ProductK</td><td>CategoryN, CategoryL</td></tr><tr><td>286</td><td>Customer286</td><td>49</td><td>Female</td><td>ProductK, ProductF</td><td>CategoryQ, CategoryS</td></tr><tr><td>287</td><td>Customer287</td><td>51</td><td>Female</td><td>ProductD, ProductN</td><td>CategoryJ, CategoryE</td></tr><tr><td>288</td><td>Customer288</td><td>53</td><td>Female</td><td>ProductN, ProductX</td><td>CategoryB, CategoryK</td></tr><tr><td>289</td><td>Customer289</td><td>68</td><td>Female</td><td>ProductU, ProductJ</td><td>CategoryL, CategoryE</td></tr><tr><td>290</td><td>Customer290</td><td>41</td><td>Female</td><td>ProductB, ProductG</td><td>CategoryB, CategoryN</td></tr><tr><td>291</td><td>Customer291</td><td>39</td><td>Male</td><td>ProductX, ProductL</td><td>CategoryI, CategoryH</td></tr><tr><td>292</td><td>Customer292</td><td>40</td><td>Male</td><td>ProductB, ProductJ</td><td>CategoryT, CategoryU</td></tr><tr><td>293</td><td>Customer293</td><td>49</td><td>Female</td><td>ProductZ, ProductJ</td><td>CategoryS, CategoryO</td></tr><tr><td>294</td><td>Customer294</td><td>56</td><td>Female</td><td>ProductH, ProductS</td><td>CategoryT, CategoryP</td></tr><tr><td>295</td><td>Customer295</td><td>61</td><td>Male</td><td>ProductQ, ProductO</td><td>CategoryV, CategoryN</td></tr><tr><td>296</td><td>Customer296</td><td>21</td><td>Female</td><td>ProductZ, ProductE</td><td>CategoryS, CategoryE</td></tr><tr><td>297</td><td>Customer297</td><td>49</td><td>Male</td><td>ProductS, ProductC</td><td>CategoryF, CategoryV</td></tr><tr><td>298</td><td>Customer298</td><td>47</td><td>Male</td><td>ProductO, ProductE</td><td>CategoryC, CategoryV</td></tr><tr><td>299</td><td>Customer299</td><td>24</td><td>Female</td><td>ProductV, ProductT</td><td>CategoryI, CategoryJ</td></tr><tr><td>300</td><td>Customer300</td><td>60</td><td>Female</td><td>ProductH, ProductO</td><td>CategoryW, CategoryV</td></tr><tr><td>301</td><td>Customer301</td><td>47</td><td>Male</td><td>ProductD, ProductC</td><td>CategoryD, CategoryK</td></tr><tr><td>302</td><td>Customer302</td><td>53</td><td>Male</td><td>ProductF, ProductW</td><td>CategoryV, CategoryP</td></tr><tr><td>303</td><td>Customer303</td><td>45</td><td>Female</td><td>ProductS, ProductT</td><td>CategoryO, CategoryM</td></tr><tr><td>304</td><td>Customer304</td><td>54</td><td>Male</td><td>ProductB, ProductD</td><td>CategoryN, CategoryH</td></tr><tr><td>305</td><td>Customer305</td><td>56</td><td>Female</td><td>ProductY, ProductJ</td><td>CategoryY, CategoryP</td></tr><tr><td>306</td><td>Customer306</td><td>27</td><td>Female</td><td>ProductE, ProductB</td><td>CategoryR, CategoryJ</td></tr><tr><td>307</td><td>Customer307</td><td>57</td><td>Female</td><td>ProductB, ProductE</td><td>CategoryT, CategoryG</td></tr><tr><td>308</td><td>Customer308</td><td>65</td><td>Female</td><td>ProductO, ProductE</td><td>CategoryE, CategoryH</td></tr><tr><td>309</td><td>Customer309</td><td>70</td><td>Male</td><td>ProductO, ProductM</td><td>CategoryQ, CategoryU</td></tr><tr><td>310</td><td>Customer310</td><td>23</td><td>Female</td><td>ProductK, ProductE</td><td>CategoryS, CategoryD</td></tr><tr><td>311</td><td>Customer311</td><td>43</td><td>Female</td><td>ProductC, ProductS</td><td>CategoryK, CategoryU</td></tr><tr><td>312</td><td>Customer312</td><td>63</td><td>Female</td><td>ProductW, ProductR</td><td>CategoryU, CategoryZ</td></tr><tr><td>313</td><td>Customer313</td><td>46</td><td>Female</td><td>ProductS, ProductP</td><td>CategoryX, CategoryR</td></tr><tr><td>314</td><td>Customer314</td><td>54</td><td>Male</td><td>ProductQ, ProductE</td><td>CategoryW, CategoryX</td></tr><tr><td>315</td><td>Customer315</td><td>23</td><td>Male</td><td>ProductE, ProductL</td><td>CategoryS, CategoryH</td></tr><tr><td>316</td><td>Customer316</td><td>31</td><td>Male</td><td>ProductV, ProductG</td><td>CategoryS, CategoryU</td></tr><tr><td>317</td><td>Customer317</td><td>62</td><td>Female</td><td>ProductQ, ProductT</td><td>CategoryW, CategoryB</td></tr><tr><td>318</td><td>Customer318</td><td>50</td><td>Female</td><td>ProductL, ProductP</td><td>CategoryS, CategoryU</td></tr><tr><td>319</td><td>Customer319</td><td>58</td><td>Male</td><td>ProductD, ProductF</td><td>CategoryQ, CategoryN</td></tr><tr><td>320</td><td>Customer320</td><td>59</td><td>Male</td><td>ProductC, ProductM</td><td>CategoryG, CategoryS</td></tr><tr><td>321</td><td>Customer321</td><td>66</td><td>Male</td><td>ProductL, ProductY</td><td>CategoryJ, CategoryX</td></tr><tr><td>322</td><td>Customer322</td><td>46</td><td>Female</td><td>ProductO, ProductI</td><td>CategoryA, CategoryA</td></tr><tr><td>323</td><td>Customer323</td><td>20</td><td>Male</td><td>ProductD, ProductO</td><td>CategoryL, CategoryO</td></tr><tr><td>324</td><td>Customer324</td><td>39</td><td>Male</td><td>ProductB, ProductL</td><td>CategoryC, CategoryF</td></tr><tr><td>325</td><td>Customer325</td><td>54</td><td>Female</td><td>ProductC, ProductW</td><td>CategoryE, CategoryE</td></tr><tr><td>326</td><td>Customer326</td><td>35</td><td>Male</td><td>ProductE, ProductS</td><td>CategoryF, CategoryW</td></tr><tr><td>327</td><td>Customer327</td><td>61</td><td>Male</td><td>ProductS, ProductG</td><td>CategoryZ, CategoryI</td></tr><tr><td>328</td><td>Customer328</td><td>49</td><td>Female</td><td>ProductE, ProductW</td><td>CategoryV, CategoryN</td></tr><tr><td>329</td><td>Customer329</td><td>31</td><td>Male</td><td>ProductT, ProductK</td><td>CategoryP, CategoryW</td></tr><tr><td>330</td><td>Customer330</td><td>50</td><td>Male</td><td>ProductB, ProductB</td><td>CategoryE, CategoryO</td></tr><tr><td>331</td><td>Customer331</td><td>41</td><td>Male</td><td>ProductQ, ProductE</td><td>CategoryT, CategoryK</td></tr><tr><td>332</td><td>Customer332</td><td>51</td><td>Female</td><td>ProductZ, ProductB</td><td>CategoryG, CategoryC</td></tr><tr><td>333</td><td>Customer333</td><td>50</td><td>Female</td><td>ProductJ, ProductF</td><td>CategoryC, CategoryR</td></tr><tr><td>334</td><td>Customer334</td><td>33</td><td>Male</td><td>ProductF, ProductL</td><td>CategoryQ, CategoryU</td></tr><tr><td>335</td><td>Customer335</td><td>24</td><td>Male</td><td>ProductA, ProductW</td><td>CategoryL, CategoryL</td></tr><tr><td>336</td><td>Customer336</td><td>69</td><td>Female</td><td>ProductQ, ProductS</td><td>CategoryS, CategoryI</td></tr><tr><td>337</td><td>Customer337</td><td>44</td><td>Male</td><td>ProductT, ProductM</td><td>CategoryE, CategoryK</td></tr><tr><td>338</td><td>Customer338</td><td>44</td><td>Male</td><td>ProductO, ProductG</td><td>CategoryM, CategoryS</td></tr><tr><td>339</td><td>Customer339</td><td>25</td><td>Male</td><td>ProductQ, ProductY</td><td>CategoryY, CategoryX</td></tr><tr><td>340</td><td>Customer340</td><td>59</td><td>Male</td><td>ProductD, ProductJ</td><td>CategoryK, CategoryW</td></tr><tr><td>341</td><td>Customer341</td><td>30</td><td>Male</td><td>ProductF, ProductZ</td><td>CategoryI, CategoryR</td></tr><tr><td>342</td><td>Customer342</td><td>36</td><td>Female</td><td>ProductG, ProductF</td><td>CategoryK, CategoryH</td></tr><tr><td>343</td><td>Customer343</td><td>31</td><td>Male</td><td>ProductQ, ProductJ</td><td>CategoryX, CategoryN</td></tr><tr><td>344</td><td>Customer344</td><td>66</td><td>Male</td><td>ProductG, ProductG</td><td>CategoryK, CategoryH</td></tr><tr><td>345</td><td>Customer345</td><td>30</td><td>Male</td><td>ProductG, ProductQ</td><td>CategoryM, CategoryO</td></tr><tr><td>346</td><td>Customer346</td><td>37</td><td>Male</td><td>ProductE, ProductR</td><td>CategoryY, CategoryR</td></tr><tr><td>347</td><td>Customer347</td><td>48</td><td>Female</td><td>ProductG, ProductU</td><td>CategoryI, CategoryD</td></tr><tr><td>348</td><td>Customer348</td><td>57</td><td>Male</td><td>ProductI, ProductR</td><td>CategoryM, CategoryJ</td></tr><tr><td>349</td><td>Customer349</td><td>36</td><td>Female</td><td>ProductU, ProductK</td><td>CategoryP, CategoryS</td></tr><tr><td>350</td><td>Customer350</td><td>62</td><td>Male</td><td>ProductQ, ProductC</td><td>CategoryK, CategoryW</td></tr><tr><td>351</td><td>Customer351</td><td>29</td><td>Male</td><td>ProductU, ProductD</td><td>CategoryF, CategoryQ</td></tr><tr><td>352</td><td>Customer352</td><td>55</td><td>Female</td><td>ProductL, ProductS</td><td>CategoryI, CategoryM</td></tr><tr><td>353</td><td>Customer353</td><td>36</td><td>Male</td><td>ProductX, ProductE</td><td>CategoryX, CategoryE</td></tr><tr><td>354</td><td>Customer354</td><td>22</td><td>Female</td><td>ProductL, ProductC</td><td>CategoryD, CategoryG</td></tr><tr><td>355</td><td>Customer355</td><td>68</td><td>Male</td><td>ProductL, ProductB</td><td>CategoryW, CategoryH</td></tr><tr><td>356</td><td>Customer356</td><td>57</td><td>Female</td><td>ProductD, ProductZ</td><td>CategoryP, CategoryY</td></tr><tr><td>357</td><td>Customer357</td><td>22</td><td>Male</td><td>ProductO, ProductW</td><td>CategoryP, CategoryI</td></tr><tr><td>358</td><td>Customer358</td><td>64</td><td>Male</td><td>ProductP, ProductO</td><td>CategoryC, CategoryS</td></tr><tr><td>359</td><td>Customer359</td><td>36</td><td>Male</td><td>ProductH, ProductZ</td><td>CategoryF, CategoryY</td></tr><tr><td>360</td><td>Customer360</td><td>28</td><td>Female</td><td>ProductL, ProductE</td><td>CategoryP, CategoryK</td></tr><tr><td>361</td><td>Customer361</td><td>36</td><td>Male</td><td>ProductQ, ProductE</td><td>CategoryA, CategoryN</td></tr><tr><td>362</td><td>Customer362</td><td>46</td><td>Male</td><td>ProductR, ProductJ</td><td>CategoryQ, CategoryC</td></tr><tr><td>363</td><td>Customer363</td><td>48</td><td>Female</td><td>ProductC, ProductU</td><td>CategoryT, CategoryI</td></tr><tr><td>364</td><td>Customer364</td><td>35</td><td>Female</td><td>ProductX, ProductY</td><td>CategoryB, CategoryI</td></tr><tr><td>365</td><td>Customer365</td><td>40</td><td>Male</td><td>ProductJ, ProductM</td><td>CategoryI, CategoryF</td></tr><tr><td>366</td><td>Customer366</td><td>68</td><td>Male</td><td>ProductH, ProductQ</td><td>CategoryK, CategoryC</td></tr><tr><td>367</td><td>Customer367</td><td>32</td><td>Female</td><td>ProductB, ProductK</td><td>CategoryX, CategoryI</td></tr><tr><td>368</td><td>Customer368</td><td>59</td><td>Male</td><td>ProductT, ProductQ</td><td>CategoryZ, CategoryA</td></tr><tr><td>369</td><td>Customer369</td><td>26</td><td>Female</td><td>ProductM, ProductT</td><td>CategoryI, CategoryG</td></tr><tr><td>370</td><td>Customer370</td><td>35</td><td>Female</td><td>ProductW, ProductE</td><td>CategoryF, CategoryL</td></tr><tr><td>371</td><td>Customer371</td><td>52</td><td>Female</td><td>ProductH, ProductX</td><td>CategoryS, CategoryU</td></tr><tr><td>372</td><td>Customer372</td><td>64</td><td>Male</td><td>ProductL, ProductF</td><td>CategoryO, CategoryH</td></tr><tr><td>373</td><td>Customer373</td><td>59</td><td>Male</td><td>ProductW, ProductF</td><td>CategoryJ, CategoryH</td></tr><tr><td>374</td><td>Customer374</td><td>38</td><td>Female</td><td>ProductM, ProductR</td><td>CategoryY, CategoryS</td></tr><tr><td>375</td><td>Customer375</td><td>55</td><td>Male</td><td>ProductU, ProductX</td><td>CategoryG, CategoryJ</td></tr><tr><td>376</td><td>Customer376</td><td>21</td><td>Male</td><td>ProductG, ProductB</td><td>CategoryM, CategoryJ</td></tr><tr><td>377</td><td>Customer377</td><td>34</td><td>Male</td><td>ProductV, ProductE</td><td>CategoryH, CategoryZ</td></tr><tr><td>378</td><td>Customer378</td><td>24</td><td>Male</td><td>ProductY, ProductL</td><td>CategoryH, CategoryD</td></tr><tr><td>379</td><td>Customer379</td><td>59</td><td>Female</td><td>ProductH, ProductV</td><td>CategoryH, CategoryW</td></tr><tr><td>380</td><td>Customer380</td><td>51</td><td>Male</td><td>ProductM, ProductZ</td><td>CategoryN, CategoryO</td></tr><tr><td>381</td><td>Customer381</td><td>37</td><td>Female</td><td>ProductS, ProductR</td><td>CategoryJ, CategoryS</td></tr><tr><td>382</td><td>Customer382</td><td>46</td><td>Male</td><td>ProductU, ProductO</td><td>CategoryL, CategoryN</td></tr><tr><td>383</td><td>Customer383</td><td>32</td><td>Female</td><td>ProductM, ProductK</td><td>CategoryR, CategoryF</td></tr><tr><td>384</td><td>Customer384</td><td>20</td><td>Male</td><td>ProductW, ProductF</td><td>CategoryL, CategoryO</td></tr><tr><td>385</td><td>Customer385</td><td>44</td><td>Female</td><td>ProductI, ProductH</td><td>CategoryM, CategoryO</td></tr><tr><td>386</td><td>Customer386</td><td>36</td><td>Female</td><td>ProductW, ProductM</td><td>CategoryS, CategoryG</td></tr><tr><td>387</td><td>Customer387</td><td>21</td><td>Male</td><td>ProductV, ProductD</td><td>CategoryD, CategoryE</td></tr><tr><td>388</td><td>Customer388</td><td>41</td><td>Female</td><td>ProductY, ProductY</td><td>CategoryU, CategoryD</td></tr><tr><td>389</td><td>Customer389</td><td>30</td><td>Female</td><td>ProductN, ProductU</td><td>CategoryJ, CategoryL</td></tr><tr><td>390</td><td>Customer390</td><td>26</td><td>Male</td><td>ProductX, ProductX</td><td>CategoryU, CategoryH</td></tr><tr><td>391</td><td>Customer391</td><td>68</td><td>Female</td><td>ProductB, ProductI</td><td>CategoryJ, CategoryU</td></tr><tr><td>392</td><td>Customer392</td><td>21</td><td>Female</td><td>ProductL, ProductD</td><td>CategoryG, CategoryV</td></tr><tr><td>393</td><td>Customer393</td><td>42</td><td>Female</td><td>ProductD, ProductM</td><td>CategoryC, CategoryZ</td></tr><tr><td>394</td><td>Customer394</td><td>56</td><td>Female</td><td>ProductY, ProductW</td><td>CategoryN, CategoryB</td></tr><tr><td>395</td><td>Customer395</td><td>53</td><td>Male</td><td>ProductQ, ProductT</td><td>CategoryZ, CategoryP</td></tr><tr><td>396</td><td>Customer396</td><td>24</td><td>Female</td><td>ProductO, ProductE</td><td>CategoryE, CategoryG</td></tr><tr><td>397</td><td>Customer397</td><td>56</td><td>Female</td><td>ProductE, ProductF</td><td>CategoryP, CategoryL</td></tr><tr><td>398</td><td>Customer398</td><td>36</td><td>Male</td><td>ProductR, ProductM</td><td>CategoryI, CategoryD</td></tr><tr><td>399</td><td>Customer399</td><td>52</td><td>Female</td><td>ProductF, ProductM</td><td>CategoryW, CategoryY</td></tr><tr><td>400</td><td>Customer400</td><td>29</td><td>Female</td><td>ProductK, ProductB</td><td>CategoryZ, CategoryV</td></tr><tr><td>401</td><td>Customer401</td><td>32</td><td>Female</td><td>ProductU, ProductW</td><td>CategoryX, CategoryB</td></tr><tr><td>402</td><td>Customer402</td><td>40</td><td>Female</td><td>ProductE, ProductG</td><td>CategoryQ, CategoryO</td></tr><tr><td>403</td><td>Customer403</td><td>64</td><td>Female</td><td>ProductX, ProductM</td><td>CategoryP, CategoryQ</td></tr><tr><td>404</td><td>Customer404</td><td>41</td><td>Male</td><td>ProductI, ProductI</td><td>CategoryR, CategoryK</td></tr><tr><td>405</td><td>Customer405</td><td>64</td><td>Male</td><td>ProductM, ProductS</td><td>CategoryG, CategoryX</td></tr><tr><td>406</td><td>Customer406</td><td>68</td><td>Male</td><td>ProductI, ProductN</td><td>CategoryO, CategoryG</td></tr><tr><td>407</td><td>Customer407</td><td>43</td><td>Female</td><td>ProductT, ProductW</td><td>CategoryF, CategoryH</td></tr><tr><td>408</td><td>Customer408</td><td>60</td><td>Male</td><td>ProductJ, ProductJ</td><td>CategoryR, CategoryJ</td></tr><tr><td>409</td><td>Customer409</td><td>60</td><td>Female</td><td>ProductC, ProductU</td><td>CategoryR, CategoryX</td></tr><tr><td>410</td><td>Customer410</td><td>55</td><td>Female</td><td>ProductJ, ProductT</td><td>CategoryS, CategoryH</td></tr><tr><td>411</td><td>Customer411</td><td>30</td><td>Male</td><td>ProductO, ProductD</td><td>CategoryX, CategoryF</td></tr><tr><td>412</td><td>Customer412</td><td>29</td><td>Male</td><td>ProductH, ProductG</td><td>CategoryK, CategoryI</td></tr><tr><td>413</td><td>Customer413</td><td>39</td><td>Female</td><td>ProductP, ProductC</td><td>CategoryR, CategoryE</td></tr><tr><td>414</td><td>Customer414</td><td>54</td><td>Female</td><td>ProductR, ProductO</td><td>CategoryT, CategoryF</td></tr><tr><td>415</td><td>Customer415</td><td>54</td><td>Female</td><td>ProductC, ProductZ</td><td>CategoryQ, CategoryE</td></tr><tr><td>416</td><td>Customer416</td><td>20</td><td>Male</td><td>ProductK, ProductN</td><td>CategoryK, CategoryM</td></tr><tr><td>417</td><td>Customer417</td><td>31</td><td>Female</td><td>ProductI, ProductX</td><td>CategoryO, CategoryB</td></tr><tr><td>418</td><td>Customer418</td><td>48</td><td>Female</td><td>ProductM, ProductN</td><td>CategoryC, CategoryY</td></tr><tr><td>419</td><td>Customer419</td><td>48</td><td>Female</td><td>ProductP, ProductM</td><td>CategoryO, CategoryI</td></tr><tr><td>420</td><td>Customer420</td><td>65</td><td>Female</td><td>ProductC, ProductT</td><td>CategoryQ, CategoryU</td></tr><tr><td>421</td><td>Customer421</td><td>23</td><td>Female</td><td>ProductO, ProductY</td><td>CategoryD, CategoryR</td></tr><tr><td>422</td><td>Customer422</td><td>27</td><td>Female</td><td>ProductR, ProductM</td><td>CategoryL, CategoryT</td></tr><tr><td>423</td><td>Customer423</td><td>46</td><td>Male</td><td>ProductV, ProductH</td><td>CategoryA, CategoryD</td></tr><tr><td>424</td><td>Customer424</td><td>52</td><td>Female</td><td>ProductZ, ProductP</td><td>CategoryY, CategoryD</td></tr><tr><td>425</td><td>Customer425</td><td>52</td><td>Female</td><td>ProductG, ProductS</td><td>CategoryW, CategoryI</td></tr><tr><td>426</td><td>Customer426</td><td>63</td><td>Male</td><td>ProductF, ProductY</td><td>CategoryD, CategoryU</td></tr><tr><td>427</td><td>Customer427</td><td>47</td><td>Male</td><td>ProductD, ProductP</td><td>CategoryP, CategoryG</td></tr><tr><td>428</td><td>Customer428</td><td>41</td><td>Male</td><td>ProductO, ProductS</td><td>CategoryV, CategoryB</td></tr><tr><td>429</td><td>Customer429</td><td>57</td><td>Female</td><td>ProductL, ProductR</td><td>CategoryB, CategoryG</td></tr><tr><td>430</td><td>Customer430</td><td>69</td><td>Male</td><td>ProductF, ProductK</td><td>CategoryH, CategoryG</td></tr><tr><td>431</td><td>Customer431</td><td>41</td><td>Male</td><td>ProductL, ProductD</td><td>CategoryH, CategoryZ</td></tr><tr><td>432</td><td>Customer432</td><td>27</td><td>Female</td><td>ProductI, ProductH</td><td>CategoryO, CategoryV</td></tr><tr><td>433</td><td>Customer433</td><td>50</td><td>Male</td><td>ProductN, ProductF</td><td>CategoryK, CategoryJ</td></tr><tr><td>434</td><td>Customer434</td><td>55</td><td>Male</td><td>ProductY, ProductN</td><td>CategoryT, CategoryH</td></tr><tr><td>435</td><td>Customer435</td><td>26</td><td>Female</td><td>ProductI, ProductL</td><td>CategoryD, CategoryL</td></tr><tr><td>436</td><td>Customer436</td><td>55</td><td>Male</td><td>ProductA, ProductK</td><td>CategoryX, CategoryL</td></tr><tr><td>437</td><td>Customer437</td><td>38</td><td>Female</td><td>ProductN, ProductD</td><td>CategoryY, CategoryK</td></tr><tr><td>438</td><td>Customer438</td><td>28</td><td>Female</td><td>ProductR, ProductM</td><td>CategoryH, CategoryC</td></tr><tr><td>439</td><td>Customer439</td><td>49</td><td>Female</td><td>ProductK, ProductF</td><td>CategoryR, CategoryU</td></tr><tr><td>440</td><td>Customer440</td><td>67</td><td>Male</td><td>ProductS, ProductS</td><td>CategoryM, CategoryG</td></tr><tr><td>441</td><td>Customer441</td><td>53</td><td>Female</td><td>ProductG, ProductF</td><td>CategoryH, CategoryU</td></tr><tr><td>442</td><td>Customer442</td><td>29</td><td>Female</td><td>ProductC, ProductT</td><td>CategoryO, CategoryM</td></tr><tr><td>443</td><td>Customer443</td><td>62</td><td>Female</td><td>ProductD, ProductM</td><td>CategoryX, CategoryE</td></tr><tr><td>444</td><td>Customer444</td><td>21</td><td>Female</td><td>ProductC, ProductO</td><td>CategoryO, CategoryC</td></tr><tr><td>445</td><td>Customer445</td><td>56</td><td>Male</td><td>ProductP, ProductY</td><td>CategoryZ, CategoryD</td></tr><tr><td>446</td><td>Customer446</td><td>46</td><td>Male</td><td>ProductV, ProductH</td><td>CategoryY, CategoryX</td></tr><tr><td>447</td><td>Customer447</td><td>60</td><td>Male</td><td>ProductN, ProductD</td><td>CategoryX, CategoryI</td></tr><tr><td>448</td><td>Customer448</td><td>64</td><td>Male</td><td>ProductI, ProductN</td><td>CategoryO, CategoryF</td></tr><tr><td>449</td><td>Customer449</td><td>34</td><td>Female</td><td>ProductH, ProductX</td><td>CategoryV, CategoryJ</td></tr><tr><td>450</td><td>Customer450</td><td>32</td><td>Male</td><td>ProductF, ProductM</td><td>CategoryS, CategoryE</td></tr><tr><td>451</td><td>Customer451</td><td>55</td><td>Female</td><td>ProductV, ProductI</td><td>CategoryY, CategoryW</td></tr><tr><td>452</td><td>Customer452</td><td>46</td><td>Female</td><td>ProductJ, ProductW</td><td>CategoryJ, CategoryE</td></tr><tr><td>453</td><td>Customer453</td><td>54</td><td>Female</td><td>ProductP, ProductE</td><td>CategoryD, CategoryC</td></tr><tr><td>454</td><td>Customer454</td><td>68</td><td>Female</td><td>ProductE, ProductZ</td><td>CategoryM, CategoryL</td></tr><tr><td>455</td><td>Customer455</td><td>56</td><td>Male</td><td>ProductL, ProductF</td><td>CategoryR, CategoryV</td></tr><tr><td>456</td><td>Customer456</td><td>24</td><td>Female</td><td>ProductG, ProductO</td><td>CategoryB, CategoryM</td></tr><tr><td>457</td><td>Customer457</td><td>38</td><td>Male</td><td>ProductL, ProductJ</td><td>CategoryL, CategoryC</td></tr><tr><td>458</td><td>Customer458</td><td>28</td><td>Female</td><td>ProductI, ProductV</td><td>CategoryI, CategoryD</td></tr><tr><td>459</td><td>Customer459</td><td>53</td><td>Female</td><td>ProductJ, ProductE</td><td>CategoryT, CategoryG</td></tr><tr><td>460</td><td>Customer460</td><td>23</td><td>Male</td><td>ProductG, ProductU</td><td>CategoryF, CategoryQ</td></tr><tr><td>461</td><td>Customer461</td><td>47</td><td>Female</td><td>ProductM, ProductX</td><td>CategoryF, CategoryG</td></tr><tr><td>462</td><td>Customer462</td><td>53</td><td>Female</td><td>ProductT, ProductF</td><td>CategoryS, CategoryX</td></tr><tr><td>463</td><td>Customer463</td><td>43</td><td>Female</td><td>ProductM, ProductQ</td><td>CategoryV, CategoryH</td></tr><tr><td>464</td><td>Customer464</td><td>66</td><td>Female</td><td>ProductX, ProductL</td><td>CategoryM, CategoryZ</td></tr><tr><td>465</td><td>Customer465</td><td>48</td><td>Female</td><td>ProductM, ProductW</td><td>CategoryX, CategoryB</td></tr><tr><td>466</td><td>Customer466</td><td>39</td><td>Female</td><td>ProductV, ProductW</td><td>CategoryV, CategoryN</td></tr><tr><td>467</td><td>Customer467</td><td>29</td><td>Male</td><td>ProductV, ProductI</td><td>CategoryB, CategoryJ</td></tr><tr><td>468</td><td>Customer468</td><td>50</td><td>Female</td><td>ProductV, ProductK</td><td>CategoryN, CategoryK</td></tr><tr><td>469</td><td>Customer469</td><td>40</td><td>Female</td><td>ProductW, ProductY</td><td>CategoryC, CategoryQ</td></tr><tr><td>470</td><td>Customer470</td><td>64</td><td>Female</td><td>ProductB, ProductN</td><td>CategoryM, CategoryV</td></tr><tr><td>471</td><td>Customer471</td><td>55</td><td>Male</td><td>ProductD, ProductL</td><td>CategoryT, CategoryQ</td></tr><tr><td>472</td><td>Customer472</td><td>60</td><td>Male</td><td>ProductB, ProductA</td><td>CategoryW, CategoryI</td></tr><tr><td>473</td><td>Customer473</td><td>67</td><td>Female</td><td>ProductX, ProductL</td><td>CategoryM, CategoryX</td></tr><tr><td>474</td><td>Customer474</td><td>35</td><td>Female</td><td>ProductM, ProductJ</td><td>CategoryJ, CategoryU</td></tr><tr><td>475</td><td>Customer475</td><td>65</td><td>Male</td><td>ProductN, ProductO</td><td>CategoryE, CategoryC</td></tr><tr><td>476</td><td>Customer476</td><td>67</td><td>Male</td><td>ProductN, ProductF</td><td>CategoryK, CategoryJ</td></tr><tr><td>477</td><td>Customer477</td><td>52</td><td>Male</td><td>ProductU, ProductQ</td><td>CategoryQ, CategoryL</td></tr><tr><td>478</td><td>Customer478</td><td>30</td><td>Female</td><td>ProductW, ProductI</td><td>CategoryX, CategoryR</td></tr><tr><td>479</td><td>Customer479</td><td>51</td><td>Male</td><td>ProductJ, ProductT</td><td>CategoryP, CategoryU</td></tr><tr><td>480</td><td>Customer480</td><td>26</td><td>Male</td><td>ProductY, ProductA</td><td>CategoryF, CategoryW</td></tr><tr><td>481</td><td>Customer481</td><td>66</td><td>Female</td><td>ProductS, ProductY</td><td>CategoryP, CategoryD</td></tr><tr><td>482</td><td>Customer482</td><td>57</td><td>Male</td><td>ProductO, ProductU</td><td>CategoryF, CategoryS</td></tr><tr><td>483</td><td>Customer483</td><td>22</td><td>Female</td><td>ProductU, ProductZ</td><td>CategoryO, CategoryX</td></tr><tr><td>484</td><td>Customer484</td><td>67</td><td>Female</td><td>ProductR, ProductR</td><td>CategoryJ, CategoryT</td></tr><tr><td>485</td><td>Customer485</td><td>53</td><td>Male</td><td>ProductH, ProductF</td><td>CategoryD, CategoryA</td></tr><tr><td>486</td><td>Customer486</td><td>58</td><td>Female</td><td>ProductK, ProductU</td><td>CategoryU, CategoryR</td></tr><tr><td>487</td><td>Customer487</td><td>67</td><td>Female</td><td>ProductK, ProductD</td><td>CategoryI, CategoryI</td></tr><tr><td>488</td><td>Customer488</td><td>55</td><td>Male</td><td>ProductE, ProductM</td><td>CategoryW, CategoryY</td></tr><tr><td>489</td><td>Customer489</td><td>26</td><td>Female</td><td>ProductM, ProductD</td><td>CategoryE, CategoryL</td></tr><tr><td>490</td><td>Customer490</td><td>52</td><td>Female</td><td>ProductW, ProductM</td><td>CategoryV, CategoryR</td></tr><tr><td>491</td><td>Customer491</td><td>66</td><td>Female</td><td>ProductW, ProductV</td><td>CategoryO, CategoryG</td></tr><tr><td>492</td><td>Customer492</td><td>50</td><td>Male</td><td>ProductL, ProductK</td><td>CategoryT, CategoryQ</td></tr><tr><td>493</td><td>Customer493</td><td>65</td><td>Female</td><td>ProductD, ProductY</td><td>CategoryL, CategoryH</td></tr><tr><td>494</td><td>Customer494</td><td>26</td><td>Female</td><td>ProductF, ProductV</td><td>CategoryO, CategoryJ</td></tr><tr><td>495</td><td>Customer495</td><td>25</td><td>Male</td><td>ProductU, ProductT</td><td>CategoryJ, CategoryN</td></tr><tr><td>496</td><td>Customer496</td><td>46</td><td>Male</td><td>ProductU, ProductT</td><td>CategoryK, CategoryR</td></tr><tr><td>497</td><td>Customer497</td><td>30</td><td>Female</td><td>ProductF, ProductD</td><td>CategoryC, CategoryB</td></tr><tr><td>498</td><td>Customer498</td><td>63</td><td>Male</td><td>ProductO, ProductF</td><td>CategoryF, CategoryM</td></tr><tr><td>499</td><td>Customer499</td><td>55</td><td>Male</td><td>ProductH, ProductG</td><td>CategoryI, CategoryV</td></tr><tr><td>500</td><td>Customer500</td><td>37</td><td>Male</td><td>ProductO, ProductK</td><td>CategoryH, CategoryI</td></tr><tr><td>501</td><td>Customer501</td><td>60</td><td>Female</td><td>ProductN, ProductQ</td><td>CategoryQ, CategoryF</td></tr><tr><td>502</td><td>Customer502</td><td>28</td><td>Male</td><td>ProductN, ProductX</td><td>CategoryC, CategoryS</td></tr><tr><td>503</td><td>Customer503</td><td>34</td><td>Male</td><td>ProductP, ProductF</td><td>CategoryE, CategoryG</td></tr><tr><td>504</td><td>Customer504</td><td>55</td><td>Female</td><td>ProductT, ProductO</td><td>CategoryM, CategoryR</td></tr><tr><td>505</td><td>Customer505</td><td>69</td><td>Female</td><td>ProductH, ProductW</td><td>CategoryQ, CategoryN</td></tr><tr><td>506</td><td>Customer506</td><td>52</td><td>Female</td><td>ProductM, ProductK</td><td>CategoryO, CategoryP</td></tr><tr><td>507</td><td>Customer507</td><td>38</td><td>Female</td><td>ProductU, ProductD</td><td>CategoryF, CategoryO</td></tr><tr><td>508</td><td>Customer508</td><td>34</td><td>Female</td><td>ProductS, ProductL</td><td>CategoryZ, CategoryR</td></tr><tr><td>509</td><td>Customer509</td><td>43</td><td>Male</td><td>ProductW, ProductS</td><td>CategoryV, CategoryB</td></tr><tr><td>510</td><td>Customer510</td><td>58</td><td>Female</td><td>ProductC, ProductL</td><td>CategoryW, CategoryE</td></tr><tr><td>511</td><td>Customer511</td><td>27</td><td>Male</td><td>ProductL, ProductT</td><td>CategoryM, CategoryE</td></tr><tr><td>512</td><td>Customer512</td><td>36</td><td>Male</td><td>ProductQ, ProductV</td><td>CategoryJ, CategoryF</td></tr><tr><td>513</td><td>Customer513</td><td>63</td><td>Female</td><td>ProductD, ProductJ</td><td>CategoryN, CategoryM</td></tr><tr><td>514</td><td>Customer514</td><td>63</td><td>Female</td><td>ProductO, ProductG</td><td>CategoryP, CategoryH</td></tr><tr><td>515</td><td>Customer515</td><td>50</td><td>Male</td><td>ProductD, ProductZ</td><td>CategoryP, CategoryB</td></tr><tr><td>516</td><td>Customer516</td><td>43</td><td>Male</td><td>ProductM, ProductU</td><td>CategoryO, CategoryJ</td></tr><tr><td>517</td><td>Customer517</td><td>30</td><td>Female</td><td>ProductV, ProductO</td><td>CategoryI, CategoryV</td></tr><tr><td>518</td><td>Customer518</td><td>38</td><td>Male</td><td>ProductV, ProductS</td><td>CategoryZ, CategoryV</td></tr><tr><td>519</td><td>Customer519</td><td>29</td><td>Male</td><td>ProductM, ProductG</td><td>CategoryR, CategoryS</td></tr><tr><td>520</td><td>Customer520</td><td>45</td><td>Male</td><td>ProductJ, ProductR</td><td>CategoryI, CategoryM</td></tr><tr><td>521</td><td>Customer521</td><td>47</td><td>Male</td><td>ProductN, ProductY</td><td>CategoryG, CategoryI</td></tr><tr><td>522</td><td>Customer522</td><td>66</td><td>Female</td><td>ProductF, ProductI</td><td>CategoryX, CategoryP</td></tr><tr><td>523</td><td>Customer523</td><td>33</td><td>Female</td><td>ProductY, ProductD</td><td>CategoryU, CategoryQ</td></tr><tr><td>524</td><td>Customer524</td><td>62</td><td>Male</td><td>ProductS, ProductV</td><td>CategoryA, CategoryO</td></tr><tr><td>525</td><td>Customer525</td><td>62</td><td>Female</td><td>ProductZ, ProductL</td><td>CategoryI, CategoryE</td></tr><tr><td>526</td><td>Customer526</td><td>60</td><td>Female</td><td>ProductO, ProductX</td><td>CategoryB, CategoryI</td></tr><tr><td>527</td><td>Customer527</td><td>51</td><td>Male</td><td>ProductP, ProductS</td><td>CategoryT, CategoryS</td></tr><tr><td>528</td><td>Customer528</td><td>33</td><td>Male</td><td>ProductY, ProductI</td><td>CategoryS, CategoryR</td></tr><tr><td>529</td><td>Customer529</td><td>32</td><td>Male</td><td>ProductE, ProductF</td><td>CategoryO, CategoryH</td></tr><tr><td>530</td><td>Customer530</td><td>53</td><td>Male</td><td>ProductI, ProductF</td><td>CategoryC, CategoryV</td></tr><tr><td>531</td><td>Customer531</td><td>65</td><td>Female</td><td>ProductH, ProductJ</td><td>CategoryY, CategoryR</td></tr><tr><td>532</td><td>Customer532</td><td>46</td><td>Female</td><td>ProductK, ProductF</td><td>CategoryT, CategoryF</td></tr><tr><td>533</td><td>Customer533</td><td>53</td><td>Female</td><td>ProductA, ProductP</td><td>CategoryA, CategoryG</td></tr><tr><td>534</td><td>Customer534</td><td>28</td><td>Male</td><td>ProductV, ProductC</td><td>CategoryU, CategoryT</td></tr><tr><td>535</td><td>Customer535</td><td>39</td><td>Female</td><td>ProductC, ProductM</td><td>CategoryC, CategoryC</td></tr><tr><td>536</td><td>Customer536</td><td>29</td><td>Female</td><td>ProductK, ProductF</td><td>CategoryX, CategoryW</td></tr><tr><td>537</td><td>Customer537</td><td>53</td><td>Female</td><td>ProductN, ProductN</td><td>CategoryZ, CategoryK</td></tr><tr><td>538</td><td>Customer538</td><td>24</td><td>Male</td><td>ProductQ, ProductQ</td><td>CategoryF, CategoryF</td></tr><tr><td>539</td><td>Customer539</td><td>41</td><td>Male</td><td>ProductA, ProductR</td><td>CategoryI, CategoryR</td></tr><tr><td>540</td><td>Customer540</td><td>38</td><td>Female</td><td>ProductQ, ProductY</td><td>CategoryV, CategoryL</td></tr><tr><td>541</td><td>Customer541</td><td>50</td><td>Female</td><td>ProductO, ProductT</td><td>CategoryC, CategoryG</td></tr><tr><td>542</td><td>Customer542</td><td>62</td><td>Male</td><td>ProductX, ProductF</td><td>CategoryG, CategoryP</td></tr><tr><td>543</td><td>Customer543</td><td>32</td><td>Male</td><td>ProductN, ProductH</td><td>CategoryU, CategoryD</td></tr><tr><td>544</td><td>Customer544</td><td>32</td><td>Female</td><td>ProductJ, ProductL</td><td>CategoryB, CategoryX</td></tr><tr><td>545</td><td>Customer545</td><td>45</td><td>Female</td><td>ProductX, ProductP</td><td>CategoryG, CategoryJ</td></tr><tr><td>546</td><td>Customer546</td><td>21</td><td>Male</td><td>ProductE, ProductR</td><td>CategoryY, CategoryS</td></tr><tr><td>547</td><td>Customer547</td><td>60</td><td>Female</td><td>ProductS, ProductB</td><td>CategoryE, CategoryQ</td></tr><tr><td>548</td><td>Customer548</td><td>56</td><td>Female</td><td>ProductF, ProductB</td><td>CategoryO, CategoryS</td></tr><tr><td>549</td><td>Customer549</td><td>63</td><td>Male</td><td>ProductK, ProductL</td><td>CategoryB, CategoryU</td></tr><tr><td>550</td><td>Customer550</td><td>69</td><td>Male</td><td>ProductE, ProductQ</td><td>CategoryP, CategoryE</td></tr><tr><td>551</td><td>Customer551</td><td>65</td><td>Male</td><td>ProductP, ProductV</td><td>CategoryJ, CategoryJ</td></tr><tr><td>552</td><td>Customer552</td><td>53</td><td>Male</td><td>ProductI, ProductT</td><td>CategoryV, CategoryX</td></tr><tr><td>553</td><td>Customer553</td><td>27</td><td>Female</td><td>ProductE, ProductD</td><td>CategoryC, CategoryC</td></tr><tr><td>554</td><td>Customer554</td><td>25</td><td>Male</td><td>ProductB, ProductK</td><td>CategoryV, CategoryC</td></tr><tr><td>555</td><td>Customer555</td><td>64</td><td>Male</td><td>ProductW, ProductD</td><td>CategoryA, CategoryQ</td></tr><tr><td>556</td><td>Customer556</td><td>32</td><td>Male</td><td>ProductK, ProductJ</td><td>CategoryQ, CategoryZ</td></tr><tr><td>557</td><td>Customer557</td><td>25</td><td>Female</td><td>ProductK, ProductL</td><td>CategoryA, CategoryS</td></tr><tr><td>558</td><td>Customer558</td><td>48</td><td>Female</td><td>ProductL, ProductI</td><td>CategoryF, CategoryE</td></tr><tr><td>559</td><td>Customer559</td><td>28</td><td>Male</td><td>ProductA, ProductF</td><td>CategoryY, CategoryD</td></tr><tr><td>560</td><td>Customer560</td><td>58</td><td>Male</td><td>ProductZ, ProductO</td><td>CategoryU, CategoryI</td></tr><tr><td>561</td><td>Customer561</td><td>30</td><td>Male</td><td>ProductP, ProductV</td><td>CategoryL, CategoryR</td></tr><tr><td>562</td><td>Customer562</td><td>21</td><td>Male</td><td>ProductN, ProductF</td><td>CategoryM, CategoryU</td></tr><tr><td>563</td><td>Customer563</td><td>46</td><td>Male</td><td>ProductP, ProductH</td><td>CategoryN, CategoryW</td></tr><tr><td>564</td><td>Customer564</td><td>63</td><td>Female</td><td>ProductN, ProductS</td><td>CategoryY, CategoryT</td></tr><tr><td>565</td><td>Customer565</td><td>67</td><td>Male</td><td>ProductE, ProductO</td><td>CategoryI, CategoryX</td></tr><tr><td>566</td><td>Customer566</td><td>55</td><td>Female</td><td>ProductI, ProductO</td><td>CategoryX, CategoryU</td></tr><tr><td>567</td><td>Customer567</td><td>34</td><td>Female</td><td>ProductE, ProductS</td><td>CategoryE, CategoryR</td></tr><tr><td>568</td><td>Customer568</td><td>66</td><td>Female</td><td>ProductZ, ProductH</td><td>CategoryM, CategoryL</td></tr><tr><td>569</td><td>Customer569</td><td>65</td><td>Male</td><td>ProductU, ProductT</td><td>CategoryJ, CategoryN</td></tr><tr><td>570</td><td>Customer570</td><td>48</td><td>Male</td><td>ProductI, ProductB</td><td>CategoryE, CategoryR</td></tr><tr><td>571</td><td>Customer571</td><td>70</td><td>Female</td><td>ProductP, ProductG</td><td>CategoryI, CategoryX</td></tr><tr><td>572</td><td>Customer572</td><td>56</td><td>Female</td><td>ProductY, ProductK</td><td>CategoryY, CategoryT</td></tr><tr><td>573</td><td>Customer573</td><td>59</td><td>Female</td><td>ProductB, ProductD</td><td>CategoryN, CategoryG</td></tr><tr><td>574</td><td>Customer574</td><td>51</td><td>Male</td><td>ProductZ, ProductW</td><td>CategoryK, CategoryI</td></tr><tr><td>575</td><td>Customer575</td><td>38</td><td>Female</td><td>ProductG, ProductN</td><td>CategoryB, CategoryM</td></tr><tr><td>576</td><td>Customer576</td><td>40</td><td>Female</td><td>ProductM, ProductV</td><td>CategoryU, CategoryL</td></tr><tr><td>577</td><td>Customer577</td><td>58</td><td>Female</td><td>ProductI, ProductB</td><td>CategoryH, CategoryF</td></tr><tr><td>578</td><td>Customer578</td><td>33</td><td>Female</td><td>ProductN, ProductP</td><td>CategoryM, CategoryQ</td></tr><tr><td>579</td><td>Customer579</td><td>55</td><td>Female</td><td>ProductX, ProductS</td><td>CategoryW, CategoryH</td></tr><tr><td>580</td><td>Customer580</td><td>59</td><td>Male</td><td>ProductY, ProductQ</td><td>CategoryI, CategoryQ</td></tr><tr><td>581</td><td>Customer581</td><td>36</td><td>Female</td><td>ProductJ, ProductU</td><td>CategoryZ, CategoryO</td></tr><tr><td>582</td><td>Customer582</td><td>55</td><td>Female</td><td>ProductJ, ProductC</td><td>CategoryI, CategoryJ</td></tr><tr><td>583</td><td>Customer583</td><td>60</td><td>Female</td><td>ProductM, ProductN</td><td>CategoryE, CategoryF</td></tr><tr><td>584</td><td>Customer584</td><td>49</td><td>Male</td><td>ProductR, ProductM</td><td>CategoryK, CategoryP</td></tr><tr><td>585</td><td>Customer585</td><td>62</td><td>Male</td><td>ProductJ, ProductP</td><td>CategoryX, CategoryV</td></tr><tr><td>586</td><td>Customer586</td><td>40</td><td>Female</td><td>ProductM, ProductV</td><td>CategoryT, CategoryF</td></tr><tr><td>587</td><td>Customer587</td><td>60</td><td>Male</td><td>ProductI, ProductQ</td><td>CategoryH, CategoryK</td></tr><tr><td>588</td><td>Customer588</td><td>30</td><td>Female</td><td>ProductE, ProductO</td><td>CategoryI, CategoryY</td></tr><tr><td>589</td><td>Customer589</td><td>64</td><td>Male</td><td>ProductP, ProductQ</td><td>CategoryL, CategoryF</td></tr><tr><td>590</td><td>Customer590</td><td>54</td><td>Female</td><td>ProductG, ProductR</td><td>CategoryS, CategoryL</td></tr><tr><td>591</td><td>Customer591</td><td>26</td><td>Male</td><td>ProductT, ProductC</td><td>CategoryE, CategoryO</td></tr><tr><td>592</td><td>Customer592</td><td>38</td><td>Male</td><td>ProductG, ProductY</td><td>CategoryE, CategoryW</td></tr><tr><td>593</td><td>Customer593</td><td>65</td><td>Female</td><td>ProductT, ProductE</td><td>CategoryL, CategoryR</td></tr><tr><td>594</td><td>Customer594</td><td>29</td><td>Female</td><td>ProductS, ProductY</td><td>CategoryS, CategoryT</td></tr><tr><td>595</td><td>Customer595</td><td>47</td><td>Male</td><td>ProductO, ProductM</td><td>CategoryR, CategoryB</td></tr><tr><td>596</td><td>Customer596</td><td>28</td><td>Female</td><td>ProductS, ProductQ</td><td>CategoryA, CategoryE</td></tr><tr><td>597</td><td>Customer597</td><td>55</td><td>Male</td><td>ProductL, ProductW</td><td>CategoryC, CategoryV</td></tr><tr><td>598</td><td>Customer598</td><td>63</td><td>Female</td><td>ProductI, ProductI</td><td>CategoryQ, CategoryE</td></tr><tr><td>599</td><td>Customer599</td><td>68</td><td>Male</td><td>ProductT, ProductS</td><td>CategoryK, CategoryT</td></tr><tr><td>600</td><td>Customer600</td><td>48</td><td>Female</td><td>ProductI, ProductS</td><td>CategoryS, CategoryJ</td></tr><tr><td>601</td><td>Customer601</td><td>55</td><td>Male</td><td>ProductB, ProductW</td><td>CategoryJ, CategoryF</td></tr><tr><td>602</td><td>Customer602</td><td>63</td><td>Female</td><td>ProductX, ProductL</td><td>CategoryK, CategoryS</td></tr><tr><td>603</td><td>Customer603</td><td>41</td><td>Female</td><td>ProductP, ProductB</td><td>CategoryJ, CategoryT</td></tr><tr><td>604</td><td>Customer604</td><td>58</td><td>Male</td><td>ProductY, ProductK</td><td>CategoryE, CategoryQ</td></tr><tr><td>605</td><td>Customer605</td><td>56</td><td>Female</td><td>ProductC, ProductN</td><td>CategoryJ, CategoryH</td></tr><tr><td>606</td><td>Customer606</td><td>36</td><td>Female</td><td>ProductQ, ProductC</td><td>CategoryK, CategoryW</td></tr><tr><td>607</td><td>Customer607</td><td>23</td><td>Female</td><td>ProductN, ProductI</td><td>CategoryE, CategoryU</td></tr><tr><td>608</td><td>Customer608</td><td>41</td><td>Female</td><td>ProductP, ProductR</td><td>CategoryN, CategoryR</td></tr><tr><td>609</td><td>Customer609</td><td>63</td><td>Male</td><td>ProductQ, ProductK</td><td>CategoryC, CategoryE</td></tr><tr><td>610</td><td>Customer610</td><td>53</td><td>Female</td><td>ProductB, ProductS</td><td>CategoryN, CategoryN</td></tr><tr><td>611</td><td>Customer611</td><td>69</td><td>Male</td><td>ProductW, ProductI</td><td>CategoryY, CategoryT</td></tr><tr><td>612</td><td>Customer612</td><td>69</td><td>Female</td><td>ProductF, ProductD</td><td>CategoryC, CategoryX</td></tr><tr><td>613</td><td>Customer613</td><td>40</td><td>Male</td><td>ProductZ, ProductG</td><td>CategoryF, CategoryI</td></tr><tr><td>614</td><td>Customer614</td><td>68</td><td>Female</td><td>ProductM, ProductS</td><td>CategoryG, CategoryC</td></tr><tr><td>615</td><td>Customer615</td><td>54</td><td>Male</td><td>ProductS, ProductD</td><td>CategoryM, CategoryY</td></tr><tr><td>616</td><td>Customer616</td><td>40</td><td>Male</td><td>ProductJ, ProductK</td><td>CategoryY, CategoryQ</td></tr><tr><td>617</td><td>Customer617</td><td>33</td><td>Male</td><td>ProductI, ProductJ</td><td>CategoryT, CategoryR</td></tr><tr><td>618</td><td>Customer618</td><td>32</td><td>Male</td><td>ProductV, ProductX</td><td>CategoryD, CategoryT</td></tr><tr><td>619</td><td>Customer619</td><td>40</td><td>Female</td><td>ProductS, ProductE</td><td>CategoryT, CategoryI</td></tr><tr><td>620</td><td>Customer620</td><td>33</td><td>Male</td><td>ProductC, ProductI</td><td>CategoryJ, CategoryV</td></tr><tr><td>621</td><td>Customer621</td><td>26</td><td>Male</td><td>ProductW, ProductI</td><td>CategoryX, CategoryQ</td></tr><tr><td>622</td><td>Customer622</td><td>38</td><td>Female</td><td>ProductR, ProductP</td><td>CategoryW, CategoryR</td></tr><tr><td>623</td><td>Customer623</td><td>53</td><td>Male</td><td>ProductS, ProductO</td><td>CategoryP, CategoryH</td></tr><tr><td>624</td><td>Customer624</td><td>54</td><td>Female</td><td>ProductN, ProductA</td><td>CategoryN, CategoryO</td></tr><tr><td>625</td><td>Customer625</td><td>31</td><td>Male</td><td>ProductL, ProductY</td><td>CategoryM, CategoryL</td></tr><tr><td>626</td><td>Customer626</td><td>59</td><td>Female</td><td>ProductP, ProductF</td><td>CategoryF, CategoryJ</td></tr><tr><td>627</td><td>Customer627</td><td>28</td><td>Female</td><td>ProductL, ProductU</td><td>CategoryQ, CategoryV</td></tr><tr><td>628</td><td>Customer628</td><td>31</td><td>Female</td><td>ProductI, ProductX</td><td>CategoryN, CategoryY</td></tr><tr><td>629</td><td>Customer629</td><td>30</td><td>Male</td><td>ProductX, ProductG</td><td>CategoryN, CategoryV</td></tr><tr><td>630</td><td>Customer630</td><td>51</td><td>Female</td><td>ProductY, ProductC</td><td>CategoryP, CategoryT</td></tr><tr><td>631</td><td>Customer631</td><td>65</td><td>Male</td><td>ProductP, ProductF</td><td>CategoryF, CategoryK</td></tr><tr><td>632</td><td>Customer632</td><td>41</td><td>Female</td><td>ProductG, ProductO</td><td>CategoryA, CategoryK</td></tr><tr><td>633</td><td>Customer633</td><td>21</td><td>Female</td><td>ProductH, ProductT</td><td>CategoryY, CategoryN</td></tr><tr><td>634</td><td>Customer634</td><td>60</td><td>Male</td><td>ProductR, ProductF</td><td>CategoryY, CategoryE</td></tr><tr><td>635</td><td>Customer635</td><td>63</td><td>Female</td><td>ProductQ, ProductQ</td><td>CategoryI, CategoryP</td></tr><tr><td>636</td><td>Customer636</td><td>27</td><td>Female</td><td>ProductX, ProductB</td><td>CategoryL, CategoryZ</td></tr><tr><td>637</td><td>Customer637</td><td>55</td><td>Female</td><td>ProductQ, ProductN</td><td>CategoryQ, CategoryR</td></tr><tr><td>638</td><td>Customer638</td><td>47</td><td>Female</td><td>ProductI, ProductU</td><td>CategoryC, CategoryZ</td></tr><tr><td>639</td><td>Customer639</td><td>56</td><td>Female</td><td>ProductD, ProductQ</td><td>CategoryW, CategoryK</td></tr><tr><td>640</td><td>Customer640</td><td>35</td><td>Male</td><td>ProductZ, ProductU</td><td>CategoryD, CategoryC</td></tr><tr><td>641</td><td>Customer641</td><td>26</td><td>Male</td><td>ProductE, ProductY</td><td>CategoryG, CategoryK</td></tr><tr><td>642</td><td>Customer642</td><td>35</td><td>Male</td><td>ProductL, ProductL</td><td>CategoryU, CategoryQ</td></tr><tr><td>643</td><td>Customer643</td><td>65</td><td>Female</td><td>ProductV, ProductT</td><td>CategoryH, CategoryD</td></tr><tr><td>644</td><td>Customer644</td><td>59</td><td>Male</td><td>ProductC, ProductB</td><td>CategoryV, CategoryE</td></tr><tr><td>645</td><td>Customer645</td><td>33</td><td>Female</td><td>ProductJ, ProductG</td><td>CategoryD, CategoryZ</td></tr><tr><td>646</td><td>Customer646</td><td>45</td><td>Female</td><td>ProductJ, ProductD</td><td>CategoryM, CategoryB</td></tr><tr><td>647</td><td>Customer647</td><td>60</td><td>Female</td><td>ProductX, ProductB</td><td>CategoryM, CategoryF</td></tr><tr><td>648</td><td>Customer648</td><td>49</td><td>Male</td><td>ProductW, ProductJ</td><td>CategoryF, CategoryW</td></tr><tr><td>649</td><td>Customer649</td><td>59</td><td>Male</td><td>ProductE, ProductY</td><td>CategoryI, CategoryQ</td></tr><tr><td>650</td><td>Customer650</td><td>32</td><td>Male</td><td>ProductU, ProductA</td><td>CategoryS, CategoryO</td></tr><tr><td>651</td><td>Customer651</td><td>49</td><td>Male</td><td>ProductM, ProductQ</td><td>CategoryS, CategoryT</td></tr><tr><td>652</td><td>Customer652</td><td>52</td><td>Female</td><td>ProductT, ProductX</td><td>CategoryK, CategoryE</td></tr><tr><td>653</td><td>Customer653</td><td>55</td><td>Male</td><td>ProductX, ProductQ</td><td>CategoryJ, CategoryV</td></tr><tr><td>654</td><td>Customer654</td><td>29</td><td>Male</td><td>ProductF, ProductY</td><td>CategoryE, CategoryB</td></tr><tr><td>655</td><td>Customer655</td><td>52</td><td>Male</td><td>ProductK, ProductU</td><td>CategoryW, CategoryB</td></tr><tr><td>656</td><td>Customer656</td><td>44</td><td>Male</td><td>ProductY, ProductW</td><td>CategoryQ, CategoryO</td></tr><tr><td>657</td><td>Customer657</td><td>60</td><td>Male</td><td>ProductO, ProductO</td><td>CategoryF, CategoryI</td></tr><tr><td>658</td><td>Customer658</td><td>20</td><td>Male</td><td>ProductE, ProductT</td><td>CategoryF, CategoryT</td></tr><tr><td>659</td><td>Customer659</td><td>31</td><td>Female</td><td>ProductM, ProductX</td><td>CategoryF, CategoryE</td></tr><tr><td>660</td><td>Customer660</td><td>31</td><td>Female</td><td>ProductI, ProductU</td><td>CategoryA, CategoryS</td></tr><tr><td>661</td><td>Customer661</td><td>45</td><td>Male</td><td>ProductH, ProductJ</td><td>CategoryY, CategoryQ</td></tr><tr><td>662</td><td>Customer662</td><td>41</td><td>Male</td><td>ProductO, ProductF</td><td>CategoryL, CategoryQ</td></tr><tr><td>663</td><td>Customer663</td><td>61</td><td>Male</td><td>ProductM, ProductU</td><td>CategoryQ, CategoryU</td></tr><tr><td>664</td><td>Customer664</td><td>26</td><td>Male</td><td>ProductM, ProductX</td><td>CategoryF, CategoryE</td></tr><tr><td>665</td><td>Customer665</td><td>35</td><td>Male</td><td>ProductD, ProductN</td><td>CategoryG, CategoryT</td></tr><tr><td>666</td><td>Customer666</td><td>67</td><td>Female</td><td>ProductS, ProductB</td><td>CategoryA, CategoryX</td></tr><tr><td>667</td><td>Customer667</td><td>52</td><td>Male</td><td>ProductG, ProductY</td><td>CategoryB, CategoryG</td></tr><tr><td>668</td><td>Customer668</td><td>30</td><td>Male</td><td>ProductL, ProductO</td><td>CategoryM, CategoryU</td></tr><tr><td>669</td><td>Customer669</td><td>42</td><td>Female</td><td>ProductW, ProductW</td><td>CategoryT, CategoryD</td></tr><tr><td>670</td><td>Customer670</td><td>36</td><td>Male</td><td>ProductN, ProductQ</td><td>CategoryR, CategoryL</td></tr><tr><td>671</td><td>Customer671</td><td>30</td><td>Female</td><td>ProductV, ProductF</td><td>CategoryM, CategoryS</td></tr><tr><td>672</td><td>Customer672</td><td>31</td><td>Female</td><td>ProductW, ProductQ</td><td>CategoryP, CategoryE</td></tr><tr><td>673</td><td>Customer673</td><td>65</td><td>Male</td><td>ProductN, ProductK</td><td>CategoryO, CategoryN</td></tr><tr><td>674</td><td>Customer674</td><td>63</td><td>Female</td><td>ProductL, ProductT</td><td>CategoryL, CategoryX</td></tr><tr><td>675</td><td>Customer675</td><td>38</td><td>Female</td><td>ProductX, ProductO</td><td>CategoryE, CategoryA</td></tr><tr><td>676</td><td>Customer676</td><td>50</td><td>Male</td><td>ProductF, ProductA</td><td>CategoryL, CategoryF</td></tr><tr><td>677</td><td>Customer677</td><td>50</td><td>Male</td><td>ProductI, ProductJ</td><td>CategoryW, CategoryG</td></tr><tr><td>678</td><td>Customer678</td><td>47</td><td>Male</td><td>ProductN, ProductM</td><td>CategoryX, CategoryF</td></tr><tr><td>679</td><td>Customer679</td><td>29</td><td>Male</td><td>ProductX, ProductT</td><td>CategoryX, CategoryM</td></tr><tr><td>680</td><td>Customer680</td><td>46</td><td>Male</td><td>ProductM, ProductT</td><td>CategoryI, CategoryI</td></tr><tr><td>681</td><td>Customer681</td><td>50</td><td>Male</td><td>ProductO, ProductQ</td><td>CategoryN, CategoryP</td></tr><tr><td>682</td><td>Customer682</td><td>40</td><td>Male</td><td>ProductC, ProductP</td><td>CategoryS, CategoryU</td></tr><tr><td>683</td><td>Customer683</td><td>62</td><td>Female</td><td>ProductP, ProductN</td><td>CategoryV, CategoryQ</td></tr><tr><td>684</td><td>Customer684</td><td>57</td><td>Female</td><td>ProductN, ProductI</td><td>CategoryB, CategoryG</td></tr><tr><td>685</td><td>Customer685</td><td>21</td><td>Male</td><td>ProductG, ProductV</td><td>CategoryJ, CategoryK</td></tr><tr><td>686</td><td>Customer686</td><td>65</td><td>Male</td><td>ProductT, ProductY</td><td>CategoryO, CategoryU</td></tr><tr><td>687</td><td>Customer687</td><td>41</td><td>Female</td><td>ProductE, ProductS</td><td>CategoryC, CategoryG</td></tr><tr><td>688</td><td>Customer688</td><td>68</td><td>Male</td><td>ProductT, ProductI</td><td>CategoryK, CategoryA</td></tr><tr><td>689</td><td>Customer689</td><td>64</td><td>Male</td><td>ProductZ, ProductZ</td><td>CategoryA, CategoryC</td></tr><tr><td>690</td><td>Customer690</td><td>42</td><td>Female</td><td>ProductB, ProductQ</td><td>CategoryC, CategoryK</td></tr><tr><td>691</td><td>Customer691</td><td>62</td><td>Female</td><td>ProductJ, ProductW</td><td>CategoryG, CategoryR</td></tr><tr><td>692</td><td>Customer692</td><td>54</td><td>Male</td><td>ProductO, ProductU</td><td>CategoryK, CategoryO</td></tr><tr><td>693</td><td>Customer693</td><td>52</td><td>Male</td><td>ProductL, ProductW</td><td>CategoryZ, CategoryH</td></tr><tr><td>694</td><td>Customer694</td><td>47</td><td>Female</td><td>ProductJ, ProductK</td><td>CategoryY, CategoryP</td></tr><tr><td>695</td><td>Customer695</td><td>28</td><td>Female</td><td>ProductI, ProductT</td><td>CategoryT, CategoryP</td></tr><tr><td>696</td><td>Customer696</td><td>54</td><td>Female</td><td>ProductE, ProductU</td><td>CategoryN, CategoryG</td></tr><tr><td>697</td><td>Customer697</td><td>55</td><td>Female</td><td>ProductM, ProductI</td><td>CategoryD, CategoryQ</td></tr><tr><td>698</td><td>Customer698</td><td>58</td><td>Female</td><td>ProductN, ProductS</td><td>CategoryY, CategoryS</td></tr><tr><td>699</td><td>Customer699</td><td>55</td><td>Male</td><td>ProductO, ProductV</td><td>CategoryM, CategoryX</td></tr><tr><td>700</td><td>Customer700</td><td>25</td><td>Female</td><td>ProductM, ProductF</td><td>CategoryP, CategoryH</td></tr></tbody></table></div>"
      ]
     },
     "metadata": {
      "application/vnd.databricks.v1+output": {
       "addedWidgets": {},
       "aggData": [],
       "aggError": "",
       "aggOverflow": false,
       "aggSchema": [],
       "aggSeriesLimitReached": false,
       "aggType": "",
       "arguments": {},
       "columnCustomDisplayInfos": {},
       "data": [
        [
         1,
         "Customer1",
         51,
         "Female",
         "ProductI, ProductT",
         "CategoryU, CategoryR"
        ],
        [
         2,
         "Customer2",
         22,
         "Male",
         "ProductR, ProductW",
         "CategoryJ, CategoryG"
        ],
        [
         3,
         "Customer3",
         23,
         "Female",
         "ProductX, ProductR",
         "CategoryQ, CategoryE"
        ],
        [
         4,
         "Customer4",
         67,
         "Male",
         "ProductD, ProductB",
         "CategoryW, CategoryG"
        ],
        [
         5,
         "Customer5",
         47,
         "Male",
         "ProductL, ProductC",
         "CategoryE, CategoryO"
        ],
        [
         6,
         "Customer6",
         36,
         "Female",
         "ProductL, ProductP",
         "CategoryQ, CategoryJ"
        ],
        [
         7,
         "Customer7",
         68,
         "Female",
         "ProductS, ProductL",
         "CategoryB, CategoryX"
        ],
        [
         8,
         "Customer8",
         42,
         "Male",
         "ProductY, ProductK",
         "CategoryD, CategoryM"
        ],
        [
         9,
         "Customer9",
         69,
         "Female",
         "ProductP, ProductK",
         "CategoryF, CategoryV"
        ],
        [
         10,
         "Customer10",
         46,
         "Male",
         "ProductB, ProductT",
         "CategoryT, CategoryM"
        ],
        [
         11,
         "Customer11",
         24,
         "Male",
         "ProductW, ProductI",
         "CategoryW, CategoryN"
        ],
        [
         12,
         "Customer12",
         69,
         "Male",
         "ProductT, ProductU",
         "CategoryR, CategoryY"
        ],
        [
         13,
         "Customer13",
         59,
         "Female",
         "ProductQ, ProductH",
         "CategoryN, CategoryQ"
        ],
        [
         14,
         "Customer14",
         53,
         "Male",
         "ProductX, ProductL",
         "CategoryK, CategoryR"
        ],
        [
         15,
         "Customer15",
         36,
         "Male",
         "ProductJ, ProductK",
         "CategoryZ, CategoryR"
        ],
        [
         16,
         "Customer16",
         40,
         "Male",
         "ProductY, ProductS",
         "CategoryS, CategoryJ"
        ],
        [
         17,
         "Customer17",
         57,
         "Female",
         "ProductS, ProductU",
         "CategoryU, CategoryR"
        ],
        [
         18,
         "Customer18",
         21,
         "Male",
         "ProductZ, ProductW",
         "CategoryN, CategoryW"
        ],
        [
         19,
         "Customer19",
         61,
         "Female",
         "ProductE, ProductG",
         "CategoryS, CategoryU"
        ],
        [
         20,
         "Customer20",
         66,
         "Male",
         "ProductD, ProductB",
         "CategoryV, CategoryD"
        ],
        [
         21,
         "Customer21",
         26,
         "Male",
         "ProductO, ProductG",
         "CategoryP, CategoryH"
        ],
        [
         22,
         "Customer22",
         52,
         "Male",
         "ProductS, ProductO",
         "CategoryR, CategoryU"
        ],
        [
         23,
         "Customer23",
         62,
         "Female",
         "ProductO, ProductI",
         "CategoryX, CategoryS"
        ],
        [
         24,
         "Customer24",
         63,
         "Male",
         "ProductU, ProductT",
         "CategoryJ, CategoryM"
        ],
        [
         25,
         "Customer25",
         38,
         "Male",
         "ProductS, ProductO",
         "CategoryR, CategoryS"
        ],
        [
         26,
         "Customer26",
         46,
         "Male",
         "ProductS, ProductH",
         "CategoryG, CategoryI"
        ],
        [
         27,
         "Customer27",
         63,
         "Male",
         "ProductF, ProductY",
         "CategoryE, CategoryA"
        ],
        [
         28,
         "Customer28",
         44,
         "Male",
         "ProductM, ProductH",
         "CategoryW, CategoryN"
        ],
        [
         29,
         "Customer29",
         23,
         "Female",
         "ProductF, ProductB",
         "CategoryP, CategoryV"
        ],
        [
         30,
         "Customer30",
         37,
         "Male",
         "ProductG, ProductK",
         "CategoryI, CategoryL"
        ],
        [
         31,
         "Customer31",
         32,
         "Female",
         "ProductR, ProductR",
         "CategoryL, CategoryE"
        ],
        [
         32,
         "Customer32",
         47,
         "Male",
         "ProductD, ProductC",
         "CategoryD, CategoryI"
        ],
        [
         33,
         "Customer33",
         33,
         "Male",
         "ProductA, ProductZ",
         "CategoryX, CategoryQ"
        ],
        [
         34,
         "Customer34",
         40,
         "Male",
         "ProductG, ProductY",
         "CategoryD, CategoryT"
        ],
        [
         35,
         "Customer35",
         37,
         "Male",
         "ProductF, ProductQ",
         "CategoryP, CategoryB"
        ],
        [
         36,
         "Customer36",
         39,
         "Female",
         "ProductW, ProductC",
         "CategoryR, CategoryE"
        ],
        [
         37,
         "Customer37",
         56,
         "Male",
         "ProductO, ProductI",
         "CategoryX, CategoryQ"
        ],
        [
         38,
         "Customer38",
         46,
         "Female",
         "ProductO, ProductW",
         "CategoryS, CategoryB"
        ],
        [
         39,
         "Customer39",
         69,
         "Female",
         "ProductW, ProductD",
         "CategoryX, CategoryH"
        ],
        [
         40,
         "Customer40",
         54,
         "Female",
         "ProductN, ProductB",
         "CategoryR, CategoryG"
        ],
        [
         41,
         "Customer41",
         26,
         "Female",
         "ProductD, ProductA",
         "CategoryP, CategoryY"
        ],
        [
         42,
         "Customer42",
         24,
         "Male",
         "ProductB, ProductX",
         "CategoryL, CategoryJ"
        ],
        [
         43,
         "Customer43",
         45,
         "Male",
         "ProductQ, ProductY",
         "CategoryV, CategoryJ"
        ],
        [
         44,
         "Customer44",
         32,
         "Male",
         "ProductB, ProductU",
         "CategoryX, CategoryD"
        ],
        [
         45,
         "Customer45",
         64,
         "Male",
         "ProductK, ProductA",
         "CategoryV, CategoryD"
        ],
        [
         46,
         "Customer46",
         22,
         "Female",
         "ProductN, ProductT",
         "CategoryG, CategoryX"
        ],
        [
         47,
         "Customer47",
         61,
         "Male",
         "ProductM, ProductI",
         "CategoryB, CategoryI"
        ],
        [
         48,
         "Customer48",
         39,
         "Female",
         "ProductU, ProductA",
         "CategoryQ, CategoryG"
        ],
        [
         49,
         "Customer49",
         31,
         "Male",
         "ProductH, ProductI",
         "CategoryQ, CategoryH"
        ],
        [
         50,
         "Customer50",
         48,
         "Female",
         "ProductS, ProductA",
         "CategoryW, CategoryI"
        ],
        [
         51,
         "Customer51",
         21,
         "Male",
         "ProductR, ProductA",
         "CategoryZ, CategoryW"
        ],
        [
         52,
         "Customer52",
         40,
         "Male",
         "ProductR, ProductJ",
         "CategoryQ, CategoryC"
        ],
        [
         53,
         "Customer53",
         47,
         "Male",
         "ProductT, ProductL",
         "CategoryU, CategoryT"
        ],
        [
         54,
         "Customer54",
         39,
         "Female",
         "ProductX, ProductT",
         "CategoryB, CategoryV"
        ],
        [
         55,
         "Customer55",
         31,
         "Female",
         "ProductA, ProductM",
         "CategoryI, CategoryG"
        ],
        [
         56,
         "Customer56",
         30,
         "Male",
         "ProductU, ProductE",
         "CategoryJ, CategoryK"
        ],
        [
         57,
         "Customer57",
         68,
         "Female",
         "ProductA, ProductI",
         "CategoryO, CategoryU"
        ],
        [
         58,
         "Customer58",
         36,
         "Male",
         "ProductE, ProductE",
         "CategoryH, CategoryY"
        ],
        [
         59,
         "Customer59",
         67,
         "Female",
         "ProductH, ProductZ",
         "CategoryB, CategoryI"
        ],
        [
         60,
         "Customer60",
         43,
         "Male",
         "ProductJ, ProductQ",
         "CategoryH, CategoryJ"
        ],
        [
         61,
         "Customer61",
         24,
         "Male",
         "ProductY, ProductD",
         "CategoryT, CategoryL"
        ],
        [
         62,
         "Customer62",
         63,
         "Female",
         "ProductH, ProductN",
         "CategoryR, CategoryV"
        ],
        [
         63,
         "Customer63",
         29,
         "Male",
         "ProductP, ProductQ",
         "CategoryJ, CategoryX"
        ],
        [
         64,
         "Customer64",
         46,
         "Female",
         "ProductT, ProductE",
         "CategoryN, CategoryE"
        ],
        [
         65,
         "Customer65",
         34,
         "Female",
         "ProductQ, ProductN",
         "CategoryP, CategoryM"
        ],
        [
         66,
         "Customer66",
         48,
         "Male",
         "ProductG, ProductC",
         "CategoryR, CategoryD"
        ],
        [
         67,
         "Customer67",
         46,
         "Male",
         "ProductW, ProductP",
         "CategoryJ, CategoryY"
        ],
        [
         68,
         "Customer68",
         57,
         "Female",
         "ProductT, ProductL",
         "CategoryV, CategoryX"
        ],
        [
         69,
         "Customer69",
         23,
         "Female",
         "ProductR, ProductP",
         "CategoryB, CategoryI"
        ],
        [
         70,
         "Customer70",
         49,
         "Female",
         "ProductT, ProductB",
         "CategoryA, CategoryV"
        ],
        [
         71,
         "Customer71",
         34,
         "Female",
         "ProductF, ProductP",
         "CategoryJ, CategoryZ"
        ],
        [
         72,
         "Customer72",
         66,
         "Female",
         "ProductF, ProductE",
         "CategoryI, CategoryD"
        ],
        [
         73,
         "Customer73",
         47,
         "Male",
         "ProductF, ProductY",
         "CategoryG, CategoryF"
        ],
        [
         74,
         "Customer74",
         36,
         "Female",
         "ProductY, ProductV",
         "CategoryI, CategoryA"
        ],
        [
         75,
         "Customer75",
         26,
         "Female",
         "ProductQ, ProductJ",
         "CategoryX, CategoryP"
        ],
        [
         76,
         "Customer76",
         25,
         "Female",
         "ProductK, ProductV",
         "CategoryY, CategoryJ"
        ],
        [
         77,
         "Customer77",
         61,
         "Male",
         "ProductX, ProductK",
         "CategoryG, CategoryW"
        ],
        [
         78,
         "Customer78",
         62,
         "Male",
         "ProductW, ProductY",
         "CategoryF, CategoryB"
        ],
        [
         79,
         "Customer79",
         52,
         "Male",
         "ProductL, ProductB",
         "CategoryW, CategoryG"
        ],
        [
         80,
         "Customer80",
         47,
         "Female",
         "ProductG, ProductG",
         "CategoryN, CategoryX"
        ],
        [
         81,
         "Customer81",
         70,
         "Male",
         "ProductD, ProductV",
         "CategoryZ, CategoryK"
        ],
        [
         82,
         "Customer82",
         67,
         "Female",
         "ProductC, ProductS",
         "CategoryI, CategoryL"
        ],
        [
         83,
         "Customer83",
         32,
         "Female",
         "ProductM, ProductX",
         "CategoryF, CategoryG"
        ],
        [
         84,
         "Customer84",
         50,
         "Male",
         "ProductI, ProductY",
         "CategoryU, CategoryE"
        ],
        [
         85,
         "Customer85",
         38,
         "Male",
         "ProductN, ProductR",
         "CategoryW, CategoryH"
        ],
        [
         86,
         "Customer86",
         61,
         "Male",
         "ProductQ, ProductO",
         "CategoryU, CategoryL"
        ],
        [
         87,
         "Customer87",
         59,
         "Female",
         "ProductO, ProductZ",
         "CategoryH, CategoryN"
        ],
        [
         88,
         "Customer88",
         52,
         "Female",
         "ProductP, ProductW",
         "CategoryP, CategoryH"
        ],
        [
         89,
         "Customer89",
         55,
         "Female",
         "ProductY, ProductX",
         "CategoryU, CategoryG"
        ],
        [
         90,
         "Customer90",
         56,
         "Female",
         "ProductN, ProductW",
         "CategoryS, CategoryY"
        ],
        [
         91,
         "Customer91",
         57,
         "Female",
         "ProductR, ProductC",
         "CategoryJ, CategoryM"
        ],
        [
         92,
         "Customer92",
         35,
         "Male",
         "ProductR, ProductB",
         "CategoryE, CategoryS"
        ],
        [
         93,
         "Customer93",
         28,
         "Female",
         "ProductO, ProductB",
         "CategoryL, CategoryB"
        ],
        [
         94,
         "Customer94",
         68,
         "Female",
         "ProductJ, ProductX",
         "CategoryK, CategoryJ"
        ],
        [
         95,
         "Customer95",
         49,
         "Female",
         "ProductD, ProductI",
         "CategoryI, CategoryN"
        ],
        [
         96,
         "Customer96",
         56,
         "Female",
         "ProductS, ProductS",
         "CategoryM, CategoryD"
        ],
        [
         97,
         "Customer97",
         30,
         "Female",
         "ProductQ, ProductH",
         "CategoryN, CategoryQ"
        ],
        [
         98,
         "Customer98",
         55,
         "Female",
         "ProductW, ProductP",
         "CategoryH, CategoryR"
        ],
        [
         99,
         "Customer99",
         48,
         "Female",
         "ProductB, ProductX",
         "CategoryL, CategoryL"
        ],
        [
         100,
         "Customer100",
         68,
         "Male",
         "ProductH, ProductC",
         "CategoryN, CategoryL"
        ],
        [
         101,
         "Customer101",
         48,
         "Male",
         "ProductS, ProductH",
         "CategoryC, CategoryQ"
        ],
        [
         102,
         "Customer102",
         70,
         "Male",
         "ProductE, ProductT",
         "CategoryF, CategoryU"
        ],
        [
         103,
         "Customer103",
         39,
         "Male",
         "ProductH, ProductA",
         "CategoryD, CategoryR"
        ],
        [
         104,
         "Customer104",
         66,
         "Female",
         "ProductE, ProductB",
         "CategoryU, CategoryV"
        ],
        [
         105,
         "Customer105",
         56,
         "Male",
         "ProductN, ProductF",
         "CategoryL, CategoryR"
        ],
        [
         106,
         "Customer106",
         67,
         "Female",
         "ProductV, ProductB",
         "CategoryR, CategoryH"
        ],
        [
         107,
         "Customer107",
         41,
         "Male",
         "ProductT, ProductE",
         "CategoryN, CategoryC"
        ],
        [
         108,
         "Customer108",
         61,
         "Female",
         "ProductB, ProductO",
         "CategoryQ, CategoryL"
        ],
        [
         109,
         "Customer109",
         39,
         "Female",
         "ProductQ, ProductO",
         "CategoryT, CategoryH"
        ],
        [
         110,
         "Customer110",
         21,
         "Male",
         "ProductF, ProductF",
         "CategoryM, CategoryS"
        ],
        [
         111,
         "Customer111",
         32,
         "Female",
         "ProductG, ProductF",
         "CategoryI, CategoryX"
        ],
        [
         112,
         "Customer112",
         51,
         "Male",
         "ProductC, ProductG",
         "CategoryX, CategoryX"
        ],
        [
         113,
         "Customer113",
         62,
         "Male",
         "ProductT, ProductN",
         "CategoryF, CategoryL"
        ],
        [
         114,
         "Customer114",
         54,
         "Male",
         "ProductC, ProductH",
         "CategoryD, CategoryU"
        ],
        [
         115,
         "Customer115",
         53,
         "Female",
         "ProductQ, ProductJ",
         "CategoryW, CategoryK"
        ],
        [
         116,
         "Customer116",
         37,
         "Female",
         "ProductO, ProductF",
         "CategoryJ, CategoryF"
        ],
        [
         117,
         "Customer117",
         63,
         "Female",
         "ProductC, ProductE",
         "CategoryP, CategoryL"
        ],
        [
         118,
         "Customer118",
         41,
         "Female",
         "ProductW, ProductX",
         "CategoryY, CategoryZ"
        ],
        [
         119,
         "Customer119",
         27,
         "Female",
         "ProductZ, ProductW",
         "CategoryM, CategoryV"
        ],
        [
         120,
         "Customer120",
         51,
         "Female",
         "ProductD, ProductW",
         "CategoryY, CategoryG"
        ],
        [
         121,
         "Customer121",
         33,
         "Female",
         "ProductH, ProductP",
         "CategoryE, CategoryA"
        ],
        [
         122,
         "Customer122",
         46,
         "Female",
         "ProductF, ProductL",
         "CategoryN, CategoryJ"
        ],
        [
         123,
         "Customer123",
         28,
         "Female",
         "ProductJ, ProductK",
         "CategoryB, CategoryY"
        ],
        [
         124,
         "Customer124",
         57,
         "Female",
         "ProductU, ProductP",
         "CategoryQ, CategoryL"
        ],
        [
         125,
         "Customer125",
         31,
         "Female",
         "ProductI, ProductD",
         "CategoryT, CategoryI"
        ],
        [
         126,
         "Customer126",
         42,
         "Male",
         "ProductT, ProductC",
         "CategoryD, CategoryJ"
        ],
        [
         127,
         "Customer127",
         47,
         "Female",
         "ProductH, ProductR",
         "CategoryM, CategoryK"
        ],
        [
         128,
         "Customer128",
         44,
         "Male",
         "ProductA, ProductF",
         "CategoryX, CategoryC"
        ],
        [
         129,
         "Customer129",
         50,
         "Female",
         "ProductY, ProductM",
         "CategoryO, CategoryH"
        ],
        [
         130,
         "Customer130",
         61,
         "Male",
         "ProductV, ProductJ",
         "CategoryH, CategoryH"
        ],
        [
         131,
         "Customer131",
         53,
         "Male",
         "ProductB, ProductZ",
         "CategoryV, CategoryI"
        ],
        [
         132,
         "Customer132",
         69,
         "Female",
         "ProductW, ProductN",
         "CategoryY, CategoryE"
        ],
        [
         133,
         "Customer133",
         68,
         "Male",
         "ProductV, ProductE",
         "CategoryI, CategoryE"
        ],
        [
         134,
         "Customer134",
         60,
         "Female",
         "ProductH, ProductR",
         "CategoryR, CategoryK"
        ],
        [
         135,
         "Customer135",
         68,
         "Female",
         "ProductW, ProductU",
         "CategoryK, CategoryN"
        ],
        [
         136,
         "Customer136",
         42,
         "Female",
         "ProductZ, ProductX",
         "CategoryS, CategoryT"
        ],
        [
         137,
         "Customer137",
         54,
         "Male",
         "ProductR, ProductW",
         "CategoryJ, CategoryE"
        ],
        [
         138,
         "Customer138",
         54,
         "Female",
         "ProductT, ProductA",
         "CategoryR, CategoryK"
        ],
        [
         139,
         "Customer139",
         64,
         "Male",
         "ProductS, ProductT",
         "CategoryO, CategoryP"
        ],
        [
         140,
         "Customer140",
         37,
         "Female",
         "ProductG, ProductR",
         "CategoryR, CategoryL"
        ],
        [
         141,
         "Customer141",
         21,
         "Female",
         "ProductD, ProductC",
         "CategoryC, CategoryD"
        ],
        [
         142,
         "Customer142",
         39,
         "Female",
         "ProductP, ProductI",
         "CategoryT, CategoryX"
        ],
        [
         143,
         "Customer143",
         38,
         "Female",
         "ProductT, ProductZ",
         "CategoryP, CategoryC"
        ],
        [
         144,
         "Customer144",
         46,
         "Male",
         "ProductH, ProductK",
         "CategoryC, CategoryE"
        ],
        [
         145,
         "Customer145",
         47,
         "Male",
         "ProductT, ProductY",
         "CategoryL, CategoryL"
        ],
        [
         146,
         "Customer146",
         63,
         "Female",
         "ProductF, ProductF",
         "CategoryI, CategoryY"
        ],
        [
         147,
         "Customer147",
         61,
         "Male",
         "ProductS, ProductW",
         "CategoryG, CategoryQ"
        ],
        [
         148,
         "Customer148",
         44,
         "Male",
         "ProductX, ProductF",
         "CategoryH, CategoryT"
        ],
        [
         149,
         "Customer149",
         20,
         "Female",
         "ProductN, ProductK",
         "CategoryM, CategoryH"
        ],
        [
         150,
         "Customer150",
         67,
         "Female",
         "ProductF, ProductQ",
         "CategoryN, CategoryQ"
        ],
        [
         151,
         "Customer151",
         56,
         "Female",
         "ProductI, ProductO",
         "CategoryU, CategoryI"
        ],
        [
         152,
         "Customer152",
         26,
         "Female",
         "ProductE, ProductS",
         "CategoryC, CategoryF"
        ],
        [
         153,
         "Customer153",
         57,
         "Male",
         "ProductK, ProductP",
         "CategoryT, CategoryC"
        ],
        [
         154,
         "Customer154",
         23,
         "Male",
         "ProductG, ProductA",
         "CategoryI, CategoryN"
        ],
        [
         155,
         "Customer155",
         53,
         "Female",
         "ProductP, ProductV",
         "CategoryJ, CategoryG"
        ],
        [
         156,
         "Customer156",
         32,
         "Male",
         "ProductH, ProductG",
         "CategoryH, CategoryR"
        ],
        [
         157,
         "Customer157",
         54,
         "Male",
         "ProductH, ProductS",
         "CategoryQ, CategoryB"
        ],
        [
         158,
         "Customer158",
         32,
         "Male",
         "ProductW, ProductB",
         "CategoryN, CategoryN"
        ],
        [
         159,
         "Customer159",
         22,
         "Female",
         "ProductW, ProductP",
         "CategoryJ, CategoryZ"
        ],
        [
         160,
         "Customer160",
         63,
         "Male",
         "ProductB, ProductH",
         "CategoryG, CategoryK"
        ],
        [
         161,
         "Customer161",
         35,
         "Male",
         "ProductI, ProductU",
         "CategoryC, CategoryZ"
        ],
        [
         162,
         "Customer162",
         58,
         "Female",
         "ProductP, ProductS",
         "CategoryS, CategoryL"
        ],
        [
         163,
         "Customer163",
         25,
         "Male",
         "ProductM, ProductY",
         "CategoryJ, CategoryW"
        ],
        [
         164,
         "Customer164",
         34,
         "Female",
         "ProductZ, ProductR",
         "CategoryL, CategoryE"
        ],
        [
         165,
         "Customer165",
         41,
         "Female",
         "ProductC, ProductK",
         "CategoryR, CategoryH"
        ],
        [
         166,
         "Customer166",
         37,
         "Female",
         "ProductL, ProductO",
         "CategoryN, CategoryW"
        ],
        [
         167,
         "Customer167",
         63,
         "Female",
         "ProductO, ProductY",
         "CategoryE, CategoryW"
        ],
        [
         168,
         "Customer168",
         65,
         "Female",
         "ProductQ, ProductO",
         "CategoryX, CategoryW"
        ],
        [
         169,
         "Customer169",
         52,
         "Female",
         "ProductC, ProductO",
         "CategoryO, CategoryC"
        ],
        [
         170,
         "Customer170",
         60,
         "Female",
         "ProductF, ProductU",
         "CategoryJ, CategoryM"
        ],
        [
         171,
         "Customer171",
         32,
         "Female",
         "ProductG, ProductV",
         "CategoryL, CategoryS"
        ],
        [
         172,
         "Customer172",
         33,
         "Male",
         "ProductY, ProductJ",
         "CategoryY, CategoryS"
        ],
        [
         173,
         "Customer173",
         55,
         "Male",
         "ProductS, ProductM",
         "CategoryI, CategoryC"
        ],
        [
         174,
         "Customer174",
         43,
         "Male",
         "ProductX, ProductM",
         "CategoryO, CategoryL"
        ],
        [
         175,
         "Customer175",
         47,
         "Male",
         "ProductF, ProductY",
         "CategoryE, CategoryV"
        ],
        [
         176,
         "Customer176",
         59,
         "Male",
         "ProductN, ProductM",
         "CategoryW, CategoryW"
        ],
        [
         177,
         "Customer177",
         63,
         "Female",
         "ProductR, ProductK",
         "CategoryZ, CategoryS"
        ],
        [
         178,
         "Customer178",
         52,
         "Male",
         "ProductL, ProductB",
         "CategoryU, CategoryY"
        ],
        [
         179,
         "Customer179",
         42,
         "Male",
         "ProductC, ProductP",
         "CategoryT, CategoryZ"
        ],
        [
         180,
         "Customer180",
         55,
         "Male",
         "ProductK, ProductL",
         "CategoryB, CategoryU"
        ],
        [
         181,
         "Customer181",
         21,
         "Female",
         "ProductC, ProductN",
         "CategoryH, CategoryX"
        ],
        [
         182,
         "Customer182",
         56,
         "Female",
         "ProductC, ProductW",
         "CategoryD, CategoryX"
        ],
        [
         183,
         "Customer183",
         38,
         "Female",
         "ProductT, ProductY",
         "CategoryM, CategoryP"
        ],
        [
         184,
         "Customer184",
         45,
         "Female",
         "ProductV, ProductF",
         "CategoryL, CategoryP"
        ],
        [
         185,
         "Customer185",
         59,
         "Male",
         "ProductU, ProductW",
         "CategoryY, CategoryE"
        ],
        [
         186,
         "Customer186",
         67,
         "Male",
         "ProductL, ProductM",
         "CategoryB, CategoryT"
        ],
        [
         187,
         "Customer187",
         53,
         "Male",
         "ProductE, ProductR",
         "CategoryX, CategoryN"
        ],
        [
         188,
         "Customer188",
         64,
         "Female",
         "ProductR, ProductW",
         "CategoryH, CategoryT"
        ],
        [
         189,
         "Customer189",
         69,
         "Female",
         "ProductH, ProductK",
         "CategoryG, CategoryX"
        ],
        [
         190,
         "Customer190",
         69,
         "Male",
         "ProductP, ProductR",
         "CategoryN, CategoryO"
        ],
        [
         191,
         "Customer191",
         34,
         "Female",
         "ProductR, ProductI",
         "CategoryO, CategoryT"
        ],
        [
         192,
         "Customer192",
         30,
         "Female",
         "ProductB, ProductB",
         "CategoryD, CategoryN"
        ],
        [
         193,
         "Customer193",
         25,
         "Male",
         "ProductV, ProductD",
         "CategoryD, CategoryF"
        ],
        [
         194,
         "Customer194",
         51,
         "Male",
         "ProductN, ProductH",
         "CategoryT, CategoryW"
        ],
        [
         195,
         "Customer195",
         33,
         "Female",
         "ProductI, ProductS",
         "CategoryP, CategoryY"
        ],
        [
         196,
         "Customer196",
         64,
         "Female",
         "ProductC, ProductU",
         "CategoryS, CategoryE"
        ],
        [
         197,
         "Customer197",
         50,
         "Female",
         "ProductA, ProductK",
         "CategoryW, CategoryF"
        ],
        [
         198,
         "Customer198",
         36,
         "Male",
         "ProductF, ProductZ",
         "CategoryI, CategoryQ"
        ],
        [
         199,
         "Customer199",
         29,
         "Female",
         "ProductK, ProductB",
         "CategoryB, CategoryC"
        ],
        [
         200,
         "Customer200",
         29,
         "Female",
         "ProductE, ProductO",
         "CategoryH, CategoryT"
        ],
        [
         201,
         "Customer201",
         64,
         "Male",
         "ProductJ, ProductG",
         "CategoryC, CategoryR"
        ],
        [
         202,
         "Customer202",
         27,
         "Female",
         "ProductD, ProductM",
         "CategoryC, CategoryW"
        ],
        [
         203,
         "Customer203",
         30,
         "Male",
         "ProductD, ProductQ",
         "CategoryV, CategoryI"
        ],
        [
         204,
         "Customer204",
         23,
         "Male",
         "ProductO, ProductQ",
         "CategoryR, CategoryK"
        ],
        [
         205,
         "Customer205",
         66,
         "Male",
         "ProductH, ProductD",
         "CategoryU, CategoryQ"
        ],
        [
         206,
         "Customer206",
         59,
         "Female",
         "ProductN, ProductS",
         "CategoryA, CategoryW"
        ],
        [
         207,
         "Customer207",
         38,
         "Male",
         "ProductU, ProductN",
         "CategoryD, CategoryD"
        ],
        [
         208,
         "Customer208",
         27,
         "Male",
         "ProductQ, ProductA",
         "CategoryB, CategoryG"
        ],
        [
         209,
         "Customer209",
         22,
         "Male",
         "ProductH, ProductA",
         "CategoryE, CategoryT"
        ],
        [
         210,
         "Customer210",
         38,
         "Female",
         "ProductO, ProductG",
         "CategoryN, CategoryW"
        ],
        [
         211,
         "Customer211",
         61,
         "Female",
         "ProductB, ProductS",
         "CategoryM, CategoryH"
        ],
        [
         212,
         "Customer212",
         67,
         "Female",
         "ProductG, ProductT",
         "CategoryD, CategoryI"
        ],
        [
         213,
         "Customer213",
         28,
         "Female",
         "ProductT, ProductJ",
         "CategoryK, CategoryY"
        ],
        [
         214,
         "Customer214",
         47,
         "Female",
         "ProductS, ProductZ",
         "CategoryU, CategoryC"
        ],
        [
         215,
         "Customer215",
         68,
         "Female",
         "ProductY, ProductD",
         "CategoryT, CategoryM"
        ],
        [
         216,
         "Customer216",
         21,
         "Female",
         "ProductN, ProductN",
         "CategoryX, CategoryC"
        ],
        [
         217,
         "Customer217",
         50,
         "Female",
         "ProductC, ProductD",
         "CategoryI, CategoryF"
        ],
        [
         218,
         "Customer218",
         23,
         "Female",
         "ProductI, ProductP",
         "CategoryX, CategoryU"
        ],
        [
         219,
         "Customer219",
         34,
         "Male",
         "ProductF, ProductY",
         "CategoryF, CategoryC"
        ],
        [
         220,
         "Customer220",
         57,
         "Female",
         "ProductN, ProductZ",
         "CategoryJ, CategoryW"
        ],
        [
         221,
         "Customer221",
         37,
         "Male",
         "ProductB, ProductF",
         "CategoryU, CategoryK"
        ],
        [
         222,
         "Customer222",
         52,
         "Male",
         "ProductC, ProductK",
         "CategoryT, CategoryR"
        ],
        [
         223,
         "Customer223",
         21,
         "Male",
         "ProductL, ProductX",
         "CategoryH, CategoryS"
        ],
        [
         224,
         "Customer224",
         51,
         "Male",
         "ProductE, ProductT",
         "CategoryG, CategoryB"
        ],
        [
         225,
         "Customer225",
         45,
         "Male",
         "ProductD, ProductP",
         "CategoryS, CategoryV"
        ],
        [
         226,
         "Customer226",
         20,
         "Male",
         "ProductL, ProductS",
         "CategoryG, CategoryC"
        ],
        [
         227,
         "Customer227",
         58,
         "Male",
         "ProductF, ProductM",
         "CategoryT, CategoryK"
        ],
        [
         228,
         "Customer228",
         58,
         "Female",
         "ProductO, ProductD",
         "CategoryV, CategoryV"
        ],
        [
         229,
         "Customer229",
         59,
         "Male",
         "ProductH, ProductL",
         "CategoryI, CategoryG"
        ],
        [
         230,
         "Customer230",
         38,
         "Male",
         "ProductC, ProductH",
         "CategoryG, CategoryJ"
        ],
        [
         231,
         "Customer231",
         26,
         "Male",
         "ProductY, ProductL",
         "CategoryG, CategoryY"
        ],
        [
         232,
         "Customer232",
         22,
         "Male",
         "ProductJ, ProductA",
         "CategoryX, CategoryN"
        ],
        [
         233,
         "Customer233",
         64,
         "Female",
         "ProductK, ProductO",
         "CategoryP, CategoryI"
        ],
        [
         234,
         "Customer234",
         63,
         "Male",
         "ProductX, ProductS",
         "CategoryU, CategoryW"
        ],
        [
         235,
         "Customer235",
         67,
         "Male",
         "ProductR, ProductC",
         "CategoryL, CategoryX"
        ],
        [
         236,
         "Customer236",
         31,
         "Male",
         "ProductB, ProductG",
         "CategoryA, CategoryK"
        ],
        [
         237,
         "Customer237",
         63,
         "Male",
         "ProductI, ProductZ",
         "CategoryB, CategoryI"
        ],
        [
         238,
         "Customer238",
         38,
         "Female",
         "ProductJ, ProductE",
         "CategoryR, CategoryW"
        ],
        [
         239,
         "Customer239",
         36,
         "Male",
         "ProductE, ProductR",
         "CategoryY, CategoryV"
        ],
        [
         240,
         "Customer240",
         31,
         "Female",
         "ProductK, ProductD",
         "CategoryK, CategoryS"
        ],
        [
         241,
         "Customer241",
         39,
         "Female",
         "ProductN, ProductK",
         "CategoryJ, CategoryR"
        ],
        [
         242,
         "Customer242",
         36,
         "Female",
         "ProductV, ProductN",
         "CategoryZ, CategoryL"
        ],
        [
         243,
         "Customer243",
         35,
         "Male",
         "ProductW, ProductY",
         "CategoryC, CategoryO"
        ],
        [
         244,
         "Customer244",
         45,
         "Female",
         "ProductT, ProductF",
         "CategoryS, CategoryZ"
        ],
        [
         245,
         "Customer245",
         61,
         "Male",
         "ProductF, ProductQ",
         "CategoryP, CategoryD"
        ],
        [
         246,
         "Customer246",
         58,
         "Male",
         "ProductU, ProductV",
         "CategoryT, CategoryH"
        ],
        [
         247,
         "Customer247",
         22,
         "Male",
         "ProductW, ProductG",
         "CategoryO, CategoryA"
        ],
        [
         248,
         "Customer248",
         40,
         "Female",
         "ProductQ, ProductH",
         "CategoryO, CategoryX"
        ],
        [
         249,
         "Customer249",
         70,
         "Male",
         "ProductW, ProductX",
         "CategoryY, CategoryB"
        ],
        [
         250,
         "Customer250",
         37,
         "Female",
         "ProductU, ProductH",
         "CategoryZ, CategoryE"
        ],
        [
         251,
         "Customer251",
         59,
         "Male",
         "ProductA, ProductQ",
         "CategoryD, CategoryQ"
        ],
        [
         252,
         "Customer252",
         62,
         "Male",
         "ProductB, ProductF",
         "CategoryZ, CategoryH"
        ],
        [
         253,
         "Customer253",
         42,
         "Male",
         "ProductI, ProductR",
         "CategoryL, CategoryC"
        ],
        [
         254,
         "Customer254",
         27,
         "Male",
         "ProductV, ProductU",
         "CategoryP, CategoryM"
        ],
        [
         255,
         "Customer255",
         48,
         "Male",
         "ProductJ, ProductQ",
         "CategoryD, CategoryO"
        ],
        [
         256,
         "Customer256",
         49,
         "Male",
         "ProductD, ProductD",
         "CategoryD, CategoryJ"
        ],
        [
         257,
         "Customer257",
         38,
         "Female",
         "ProductT, ProductM",
         "CategoryD, CategoryG"
        ],
        [
         258,
         "Customer258",
         56,
         "Female",
         "ProductL, ProductJ",
         "CategoryP, CategoryV"
        ],
        [
         259,
         "Customer259",
         43,
         "Female",
         "ProductI, ProductL",
         "CategoryG, CategoryU"
        ],
        [
         260,
         "Customer260",
         39,
         "Male",
         "ProductI, ProductB",
         "CategoryG, CategoryB"
        ],
        [
         261,
         "Customer261",
         45,
         "Male",
         "ProductQ, ProductZ",
         "CategoryX, CategoryS"
        ],
        [
         262,
         "Customer262",
         60,
         "Female",
         "ProductW, ProductV",
         "CategoryP, CategoryN"
        ],
        [
         263,
         "Customer263",
         60,
         "Male",
         "ProductL, ProductE",
         "CategoryL, CategoryT"
        ],
        [
         264,
         "Customer264",
         45,
         "Male",
         "ProductP, ProductK",
         "CategoryE, CategoryN"
        ],
        [
         265,
         "Customer265",
         29,
         "Male",
         "ProductE, ProductV",
         "CategoryS, CategoryB"
        ],
        [
         266,
         "Customer266",
         24,
         "Male",
         "ProductD, ProductR",
         "CategoryF, CategoryV"
        ],
        [
         267,
         "Customer267",
         51,
         "Female",
         "ProductG, ProductK",
         "CategoryE, CategoryR"
        ],
        [
         268,
         "Customer268",
         62,
         "Male",
         "ProductN, ProductX",
         "CategoryD, CategoryV"
        ],
        [
         269,
         "Customer269",
         60,
         "Female",
         "ProductD, ProductC",
         "CategoryB, CategoryY"
        ],
        [
         270,
         "Customer270",
         50,
         "Male",
         "ProductB, ProductT",
         "CategoryQ, CategoryW"
        ],
        [
         271,
         "Customer271",
         45,
         "Female",
         "ProductY, ProductD",
         "CategoryT, CategoryL"
        ],
        [
         272,
         "Customer272",
         64,
         "Male",
         "ProductV, ProductX",
         "CategoryD, CategoryS"
        ],
        [
         273,
         "Customer273",
         36,
         "Male",
         "ProductB, ProductC",
         "CategoryG, CategoryY"
        ],
        [
         274,
         "Customer274",
         21,
         "Male",
         "ProductH, ProductN",
         "CategoryT, CategoryG"
        ],
        [
         275,
         "Customer275",
         66,
         "Female",
         "ProductV, ProductM",
         "CategoryW, CategoryA"
        ],
        [
         276,
         "Customer276",
         39,
         "Female",
         "ProductF, ProductI",
         "CategoryC, CategoryJ"
        ],
        [
         277,
         "Customer277",
         47,
         "Female",
         "ProductU, ProductW",
         "CategoryD, CategoryW"
        ],
        [
         278,
         "Customer278",
         69,
         "Male",
         "ProductQ, ProductI",
         "CategoryQ, CategoryE"
        ],
        [
         279,
         "Customer279",
         65,
         "Male",
         "ProductM, ProductJ",
         "CategoryH, CategoryH"
        ],
        [
         280,
         "Customer280",
         49,
         "Male",
         "ProductR, ProductD",
         "CategoryO, CategoryK"
        ],
        [
         281,
         "Customer281",
         35,
         "Male",
         "ProductT, ProductV",
         "CategoryY, CategoryF"
        ],
        [
         282,
         "Customer282",
         27,
         "Male",
         "ProductC, ProductB",
         "CategoryC, CategoryE"
        ],
        [
         283,
         "Customer283",
         52,
         "Female",
         "ProductP, ProductX",
         "CategoryT, CategoryD"
        ],
        [
         284,
         "Customer284",
         32,
         "Female",
         "ProductN, ProductD",
         "CategoryB, CategoryV"
        ],
        [
         285,
         "Customer285",
         27,
         "Male",
         "ProductE, ProductK",
         "CategoryN, CategoryL"
        ],
        [
         286,
         "Customer286",
         49,
         "Female",
         "ProductK, ProductF",
         "CategoryQ, CategoryS"
        ],
        [
         287,
         "Customer287",
         51,
         "Female",
         "ProductD, ProductN",
         "CategoryJ, CategoryE"
        ],
        [
         288,
         "Customer288",
         53,
         "Female",
         "ProductN, ProductX",
         "CategoryB, CategoryK"
        ],
        [
         289,
         "Customer289",
         68,
         "Female",
         "ProductU, ProductJ",
         "CategoryL, CategoryE"
        ],
        [
         290,
         "Customer290",
         41,
         "Female",
         "ProductB, ProductG",
         "CategoryB, CategoryN"
        ],
        [
         291,
         "Customer291",
         39,
         "Male",
         "ProductX, ProductL",
         "CategoryI, CategoryH"
        ],
        [
         292,
         "Customer292",
         40,
         "Male",
         "ProductB, ProductJ",
         "CategoryT, CategoryU"
        ],
        [
         293,
         "Customer293",
         49,
         "Female",
         "ProductZ, ProductJ",
         "CategoryS, CategoryO"
        ],
        [
         294,
         "Customer294",
         56,
         "Female",
         "ProductH, ProductS",
         "CategoryT, CategoryP"
        ],
        [
         295,
         "Customer295",
         61,
         "Male",
         "ProductQ, ProductO",
         "CategoryV, CategoryN"
        ],
        [
         296,
         "Customer296",
         21,
         "Female",
         "ProductZ, ProductE",
         "CategoryS, CategoryE"
        ],
        [
         297,
         "Customer297",
         49,
         "Male",
         "ProductS, ProductC",
         "CategoryF, CategoryV"
        ],
        [
         298,
         "Customer298",
         47,
         "Male",
         "ProductO, ProductE",
         "CategoryC, CategoryV"
        ],
        [
         299,
         "Customer299",
         24,
         "Female",
         "ProductV, ProductT",
         "CategoryI, CategoryJ"
        ],
        [
         300,
         "Customer300",
         60,
         "Female",
         "ProductH, ProductO",
         "CategoryW, CategoryV"
        ],
        [
         301,
         "Customer301",
         47,
         "Male",
         "ProductD, ProductC",
         "CategoryD, CategoryK"
        ],
        [
         302,
         "Customer302",
         53,
         "Male",
         "ProductF, ProductW",
         "CategoryV, CategoryP"
        ],
        [
         303,
         "Customer303",
         45,
         "Female",
         "ProductS, ProductT",
         "CategoryO, CategoryM"
        ],
        [
         304,
         "Customer304",
         54,
         "Male",
         "ProductB, ProductD",
         "CategoryN, CategoryH"
        ],
        [
         305,
         "Customer305",
         56,
         "Female",
         "ProductY, ProductJ",
         "CategoryY, CategoryP"
        ],
        [
         306,
         "Customer306",
         27,
         "Female",
         "ProductE, ProductB",
         "CategoryR, CategoryJ"
        ],
        [
         307,
         "Customer307",
         57,
         "Female",
         "ProductB, ProductE",
         "CategoryT, CategoryG"
        ],
        [
         308,
         "Customer308",
         65,
         "Female",
         "ProductO, ProductE",
         "CategoryE, CategoryH"
        ],
        [
         309,
         "Customer309",
         70,
         "Male",
         "ProductO, ProductM",
         "CategoryQ, CategoryU"
        ],
        [
         310,
         "Customer310",
         23,
         "Female",
         "ProductK, ProductE",
         "CategoryS, CategoryD"
        ],
        [
         311,
         "Customer311",
         43,
         "Female",
         "ProductC, ProductS",
         "CategoryK, CategoryU"
        ],
        [
         312,
         "Customer312",
         63,
         "Female",
         "ProductW, ProductR",
         "CategoryU, CategoryZ"
        ],
        [
         313,
         "Customer313",
         46,
         "Female",
         "ProductS, ProductP",
         "CategoryX, CategoryR"
        ],
        [
         314,
         "Customer314",
         54,
         "Male",
         "ProductQ, ProductE",
         "CategoryW, CategoryX"
        ],
        [
         315,
         "Customer315",
         23,
         "Male",
         "ProductE, ProductL",
         "CategoryS, CategoryH"
        ],
        [
         316,
         "Customer316",
         31,
         "Male",
         "ProductV, ProductG",
         "CategoryS, CategoryU"
        ],
        [
         317,
         "Customer317",
         62,
         "Female",
         "ProductQ, ProductT",
         "CategoryW, CategoryB"
        ],
        [
         318,
         "Customer318",
         50,
         "Female",
         "ProductL, ProductP",
         "CategoryS, CategoryU"
        ],
        [
         319,
         "Customer319",
         58,
         "Male",
         "ProductD, ProductF",
         "CategoryQ, CategoryN"
        ],
        [
         320,
         "Customer320",
         59,
         "Male",
         "ProductC, ProductM",
         "CategoryG, CategoryS"
        ],
        [
         321,
         "Customer321",
         66,
         "Male",
         "ProductL, ProductY",
         "CategoryJ, CategoryX"
        ],
        [
         322,
         "Customer322",
         46,
         "Female",
         "ProductO, ProductI",
         "CategoryA, CategoryA"
        ],
        [
         323,
         "Customer323",
         20,
         "Male",
         "ProductD, ProductO",
         "CategoryL, CategoryO"
        ],
        [
         324,
         "Customer324",
         39,
         "Male",
         "ProductB, ProductL",
         "CategoryC, CategoryF"
        ],
        [
         325,
         "Customer325",
         54,
         "Female",
         "ProductC, ProductW",
         "CategoryE, CategoryE"
        ],
        [
         326,
         "Customer326",
         35,
         "Male",
         "ProductE, ProductS",
         "CategoryF, CategoryW"
        ],
        [
         327,
         "Customer327",
         61,
         "Male",
         "ProductS, ProductG",
         "CategoryZ, CategoryI"
        ],
        [
         328,
         "Customer328",
         49,
         "Female",
         "ProductE, ProductW",
         "CategoryV, CategoryN"
        ],
        [
         329,
         "Customer329",
         31,
         "Male",
         "ProductT, ProductK",
         "CategoryP, CategoryW"
        ],
        [
         330,
         "Customer330",
         50,
         "Male",
         "ProductB, ProductB",
         "CategoryE, CategoryO"
        ],
        [
         331,
         "Customer331",
         41,
         "Male",
         "ProductQ, ProductE",
         "CategoryT, CategoryK"
        ],
        [
         332,
         "Customer332",
         51,
         "Female",
         "ProductZ, ProductB",
         "CategoryG, CategoryC"
        ],
        [
         333,
         "Customer333",
         50,
         "Female",
         "ProductJ, ProductF",
         "CategoryC, CategoryR"
        ],
        [
         334,
         "Customer334",
         33,
         "Male",
         "ProductF, ProductL",
         "CategoryQ, CategoryU"
        ],
        [
         335,
         "Customer335",
         24,
         "Male",
         "ProductA, ProductW",
         "CategoryL, CategoryL"
        ],
        [
         336,
         "Customer336",
         69,
         "Female",
         "ProductQ, ProductS",
         "CategoryS, CategoryI"
        ],
        [
         337,
         "Customer337",
         44,
         "Male",
         "ProductT, ProductM",
         "CategoryE, CategoryK"
        ],
        [
         338,
         "Customer338",
         44,
         "Male",
         "ProductO, ProductG",
         "CategoryM, CategoryS"
        ],
        [
         339,
         "Customer339",
         25,
         "Male",
         "ProductQ, ProductY",
         "CategoryY, CategoryX"
        ],
        [
         340,
         "Customer340",
         59,
         "Male",
         "ProductD, ProductJ",
         "CategoryK, CategoryW"
        ],
        [
         341,
         "Customer341",
         30,
         "Male",
         "ProductF, ProductZ",
         "CategoryI, CategoryR"
        ],
        [
         342,
         "Customer342",
         36,
         "Female",
         "ProductG, ProductF",
         "CategoryK, CategoryH"
        ],
        [
         343,
         "Customer343",
         31,
         "Male",
         "ProductQ, ProductJ",
         "CategoryX, CategoryN"
        ],
        [
         344,
         "Customer344",
         66,
         "Male",
         "ProductG, ProductG",
         "CategoryK, CategoryH"
        ],
        [
         345,
         "Customer345",
         30,
         "Male",
         "ProductG, ProductQ",
         "CategoryM, CategoryO"
        ],
        [
         346,
         "Customer346",
         37,
         "Male",
         "ProductE, ProductR",
         "CategoryY, CategoryR"
        ],
        [
         347,
         "Customer347",
         48,
         "Female",
         "ProductG, ProductU",
         "CategoryI, CategoryD"
        ],
        [
         348,
         "Customer348",
         57,
         "Male",
         "ProductI, ProductR",
         "CategoryM, CategoryJ"
        ],
        [
         349,
         "Customer349",
         36,
         "Female",
         "ProductU, ProductK",
         "CategoryP, CategoryS"
        ],
        [
         350,
         "Customer350",
         62,
         "Male",
         "ProductQ, ProductC",
         "CategoryK, CategoryW"
        ],
        [
         351,
         "Customer351",
         29,
         "Male",
         "ProductU, ProductD",
         "CategoryF, CategoryQ"
        ],
        [
         352,
         "Customer352",
         55,
         "Female",
         "ProductL, ProductS",
         "CategoryI, CategoryM"
        ],
        [
         353,
         "Customer353",
         36,
         "Male",
         "ProductX, ProductE",
         "CategoryX, CategoryE"
        ],
        [
         354,
         "Customer354",
         22,
         "Female",
         "ProductL, ProductC",
         "CategoryD, CategoryG"
        ],
        [
         355,
         "Customer355",
         68,
         "Male",
         "ProductL, ProductB",
         "CategoryW, CategoryH"
        ],
        [
         356,
         "Customer356",
         57,
         "Female",
         "ProductD, ProductZ",
         "CategoryP, CategoryY"
        ],
        [
         357,
         "Customer357",
         22,
         "Male",
         "ProductO, ProductW",
         "CategoryP, CategoryI"
        ],
        [
         358,
         "Customer358",
         64,
         "Male",
         "ProductP, ProductO",
         "CategoryC, CategoryS"
        ],
        [
         359,
         "Customer359",
         36,
         "Male",
         "ProductH, ProductZ",
         "CategoryF, CategoryY"
        ],
        [
         360,
         "Customer360",
         28,
         "Female",
         "ProductL, ProductE",
         "CategoryP, CategoryK"
        ],
        [
         361,
         "Customer361",
         36,
         "Male",
         "ProductQ, ProductE",
         "CategoryA, CategoryN"
        ],
        [
         362,
         "Customer362",
         46,
         "Male",
         "ProductR, ProductJ",
         "CategoryQ, CategoryC"
        ],
        [
         363,
         "Customer363",
         48,
         "Female",
         "ProductC, ProductU",
         "CategoryT, CategoryI"
        ],
        [
         364,
         "Customer364",
         35,
         "Female",
         "ProductX, ProductY",
         "CategoryB, CategoryI"
        ],
        [
         365,
         "Customer365",
         40,
         "Male",
         "ProductJ, ProductM",
         "CategoryI, CategoryF"
        ],
        [
         366,
         "Customer366",
         68,
         "Male",
         "ProductH, ProductQ",
         "CategoryK, CategoryC"
        ],
        [
         367,
         "Customer367",
         32,
         "Female",
         "ProductB, ProductK",
         "CategoryX, CategoryI"
        ],
        [
         368,
         "Customer368",
         59,
         "Male",
         "ProductT, ProductQ",
         "CategoryZ, CategoryA"
        ],
        [
         369,
         "Customer369",
         26,
         "Female",
         "ProductM, ProductT",
         "CategoryI, CategoryG"
        ],
        [
         370,
         "Customer370",
         35,
         "Female",
         "ProductW, ProductE",
         "CategoryF, CategoryL"
        ],
        [
         371,
         "Customer371",
         52,
         "Female",
         "ProductH, ProductX",
         "CategoryS, CategoryU"
        ],
        [
         372,
         "Customer372",
         64,
         "Male",
         "ProductL, ProductF",
         "CategoryO, CategoryH"
        ],
        [
         373,
         "Customer373",
         59,
         "Male",
         "ProductW, ProductF",
         "CategoryJ, CategoryH"
        ],
        [
         374,
         "Customer374",
         38,
         "Female",
         "ProductM, ProductR",
         "CategoryY, CategoryS"
        ],
        [
         375,
         "Customer375",
         55,
         "Male",
         "ProductU, ProductX",
         "CategoryG, CategoryJ"
        ],
        [
         376,
         "Customer376",
         21,
         "Male",
         "ProductG, ProductB",
         "CategoryM, CategoryJ"
        ],
        [
         377,
         "Customer377",
         34,
         "Male",
         "ProductV, ProductE",
         "CategoryH, CategoryZ"
        ],
        [
         378,
         "Customer378",
         24,
         "Male",
         "ProductY, ProductL",
         "CategoryH, CategoryD"
        ],
        [
         379,
         "Customer379",
         59,
         "Female",
         "ProductH, ProductV",
         "CategoryH, CategoryW"
        ],
        [
         380,
         "Customer380",
         51,
         "Male",
         "ProductM, ProductZ",
         "CategoryN, CategoryO"
        ],
        [
         381,
         "Customer381",
         37,
         "Female",
         "ProductS, ProductR",
         "CategoryJ, CategoryS"
        ],
        [
         382,
         "Customer382",
         46,
         "Male",
         "ProductU, ProductO",
         "CategoryL, CategoryN"
        ],
        [
         383,
         "Customer383",
         32,
         "Female",
         "ProductM, ProductK",
         "CategoryR, CategoryF"
        ],
        [
         384,
         "Customer384",
         20,
         "Male",
         "ProductW, ProductF",
         "CategoryL, CategoryO"
        ],
        [
         385,
         "Customer385",
         44,
         "Female",
         "ProductI, ProductH",
         "CategoryM, CategoryO"
        ],
        [
         386,
         "Customer386",
         36,
         "Female",
         "ProductW, ProductM",
         "CategoryS, CategoryG"
        ],
        [
         387,
         "Customer387",
         21,
         "Male",
         "ProductV, ProductD",
         "CategoryD, CategoryE"
        ],
        [
         388,
         "Customer388",
         41,
         "Female",
         "ProductY, ProductY",
         "CategoryU, CategoryD"
        ],
        [
         389,
         "Customer389",
         30,
         "Female",
         "ProductN, ProductU",
         "CategoryJ, CategoryL"
        ],
        [
         390,
         "Customer390",
         26,
         "Male",
         "ProductX, ProductX",
         "CategoryU, CategoryH"
        ],
        [
         391,
         "Customer391",
         68,
         "Female",
         "ProductB, ProductI",
         "CategoryJ, CategoryU"
        ],
        [
         392,
         "Customer392",
         21,
         "Female",
         "ProductL, ProductD",
         "CategoryG, CategoryV"
        ],
        [
         393,
         "Customer393",
         42,
         "Female",
         "ProductD, ProductM",
         "CategoryC, CategoryZ"
        ],
        [
         394,
         "Customer394",
         56,
         "Female",
         "ProductY, ProductW",
         "CategoryN, CategoryB"
        ],
        [
         395,
         "Customer395",
         53,
         "Male",
         "ProductQ, ProductT",
         "CategoryZ, CategoryP"
        ],
        [
         396,
         "Customer396",
         24,
         "Female",
         "ProductO, ProductE",
         "CategoryE, CategoryG"
        ],
        [
         397,
         "Customer397",
         56,
         "Female",
         "ProductE, ProductF",
         "CategoryP, CategoryL"
        ],
        [
         398,
         "Customer398",
         36,
         "Male",
         "ProductR, ProductM",
         "CategoryI, CategoryD"
        ],
        [
         399,
         "Customer399",
         52,
         "Female",
         "ProductF, ProductM",
         "CategoryW, CategoryY"
        ],
        [
         400,
         "Customer400",
         29,
         "Female",
         "ProductK, ProductB",
         "CategoryZ, CategoryV"
        ],
        [
         401,
         "Customer401",
         32,
         "Female",
         "ProductU, ProductW",
         "CategoryX, CategoryB"
        ],
        [
         402,
         "Customer402",
         40,
         "Female",
         "ProductE, ProductG",
         "CategoryQ, CategoryO"
        ],
        [
         403,
         "Customer403",
         64,
         "Female",
         "ProductX, ProductM",
         "CategoryP, CategoryQ"
        ],
        [
         404,
         "Customer404",
         41,
         "Male",
         "ProductI, ProductI",
         "CategoryR, CategoryK"
        ],
        [
         405,
         "Customer405",
         64,
         "Male",
         "ProductM, ProductS",
         "CategoryG, CategoryX"
        ],
        [
         406,
         "Customer406",
         68,
         "Male",
         "ProductI, ProductN",
         "CategoryO, CategoryG"
        ],
        [
         407,
         "Customer407",
         43,
         "Female",
         "ProductT, ProductW",
         "CategoryF, CategoryH"
        ],
        [
         408,
         "Customer408",
         60,
         "Male",
         "ProductJ, ProductJ",
         "CategoryR, CategoryJ"
        ],
        [
         409,
         "Customer409",
         60,
         "Female",
         "ProductC, ProductU",
         "CategoryR, CategoryX"
        ],
        [
         410,
         "Customer410",
         55,
         "Female",
         "ProductJ, ProductT",
         "CategoryS, CategoryH"
        ],
        [
         411,
         "Customer411",
         30,
         "Male",
         "ProductO, ProductD",
         "CategoryX, CategoryF"
        ],
        [
         412,
         "Customer412",
         29,
         "Male",
         "ProductH, ProductG",
         "CategoryK, CategoryI"
        ],
        [
         413,
         "Customer413",
         39,
         "Female",
         "ProductP, ProductC",
         "CategoryR, CategoryE"
        ],
        [
         414,
         "Customer414",
         54,
         "Female",
         "ProductR, ProductO",
         "CategoryT, CategoryF"
        ],
        [
         415,
         "Customer415",
         54,
         "Female",
         "ProductC, ProductZ",
         "CategoryQ, CategoryE"
        ],
        [
         416,
         "Customer416",
         20,
         "Male",
         "ProductK, ProductN",
         "CategoryK, CategoryM"
        ],
        [
         417,
         "Customer417",
         31,
         "Female",
         "ProductI, ProductX",
         "CategoryO, CategoryB"
        ],
        [
         418,
         "Customer418",
         48,
         "Female",
         "ProductM, ProductN",
         "CategoryC, CategoryY"
        ],
        [
         419,
         "Customer419",
         48,
         "Female",
         "ProductP, ProductM",
         "CategoryO, CategoryI"
        ],
        [
         420,
         "Customer420",
         65,
         "Female",
         "ProductC, ProductT",
         "CategoryQ, CategoryU"
        ],
        [
         421,
         "Customer421",
         23,
         "Female",
         "ProductO, ProductY",
         "CategoryD, CategoryR"
        ],
        [
         422,
         "Customer422",
         27,
         "Female",
         "ProductR, ProductM",
         "CategoryL, CategoryT"
        ],
        [
         423,
         "Customer423",
         46,
         "Male",
         "ProductV, ProductH",
         "CategoryA, CategoryD"
        ],
        [
         424,
         "Customer424",
         52,
         "Female",
         "ProductZ, ProductP",
         "CategoryY, CategoryD"
        ],
        [
         425,
         "Customer425",
         52,
         "Female",
         "ProductG, ProductS",
         "CategoryW, CategoryI"
        ],
        [
         426,
         "Customer426",
         63,
         "Male",
         "ProductF, ProductY",
         "CategoryD, CategoryU"
        ],
        [
         427,
         "Customer427",
         47,
         "Male",
         "ProductD, ProductP",
         "CategoryP, CategoryG"
        ],
        [
         428,
         "Customer428",
         41,
         "Male",
         "ProductO, ProductS",
         "CategoryV, CategoryB"
        ],
        [
         429,
         "Customer429",
         57,
         "Female",
         "ProductL, ProductR",
         "CategoryB, CategoryG"
        ],
        [
         430,
         "Customer430",
         69,
         "Male",
         "ProductF, ProductK",
         "CategoryH, CategoryG"
        ],
        [
         431,
         "Customer431",
         41,
         "Male",
         "ProductL, ProductD",
         "CategoryH, CategoryZ"
        ],
        [
         432,
         "Customer432",
         27,
         "Female",
         "ProductI, ProductH",
         "CategoryO, CategoryV"
        ],
        [
         433,
         "Customer433",
         50,
         "Male",
         "ProductN, ProductF",
         "CategoryK, CategoryJ"
        ],
        [
         434,
         "Customer434",
         55,
         "Male",
         "ProductY, ProductN",
         "CategoryT, CategoryH"
        ],
        [
         435,
         "Customer435",
         26,
         "Female",
         "ProductI, ProductL",
         "CategoryD, CategoryL"
        ],
        [
         436,
         "Customer436",
         55,
         "Male",
         "ProductA, ProductK",
         "CategoryX, CategoryL"
        ],
        [
         437,
         "Customer437",
         38,
         "Female",
         "ProductN, ProductD",
         "CategoryY, CategoryK"
        ],
        [
         438,
         "Customer438",
         28,
         "Female",
         "ProductR, ProductM",
         "CategoryH, CategoryC"
        ],
        [
         439,
         "Customer439",
         49,
         "Female",
         "ProductK, ProductF",
         "CategoryR, CategoryU"
        ],
        [
         440,
         "Customer440",
         67,
         "Male",
         "ProductS, ProductS",
         "CategoryM, CategoryG"
        ],
        [
         441,
         "Customer441",
         53,
         "Female",
         "ProductG, ProductF",
         "CategoryH, CategoryU"
        ],
        [
         442,
         "Customer442",
         29,
         "Female",
         "ProductC, ProductT",
         "CategoryO, CategoryM"
        ],
        [
         443,
         "Customer443",
         62,
         "Female",
         "ProductD, ProductM",
         "CategoryX, CategoryE"
        ],
        [
         444,
         "Customer444",
         21,
         "Female",
         "ProductC, ProductO",
         "CategoryO, CategoryC"
        ],
        [
         445,
         "Customer445",
         56,
         "Male",
         "ProductP, ProductY",
         "CategoryZ, CategoryD"
        ],
        [
         446,
         "Customer446",
         46,
         "Male",
         "ProductV, ProductH",
         "CategoryY, CategoryX"
        ],
        [
         447,
         "Customer447",
         60,
         "Male",
         "ProductN, ProductD",
         "CategoryX, CategoryI"
        ],
        [
         448,
         "Customer448",
         64,
         "Male",
         "ProductI, ProductN",
         "CategoryO, CategoryF"
        ],
        [
         449,
         "Customer449",
         34,
         "Female",
         "ProductH, ProductX",
         "CategoryV, CategoryJ"
        ],
        [
         450,
         "Customer450",
         32,
         "Male",
         "ProductF, ProductM",
         "CategoryS, CategoryE"
        ],
        [
         451,
         "Customer451",
         55,
         "Female",
         "ProductV, ProductI",
         "CategoryY, CategoryW"
        ],
        [
         452,
         "Customer452",
         46,
         "Female",
         "ProductJ, ProductW",
         "CategoryJ, CategoryE"
        ],
        [
         453,
         "Customer453",
         54,
         "Female",
         "ProductP, ProductE",
         "CategoryD, CategoryC"
        ],
        [
         454,
         "Customer454",
         68,
         "Female",
         "ProductE, ProductZ",
         "CategoryM, CategoryL"
        ],
        [
         455,
         "Customer455",
         56,
         "Male",
         "ProductL, ProductF",
         "CategoryR, CategoryV"
        ],
        [
         456,
         "Customer456",
         24,
         "Female",
         "ProductG, ProductO",
         "CategoryB, CategoryM"
        ],
        [
         457,
         "Customer457",
         38,
         "Male",
         "ProductL, ProductJ",
         "CategoryL, CategoryC"
        ],
        [
         458,
         "Customer458",
         28,
         "Female",
         "ProductI, ProductV",
         "CategoryI, CategoryD"
        ],
        [
         459,
         "Customer459",
         53,
         "Female",
         "ProductJ, ProductE",
         "CategoryT, CategoryG"
        ],
        [
         460,
         "Customer460",
         23,
         "Male",
         "ProductG, ProductU",
         "CategoryF, CategoryQ"
        ],
        [
         461,
         "Customer461",
         47,
         "Female",
         "ProductM, ProductX",
         "CategoryF, CategoryG"
        ],
        [
         462,
         "Customer462",
         53,
         "Female",
         "ProductT, ProductF",
         "CategoryS, CategoryX"
        ],
        [
         463,
         "Customer463",
         43,
         "Female",
         "ProductM, ProductQ",
         "CategoryV, CategoryH"
        ],
        [
         464,
         "Customer464",
         66,
         "Female",
         "ProductX, ProductL",
         "CategoryM, CategoryZ"
        ],
        [
         465,
         "Customer465",
         48,
         "Female",
         "ProductM, ProductW",
         "CategoryX, CategoryB"
        ],
        [
         466,
         "Customer466",
         39,
         "Female",
         "ProductV, ProductW",
         "CategoryV, CategoryN"
        ],
        [
         467,
         "Customer467",
         29,
         "Male",
         "ProductV, ProductI",
         "CategoryB, CategoryJ"
        ],
        [
         468,
         "Customer468",
         50,
         "Female",
         "ProductV, ProductK",
         "CategoryN, CategoryK"
        ],
        [
         469,
         "Customer469",
         40,
         "Female",
         "ProductW, ProductY",
         "CategoryC, CategoryQ"
        ],
        [
         470,
         "Customer470",
         64,
         "Female",
         "ProductB, ProductN",
         "CategoryM, CategoryV"
        ],
        [
         471,
         "Customer471",
         55,
         "Male",
         "ProductD, ProductL",
         "CategoryT, CategoryQ"
        ],
        [
         472,
         "Customer472",
         60,
         "Male",
         "ProductB, ProductA",
         "CategoryW, CategoryI"
        ],
        [
         473,
         "Customer473",
         67,
         "Female",
         "ProductX, ProductL",
         "CategoryM, CategoryX"
        ],
        [
         474,
         "Customer474",
         35,
         "Female",
         "ProductM, ProductJ",
         "CategoryJ, CategoryU"
        ],
        [
         475,
         "Customer475",
         65,
         "Male",
         "ProductN, ProductO",
         "CategoryE, CategoryC"
        ],
        [
         476,
         "Customer476",
         67,
         "Male",
         "ProductN, ProductF",
         "CategoryK, CategoryJ"
        ],
        [
         477,
         "Customer477",
         52,
         "Male",
         "ProductU, ProductQ",
         "CategoryQ, CategoryL"
        ],
        [
         478,
         "Customer478",
         30,
         "Female",
         "ProductW, ProductI",
         "CategoryX, CategoryR"
        ],
        [
         479,
         "Customer479",
         51,
         "Male",
         "ProductJ, ProductT",
         "CategoryP, CategoryU"
        ],
        [
         480,
         "Customer480",
         26,
         "Male",
         "ProductY, ProductA",
         "CategoryF, CategoryW"
        ],
        [
         481,
         "Customer481",
         66,
         "Female",
         "ProductS, ProductY",
         "CategoryP, CategoryD"
        ],
        [
         482,
         "Customer482",
         57,
         "Male",
         "ProductO, ProductU",
         "CategoryF, CategoryS"
        ],
        [
         483,
         "Customer483",
         22,
         "Female",
         "ProductU, ProductZ",
         "CategoryO, CategoryX"
        ],
        [
         484,
         "Customer484",
         67,
         "Female",
         "ProductR, ProductR",
         "CategoryJ, CategoryT"
        ],
        [
         485,
         "Customer485",
         53,
         "Male",
         "ProductH, ProductF",
         "CategoryD, CategoryA"
        ],
        [
         486,
         "Customer486",
         58,
         "Female",
         "ProductK, ProductU",
         "CategoryU, CategoryR"
        ],
        [
         487,
         "Customer487",
         67,
         "Female",
         "ProductK, ProductD",
         "CategoryI, CategoryI"
        ],
        [
         488,
         "Customer488",
         55,
         "Male",
         "ProductE, ProductM",
         "CategoryW, CategoryY"
        ],
        [
         489,
         "Customer489",
         26,
         "Female",
         "ProductM, ProductD",
         "CategoryE, CategoryL"
        ],
        [
         490,
         "Customer490",
         52,
         "Female",
         "ProductW, ProductM",
         "CategoryV, CategoryR"
        ],
        [
         491,
         "Customer491",
         66,
         "Female",
         "ProductW, ProductV",
         "CategoryO, CategoryG"
        ],
        [
         492,
         "Customer492",
         50,
         "Male",
         "ProductL, ProductK",
         "CategoryT, CategoryQ"
        ],
        [
         493,
         "Customer493",
         65,
         "Female",
         "ProductD, ProductY",
         "CategoryL, CategoryH"
        ],
        [
         494,
         "Customer494",
         26,
         "Female",
         "ProductF, ProductV",
         "CategoryO, CategoryJ"
        ],
        [
         495,
         "Customer495",
         25,
         "Male",
         "ProductU, ProductT",
         "CategoryJ, CategoryN"
        ],
        [
         496,
         "Customer496",
         46,
         "Male",
         "ProductU, ProductT",
         "CategoryK, CategoryR"
        ],
        [
         497,
         "Customer497",
         30,
         "Female",
         "ProductF, ProductD",
         "CategoryC, CategoryB"
        ],
        [
         498,
         "Customer498",
         63,
         "Male",
         "ProductO, ProductF",
         "CategoryF, CategoryM"
        ],
        [
         499,
         "Customer499",
         55,
         "Male",
         "ProductH, ProductG",
         "CategoryI, CategoryV"
        ],
        [
         500,
         "Customer500",
         37,
         "Male",
         "ProductO, ProductK",
         "CategoryH, CategoryI"
        ],
        [
         501,
         "Customer501",
         60,
         "Female",
         "ProductN, ProductQ",
         "CategoryQ, CategoryF"
        ],
        [
         502,
         "Customer502",
         28,
         "Male",
         "ProductN, ProductX",
         "CategoryC, CategoryS"
        ],
        [
         503,
         "Customer503",
         34,
         "Male",
         "ProductP, ProductF",
         "CategoryE, CategoryG"
        ],
        [
         504,
         "Customer504",
         55,
         "Female",
         "ProductT, ProductO",
         "CategoryM, CategoryR"
        ],
        [
         505,
         "Customer505",
         69,
         "Female",
         "ProductH, ProductW",
         "CategoryQ, CategoryN"
        ],
        [
         506,
         "Customer506",
         52,
         "Female",
         "ProductM, ProductK",
         "CategoryO, CategoryP"
        ],
        [
         507,
         "Customer507",
         38,
         "Female",
         "ProductU, ProductD",
         "CategoryF, CategoryO"
        ],
        [
         508,
         "Customer508",
         34,
         "Female",
         "ProductS, ProductL",
         "CategoryZ, CategoryR"
        ],
        [
         509,
         "Customer509",
         43,
         "Male",
         "ProductW, ProductS",
         "CategoryV, CategoryB"
        ],
        [
         510,
         "Customer510",
         58,
         "Female",
         "ProductC, ProductL",
         "CategoryW, CategoryE"
        ],
        [
         511,
         "Customer511",
         27,
         "Male",
         "ProductL, ProductT",
         "CategoryM, CategoryE"
        ],
        [
         512,
         "Customer512",
         36,
         "Male",
         "ProductQ, ProductV",
         "CategoryJ, CategoryF"
        ],
        [
         513,
         "Customer513",
         63,
         "Female",
         "ProductD, ProductJ",
         "CategoryN, CategoryM"
        ],
        [
         514,
         "Customer514",
         63,
         "Female",
         "ProductO, ProductG",
         "CategoryP, CategoryH"
        ],
        [
         515,
         "Customer515",
         50,
         "Male",
         "ProductD, ProductZ",
         "CategoryP, CategoryB"
        ],
        [
         516,
         "Customer516",
         43,
         "Male",
         "ProductM, ProductU",
         "CategoryO, CategoryJ"
        ],
        [
         517,
         "Customer517",
         30,
         "Female",
         "ProductV, ProductO",
         "CategoryI, CategoryV"
        ],
        [
         518,
         "Customer518",
         38,
         "Male",
         "ProductV, ProductS",
         "CategoryZ, CategoryV"
        ],
        [
         519,
         "Customer519",
         29,
         "Male",
         "ProductM, ProductG",
         "CategoryR, CategoryS"
        ],
        [
         520,
         "Customer520",
         45,
         "Male",
         "ProductJ, ProductR",
         "CategoryI, CategoryM"
        ],
        [
         521,
         "Customer521",
         47,
         "Male",
         "ProductN, ProductY",
         "CategoryG, CategoryI"
        ],
        [
         522,
         "Customer522",
         66,
         "Female",
         "ProductF, ProductI",
         "CategoryX, CategoryP"
        ],
        [
         523,
         "Customer523",
         33,
         "Female",
         "ProductY, ProductD",
         "CategoryU, CategoryQ"
        ],
        [
         524,
         "Customer524",
         62,
         "Male",
         "ProductS, ProductV",
         "CategoryA, CategoryO"
        ],
        [
         525,
         "Customer525",
         62,
         "Female",
         "ProductZ, ProductL",
         "CategoryI, CategoryE"
        ],
        [
         526,
         "Customer526",
         60,
         "Female",
         "ProductO, ProductX",
         "CategoryB, CategoryI"
        ],
        [
         527,
         "Customer527",
         51,
         "Male",
         "ProductP, ProductS",
         "CategoryT, CategoryS"
        ],
        [
         528,
         "Customer528",
         33,
         "Male",
         "ProductY, ProductI",
         "CategoryS, CategoryR"
        ],
        [
         529,
         "Customer529",
         32,
         "Male",
         "ProductE, ProductF",
         "CategoryO, CategoryH"
        ],
        [
         530,
         "Customer530",
         53,
         "Male",
         "ProductI, ProductF",
         "CategoryC, CategoryV"
        ],
        [
         531,
         "Customer531",
         65,
         "Female",
         "ProductH, ProductJ",
         "CategoryY, CategoryR"
        ],
        [
         532,
         "Customer532",
         46,
         "Female",
         "ProductK, ProductF",
         "CategoryT, CategoryF"
        ],
        [
         533,
         "Customer533",
         53,
         "Female",
         "ProductA, ProductP",
         "CategoryA, CategoryG"
        ],
        [
         534,
         "Customer534",
         28,
         "Male",
         "ProductV, ProductC",
         "CategoryU, CategoryT"
        ],
        [
         535,
         "Customer535",
         39,
         "Female",
         "ProductC, ProductM",
         "CategoryC, CategoryC"
        ],
        [
         536,
         "Customer536",
         29,
         "Female",
         "ProductK, ProductF",
         "CategoryX, CategoryW"
        ],
        [
         537,
         "Customer537",
         53,
         "Female",
         "ProductN, ProductN",
         "CategoryZ, CategoryK"
        ],
        [
         538,
         "Customer538",
         24,
         "Male",
         "ProductQ, ProductQ",
         "CategoryF, CategoryF"
        ],
        [
         539,
         "Customer539",
         41,
         "Male",
         "ProductA, ProductR",
         "CategoryI, CategoryR"
        ],
        [
         540,
         "Customer540",
         38,
         "Female",
         "ProductQ, ProductY",
         "CategoryV, CategoryL"
        ],
        [
         541,
         "Customer541",
         50,
         "Female",
         "ProductO, ProductT",
         "CategoryC, CategoryG"
        ],
        [
         542,
         "Customer542",
         62,
         "Male",
         "ProductX, ProductF",
         "CategoryG, CategoryP"
        ],
        [
         543,
         "Customer543",
         32,
         "Male",
         "ProductN, ProductH",
         "CategoryU, CategoryD"
        ],
        [
         544,
         "Customer544",
         32,
         "Female",
         "ProductJ, ProductL",
         "CategoryB, CategoryX"
        ],
        [
         545,
         "Customer545",
         45,
         "Female",
         "ProductX, ProductP",
         "CategoryG, CategoryJ"
        ],
        [
         546,
         "Customer546",
         21,
         "Male",
         "ProductE, ProductR",
         "CategoryY, CategoryS"
        ],
        [
         547,
         "Customer547",
         60,
         "Female",
         "ProductS, ProductB",
         "CategoryE, CategoryQ"
        ],
        [
         548,
         "Customer548",
         56,
         "Female",
         "ProductF, ProductB",
         "CategoryO, CategoryS"
        ],
        [
         549,
         "Customer549",
         63,
         "Male",
         "ProductK, ProductL",
         "CategoryB, CategoryU"
        ],
        [
         550,
         "Customer550",
         69,
         "Male",
         "ProductE, ProductQ",
         "CategoryP, CategoryE"
        ],
        [
         551,
         "Customer551",
         65,
         "Male",
         "ProductP, ProductV",
         "CategoryJ, CategoryJ"
        ],
        [
         552,
         "Customer552",
         53,
         "Male",
         "ProductI, ProductT",
         "CategoryV, CategoryX"
        ],
        [
         553,
         "Customer553",
         27,
         "Female",
         "ProductE, ProductD",
         "CategoryC, CategoryC"
        ],
        [
         554,
         "Customer554",
         25,
         "Male",
         "ProductB, ProductK",
         "CategoryV, CategoryC"
        ],
        [
         555,
         "Customer555",
         64,
         "Male",
         "ProductW, ProductD",
         "CategoryA, CategoryQ"
        ],
        [
         556,
         "Customer556",
         32,
         "Male",
         "ProductK, ProductJ",
         "CategoryQ, CategoryZ"
        ],
        [
         557,
         "Customer557",
         25,
         "Female",
         "ProductK, ProductL",
         "CategoryA, CategoryS"
        ],
        [
         558,
         "Customer558",
         48,
         "Female",
         "ProductL, ProductI",
         "CategoryF, CategoryE"
        ],
        [
         559,
         "Customer559",
         28,
         "Male",
         "ProductA, ProductF",
         "CategoryY, CategoryD"
        ],
        [
         560,
         "Customer560",
         58,
         "Male",
         "ProductZ, ProductO",
         "CategoryU, CategoryI"
        ],
        [
         561,
         "Customer561",
         30,
         "Male",
         "ProductP, ProductV",
         "CategoryL, CategoryR"
        ],
        [
         562,
         "Customer562",
         21,
         "Male",
         "ProductN, ProductF",
         "CategoryM, CategoryU"
        ],
        [
         563,
         "Customer563",
         46,
         "Male",
         "ProductP, ProductH",
         "CategoryN, CategoryW"
        ],
        [
         564,
         "Customer564",
         63,
         "Female",
         "ProductN, ProductS",
         "CategoryY, CategoryT"
        ],
        [
         565,
         "Customer565",
         67,
         "Male",
         "ProductE, ProductO",
         "CategoryI, CategoryX"
        ],
        [
         566,
         "Customer566",
         55,
         "Female",
         "ProductI, ProductO",
         "CategoryX, CategoryU"
        ],
        [
         567,
         "Customer567",
         34,
         "Female",
         "ProductE, ProductS",
         "CategoryE, CategoryR"
        ],
        [
         568,
         "Customer568",
         66,
         "Female",
         "ProductZ, ProductH",
         "CategoryM, CategoryL"
        ],
        [
         569,
         "Customer569",
         65,
         "Male",
         "ProductU, ProductT",
         "CategoryJ, CategoryN"
        ],
        [
         570,
         "Customer570",
         48,
         "Male",
         "ProductI, ProductB",
         "CategoryE, CategoryR"
        ],
        [
         571,
         "Customer571",
         70,
         "Female",
         "ProductP, ProductG",
         "CategoryI, CategoryX"
        ],
        [
         572,
         "Customer572",
         56,
         "Female",
         "ProductY, ProductK",
         "CategoryY, CategoryT"
        ],
        [
         573,
         "Customer573",
         59,
         "Female",
         "ProductB, ProductD",
         "CategoryN, CategoryG"
        ],
        [
         574,
         "Customer574",
         51,
         "Male",
         "ProductZ, ProductW",
         "CategoryK, CategoryI"
        ],
        [
         575,
         "Customer575",
         38,
         "Female",
         "ProductG, ProductN",
         "CategoryB, CategoryM"
        ],
        [
         576,
         "Customer576",
         40,
         "Female",
         "ProductM, ProductV",
         "CategoryU, CategoryL"
        ],
        [
         577,
         "Customer577",
         58,
         "Female",
         "ProductI, ProductB",
         "CategoryH, CategoryF"
        ],
        [
         578,
         "Customer578",
         33,
         "Female",
         "ProductN, ProductP",
         "CategoryM, CategoryQ"
        ],
        [
         579,
         "Customer579",
         55,
         "Female",
         "ProductX, ProductS",
         "CategoryW, CategoryH"
        ],
        [
         580,
         "Customer580",
         59,
         "Male",
         "ProductY, ProductQ",
         "CategoryI, CategoryQ"
        ],
        [
         581,
         "Customer581",
         36,
         "Female",
         "ProductJ, ProductU",
         "CategoryZ, CategoryO"
        ],
        [
         582,
         "Customer582",
         55,
         "Female",
         "ProductJ, ProductC",
         "CategoryI, CategoryJ"
        ],
        [
         583,
         "Customer583",
         60,
         "Female",
         "ProductM, ProductN",
         "CategoryE, CategoryF"
        ],
        [
         584,
         "Customer584",
         49,
         "Male",
         "ProductR, ProductM",
         "CategoryK, CategoryP"
        ],
        [
         585,
         "Customer585",
         62,
         "Male",
         "ProductJ, ProductP",
         "CategoryX, CategoryV"
        ],
        [
         586,
         "Customer586",
         40,
         "Female",
         "ProductM, ProductV",
         "CategoryT, CategoryF"
        ],
        [
         587,
         "Customer587",
         60,
         "Male",
         "ProductI, ProductQ",
         "CategoryH, CategoryK"
        ],
        [
         588,
         "Customer588",
         30,
         "Female",
         "ProductE, ProductO",
         "CategoryI, CategoryY"
        ],
        [
         589,
         "Customer589",
         64,
         "Male",
         "ProductP, ProductQ",
         "CategoryL, CategoryF"
        ],
        [
         590,
         "Customer590",
         54,
         "Female",
         "ProductG, ProductR",
         "CategoryS, CategoryL"
        ],
        [
         591,
         "Customer591",
         26,
         "Male",
         "ProductT, ProductC",
         "CategoryE, CategoryO"
        ],
        [
         592,
         "Customer592",
         38,
         "Male",
         "ProductG, ProductY",
         "CategoryE, CategoryW"
        ],
        [
         593,
         "Customer593",
         65,
         "Female",
         "ProductT, ProductE",
         "CategoryL, CategoryR"
        ],
        [
         594,
         "Customer594",
         29,
         "Female",
         "ProductS, ProductY",
         "CategoryS, CategoryT"
        ],
        [
         595,
         "Customer595",
         47,
         "Male",
         "ProductO, ProductM",
         "CategoryR, CategoryB"
        ],
        [
         596,
         "Customer596",
         28,
         "Female",
         "ProductS, ProductQ",
         "CategoryA, CategoryE"
        ],
        [
         597,
         "Customer597",
         55,
         "Male",
         "ProductL, ProductW",
         "CategoryC, CategoryV"
        ],
        [
         598,
         "Customer598",
         63,
         "Female",
         "ProductI, ProductI",
         "CategoryQ, CategoryE"
        ],
        [
         599,
         "Customer599",
         68,
         "Male",
         "ProductT, ProductS",
         "CategoryK, CategoryT"
        ],
        [
         600,
         "Customer600",
         48,
         "Female",
         "ProductI, ProductS",
         "CategoryS, CategoryJ"
        ],
        [
         601,
         "Customer601",
         55,
         "Male",
         "ProductB, ProductW",
         "CategoryJ, CategoryF"
        ],
        [
         602,
         "Customer602",
         63,
         "Female",
         "ProductX, ProductL",
         "CategoryK, CategoryS"
        ],
        [
         603,
         "Customer603",
         41,
         "Female",
         "ProductP, ProductB",
         "CategoryJ, CategoryT"
        ],
        [
         604,
         "Customer604",
         58,
         "Male",
         "ProductY, ProductK",
         "CategoryE, CategoryQ"
        ],
        [
         605,
         "Customer605",
         56,
         "Female",
         "ProductC, ProductN",
         "CategoryJ, CategoryH"
        ],
        [
         606,
         "Customer606",
         36,
         "Female",
         "ProductQ, ProductC",
         "CategoryK, CategoryW"
        ],
        [
         607,
         "Customer607",
         23,
         "Female",
         "ProductN, ProductI",
         "CategoryE, CategoryU"
        ],
        [
         608,
         "Customer608",
         41,
         "Female",
         "ProductP, ProductR",
         "CategoryN, CategoryR"
        ],
        [
         609,
         "Customer609",
         63,
         "Male",
         "ProductQ, ProductK",
         "CategoryC, CategoryE"
        ],
        [
         610,
         "Customer610",
         53,
         "Female",
         "ProductB, ProductS",
         "CategoryN, CategoryN"
        ],
        [
         611,
         "Customer611",
         69,
         "Male",
         "ProductW, ProductI",
         "CategoryY, CategoryT"
        ],
        [
         612,
         "Customer612",
         69,
         "Female",
         "ProductF, ProductD",
         "CategoryC, CategoryX"
        ],
        [
         613,
         "Customer613",
         40,
         "Male",
         "ProductZ, ProductG",
         "CategoryF, CategoryI"
        ],
        [
         614,
         "Customer614",
         68,
         "Female",
         "ProductM, ProductS",
         "CategoryG, CategoryC"
        ],
        [
         615,
         "Customer615",
         54,
         "Male",
         "ProductS, ProductD",
         "CategoryM, CategoryY"
        ],
        [
         616,
         "Customer616",
         40,
         "Male",
         "ProductJ, ProductK",
         "CategoryY, CategoryQ"
        ],
        [
         617,
         "Customer617",
         33,
         "Male",
         "ProductI, ProductJ",
         "CategoryT, CategoryR"
        ],
        [
         618,
         "Customer618",
         32,
         "Male",
         "ProductV, ProductX",
         "CategoryD, CategoryT"
        ],
        [
         619,
         "Customer619",
         40,
         "Female",
         "ProductS, ProductE",
         "CategoryT, CategoryI"
        ],
        [
         620,
         "Customer620",
         33,
         "Male",
         "ProductC, ProductI",
         "CategoryJ, CategoryV"
        ],
        [
         621,
         "Customer621",
         26,
         "Male",
         "ProductW, ProductI",
         "CategoryX, CategoryQ"
        ],
        [
         622,
         "Customer622",
         38,
         "Female",
         "ProductR, ProductP",
         "CategoryW, CategoryR"
        ],
        [
         623,
         "Customer623",
         53,
         "Male",
         "ProductS, ProductO",
         "CategoryP, CategoryH"
        ],
        [
         624,
         "Customer624",
         54,
         "Female",
         "ProductN, ProductA",
         "CategoryN, CategoryO"
        ],
        [
         625,
         "Customer625",
         31,
         "Male",
         "ProductL, ProductY",
         "CategoryM, CategoryL"
        ],
        [
         626,
         "Customer626",
         59,
         "Female",
         "ProductP, ProductF",
         "CategoryF, CategoryJ"
        ],
        [
         627,
         "Customer627",
         28,
         "Female",
         "ProductL, ProductU",
         "CategoryQ, CategoryV"
        ],
        [
         628,
         "Customer628",
         31,
         "Female",
         "ProductI, ProductX",
         "CategoryN, CategoryY"
        ],
        [
         629,
         "Customer629",
         30,
         "Male",
         "ProductX, ProductG",
         "CategoryN, CategoryV"
        ],
        [
         630,
         "Customer630",
         51,
         "Female",
         "ProductY, ProductC",
         "CategoryP, CategoryT"
        ],
        [
         631,
         "Customer631",
         65,
         "Male",
         "ProductP, ProductF",
         "CategoryF, CategoryK"
        ],
        [
         632,
         "Customer632",
         41,
         "Female",
         "ProductG, ProductO",
         "CategoryA, CategoryK"
        ],
        [
         633,
         "Customer633",
         21,
         "Female",
         "ProductH, ProductT",
         "CategoryY, CategoryN"
        ],
        [
         634,
         "Customer634",
         60,
         "Male",
         "ProductR, ProductF",
         "CategoryY, CategoryE"
        ],
        [
         635,
         "Customer635",
         63,
         "Female",
         "ProductQ, ProductQ",
         "CategoryI, CategoryP"
        ],
        [
         636,
         "Customer636",
         27,
         "Female",
         "ProductX, ProductB",
         "CategoryL, CategoryZ"
        ],
        [
         637,
         "Customer637",
         55,
         "Female",
         "ProductQ, ProductN",
         "CategoryQ, CategoryR"
        ],
        [
         638,
         "Customer638",
         47,
         "Female",
         "ProductI, ProductU",
         "CategoryC, CategoryZ"
        ],
        [
         639,
         "Customer639",
         56,
         "Female",
         "ProductD, ProductQ",
         "CategoryW, CategoryK"
        ],
        [
         640,
         "Customer640",
         35,
         "Male",
         "ProductZ, ProductU",
         "CategoryD, CategoryC"
        ],
        [
         641,
         "Customer641",
         26,
         "Male",
         "ProductE, ProductY",
         "CategoryG, CategoryK"
        ],
        [
         642,
         "Customer642",
         35,
         "Male",
         "ProductL, ProductL",
         "CategoryU, CategoryQ"
        ],
        [
         643,
         "Customer643",
         65,
         "Female",
         "ProductV, ProductT",
         "CategoryH, CategoryD"
        ],
        [
         644,
         "Customer644",
         59,
         "Male",
         "ProductC, ProductB",
         "CategoryV, CategoryE"
        ],
        [
         645,
         "Customer645",
         33,
         "Female",
         "ProductJ, ProductG",
         "CategoryD, CategoryZ"
        ],
        [
         646,
         "Customer646",
         45,
         "Female",
         "ProductJ, ProductD",
         "CategoryM, CategoryB"
        ],
        [
         647,
         "Customer647",
         60,
         "Female",
         "ProductX, ProductB",
         "CategoryM, CategoryF"
        ],
        [
         648,
         "Customer648",
         49,
         "Male",
         "ProductW, ProductJ",
         "CategoryF, CategoryW"
        ],
        [
         649,
         "Customer649",
         59,
         "Male",
         "ProductE, ProductY",
         "CategoryI, CategoryQ"
        ],
        [
         650,
         "Customer650",
         32,
         "Male",
         "ProductU, ProductA",
         "CategoryS, CategoryO"
        ],
        [
         651,
         "Customer651",
         49,
         "Male",
         "ProductM, ProductQ",
         "CategoryS, CategoryT"
        ],
        [
         652,
         "Customer652",
         52,
         "Female",
         "ProductT, ProductX",
         "CategoryK, CategoryE"
        ],
        [
         653,
         "Customer653",
         55,
         "Male",
         "ProductX, ProductQ",
         "CategoryJ, CategoryV"
        ],
        [
         654,
         "Customer654",
         29,
         "Male",
         "ProductF, ProductY",
         "CategoryE, CategoryB"
        ],
        [
         655,
         "Customer655",
         52,
         "Male",
         "ProductK, ProductU",
         "CategoryW, CategoryB"
        ],
        [
         656,
         "Customer656",
         44,
         "Male",
         "ProductY, ProductW",
         "CategoryQ, CategoryO"
        ],
        [
         657,
         "Customer657",
         60,
         "Male",
         "ProductO, ProductO",
         "CategoryF, CategoryI"
        ],
        [
         658,
         "Customer658",
         20,
         "Male",
         "ProductE, ProductT",
         "CategoryF, CategoryT"
        ],
        [
         659,
         "Customer659",
         31,
         "Female",
         "ProductM, ProductX",
         "CategoryF, CategoryE"
        ],
        [
         660,
         "Customer660",
         31,
         "Female",
         "ProductI, ProductU",
         "CategoryA, CategoryS"
        ],
        [
         661,
         "Customer661",
         45,
         "Male",
         "ProductH, ProductJ",
         "CategoryY, CategoryQ"
        ],
        [
         662,
         "Customer662",
         41,
         "Male",
         "ProductO, ProductF",
         "CategoryL, CategoryQ"
        ],
        [
         663,
         "Customer663",
         61,
         "Male",
         "ProductM, ProductU",
         "CategoryQ, CategoryU"
        ],
        [
         664,
         "Customer664",
         26,
         "Male",
         "ProductM, ProductX",
         "CategoryF, CategoryE"
        ],
        [
         665,
         "Customer665",
         35,
         "Male",
         "ProductD, ProductN",
         "CategoryG, CategoryT"
        ],
        [
         666,
         "Customer666",
         67,
         "Female",
         "ProductS, ProductB",
         "CategoryA, CategoryX"
        ],
        [
         667,
         "Customer667",
         52,
         "Male",
         "ProductG, ProductY",
         "CategoryB, CategoryG"
        ],
        [
         668,
         "Customer668",
         30,
         "Male",
         "ProductL, ProductO",
         "CategoryM, CategoryU"
        ],
        [
         669,
         "Customer669",
         42,
         "Female",
         "ProductW, ProductW",
         "CategoryT, CategoryD"
        ],
        [
         670,
         "Customer670",
         36,
         "Male",
         "ProductN, ProductQ",
         "CategoryR, CategoryL"
        ],
        [
         671,
         "Customer671",
         30,
         "Female",
         "ProductV, ProductF",
         "CategoryM, CategoryS"
        ],
        [
         672,
         "Customer672",
         31,
         "Female",
         "ProductW, ProductQ",
         "CategoryP, CategoryE"
        ],
        [
         673,
         "Customer673",
         65,
         "Male",
         "ProductN, ProductK",
         "CategoryO, CategoryN"
        ],
        [
         674,
         "Customer674",
         63,
         "Female",
         "ProductL, ProductT",
         "CategoryL, CategoryX"
        ],
        [
         675,
         "Customer675",
         38,
         "Female",
         "ProductX, ProductO",
         "CategoryE, CategoryA"
        ],
        [
         676,
         "Customer676",
         50,
         "Male",
         "ProductF, ProductA",
         "CategoryL, CategoryF"
        ],
        [
         677,
         "Customer677",
         50,
         "Male",
         "ProductI, ProductJ",
         "CategoryW, CategoryG"
        ],
        [
         678,
         "Customer678",
         47,
         "Male",
         "ProductN, ProductM",
         "CategoryX, CategoryF"
        ],
        [
         679,
         "Customer679",
         29,
         "Male",
         "ProductX, ProductT",
         "CategoryX, CategoryM"
        ],
        [
         680,
         "Customer680",
         46,
         "Male",
         "ProductM, ProductT",
         "CategoryI, CategoryI"
        ],
        [
         681,
         "Customer681",
         50,
         "Male",
         "ProductO, ProductQ",
         "CategoryN, CategoryP"
        ],
        [
         682,
         "Customer682",
         40,
         "Male",
         "ProductC, ProductP",
         "CategoryS, CategoryU"
        ],
        [
         683,
         "Customer683",
         62,
         "Female",
         "ProductP, ProductN",
         "CategoryV, CategoryQ"
        ],
        [
         684,
         "Customer684",
         57,
         "Female",
         "ProductN, ProductI",
         "CategoryB, CategoryG"
        ],
        [
         685,
         "Customer685",
         21,
         "Male",
         "ProductG, ProductV",
         "CategoryJ, CategoryK"
        ],
        [
         686,
         "Customer686",
         65,
         "Male",
         "ProductT, ProductY",
         "CategoryO, CategoryU"
        ],
        [
         687,
         "Customer687",
         41,
         "Female",
         "ProductE, ProductS",
         "CategoryC, CategoryG"
        ],
        [
         688,
         "Customer688",
         68,
         "Male",
         "ProductT, ProductI",
         "CategoryK, CategoryA"
        ],
        [
         689,
         "Customer689",
         64,
         "Male",
         "ProductZ, ProductZ",
         "CategoryA, CategoryC"
        ],
        [
         690,
         "Customer690",
         42,
         "Female",
         "ProductB, ProductQ",
         "CategoryC, CategoryK"
        ],
        [
         691,
         "Customer691",
         62,
         "Female",
         "ProductJ, ProductW",
         "CategoryG, CategoryR"
        ],
        [
         692,
         "Customer692",
         54,
         "Male",
         "ProductO, ProductU",
         "CategoryK, CategoryO"
        ],
        [
         693,
         "Customer693",
         52,
         "Male",
         "ProductL, ProductW",
         "CategoryZ, CategoryH"
        ],
        [
         694,
         "Customer694",
         47,
         "Female",
         "ProductJ, ProductK",
         "CategoryY, CategoryP"
        ],
        [
         695,
         "Customer695",
         28,
         "Female",
         "ProductI, ProductT",
         "CategoryT, CategoryP"
        ],
        [
         696,
         "Customer696",
         54,
         "Female",
         "ProductE, ProductU",
         "CategoryN, CategoryG"
        ],
        [
         697,
         "Customer697",
         55,
         "Female",
         "ProductM, ProductI",
         "CategoryD, CategoryQ"
        ],
        [
         698,
         "Customer698",
         58,
         "Female",
         "ProductN, ProductS",
         "CategoryY, CategoryS"
        ],
        [
         699,
         "Customer699",
         55,
         "Male",
         "ProductO, ProductV",
         "CategoryM, CategoryX"
        ],
        [
         700,
         "Customer700",
         25,
         "Female",
         "ProductM, ProductF",
         "CategoryP, CategoryH"
        ]
       ],
       "datasetInfos": [],
       "dbfsResultPath": null,
       "isJsonSchema": true,
       "metadata": {},
       "overflow": false,
       "plotOptions": {
        "customPlotOptions": {},
        "displayType": "table",
        "pivotAggregation": null,
        "pivotColumns": null,
        "xColumns": null,
        "yColumns": null
       },
       "removedWidgets": [],
       "schema": [
        {
         "metadata": "{\"scale\":0}",
         "name": "CustomerID",
         "type": "\"integer\""
        },
        {
         "metadata": "{\"__CHAR_VARCHAR_TYPE_STRING\":\"varchar(100)\",\"scale\":0}",
         "name": "Name",
         "type": "\"string\""
        },
        {
         "metadata": "{\"scale\":0}",
         "name": "Age",
         "type": "\"integer\""
        },
        {
         "metadata": "{\"__CHAR_VARCHAR_TYPE_STRING\":\"varchar(10)\",\"scale\":0}",
         "name": "Gender",
         "type": "\"string\""
        },
        {
         "metadata": "{\"__CHAR_VARCHAR_TYPE_STRING\":\"varchar(100)\",\"scale\":0}",
         "name": "PurchaseHistory",
         "type": "\"string\""
        },
        {
         "metadata": "{\"__CHAR_VARCHAR_TYPE_STRING\":\"varchar(100)\",\"scale\":0}",
         "name": "Preferences",
         "type": "\"string\""
        }
       ],
       "type": "table"
      }
     },
     "output_type": "display_data"
    }
   ],
   "source": [
    "from pyspark.sql import SparkSession\n",
    "# Initialize the SparkSession\n",
    "spark = SparkSession.builder \\\n",
    "    .appName(\"MySQL to SQL Database Transfer\") \\\n",
    "    .getOrCreate()\n",
    "\n",
    "\n",
    "# JDBC URL for MySQL\n",
    "mysql_url = \"jdbc:mysql://otherservername.mysql.database.azure.com:3306/newdatabase\"\n",
    "mysql_properties = {\n",
    "    \"user\": \"rakshitha\",\n",
    "    \"password\": \"Vasavi@06\",\n",
    "    \"driver\": \"com.mysql.cj.jdbc.Driver\"\n",
    "}\n",
    "\n",
    "\n",
    "# JDBC URL for SQL Server\n",
    "sqlserver_url = \"jdbc:sqlserver://azureserverrakshitha.database.windows.net:1433;database=SqlDatabase\"\n",
    "sqlserver_properties = {\n",
    "    \"user\": \"rakshitha\",\n",
    "    \"password\": \"Vasavi@06\",\n",
    "    \"driver\": \"com.microsoft.sqlserver.jdbc.SQLServerDriver\"\n",
    "}\n",
    "\n",
    "# Read data from MySQL\n",
    "df = spark.read.jdbc(url=mysql_url, table=\"CustomerData\", properties=mysql_properties)\n",
    "\n",
    "display(df)\n",
    "df.write.jdbc(url=sqlserver_url, table=\"SourceCustomerData\", mode=\"append\", properties=sqlserver_properties)\n"
   ]
  }
 ],
 "metadata": {
  "application/vnd.databricks.v1+notebook": {
   "dashboards": [],
   "environmentMetadata": null,
   "language": "python",
   "notebookMetadata": {
    "pythonIndentUnit": 4
   },
   "notebookName": "CustomerData_DatabaseConnector.py",
   "widgets": {}
  }
 },
 "nbformat": 4,
 "nbformat_minor": 0
}
